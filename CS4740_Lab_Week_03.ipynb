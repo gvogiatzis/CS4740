{
  "nbformat": 4,
  "nbformat_minor": 0,
  "metadata": {
    "colab": {
      "name": "CS4740_Lab_Week_03.ipynb",
      "provenance": [],
      "collapsed_sections": [],
      "authorship_tag": "ABX9TyNnmP1B/vzOc2MtUuULsjBw",
      "include_colab_link": true
    },
    "kernelspec": {
      "name": "python3",
      "display_name": "Python 3"
    },
    "accelerator": "GPU",
    "widgets": {
      "application/vnd.jupyter.widget-state+json": {
        "59e45edcd32d4fac9228c7efd59d031a": {
          "model_module": "@jupyter-widgets/controls",
          "model_name": "HBoxModel",
          "state": {
            "_view_name": "HBoxView",
            "_dom_classes": [],
            "_model_name": "HBoxModel",
            "_view_module": "@jupyter-widgets/controls",
            "_model_module_version": "1.5.0",
            "_view_count": null,
            "_view_module_version": "1.5.0",
            "box_style": "",
            "layout": "IPY_MODEL_dd7965d5f7e042d6bbc47f8eba5fe603",
            "_model_module": "@jupyter-widgets/controls",
            "children": [
              "IPY_MODEL_b788cd4291324093b21d9044da348ad3",
              "IPY_MODEL_992429d7a83a4613a5fb1e5d190c45f9"
            ]
          }
        },
        "dd7965d5f7e042d6bbc47f8eba5fe603": {
          "model_module": "@jupyter-widgets/base",
          "model_name": "LayoutModel",
          "state": {
            "_view_name": "LayoutView",
            "grid_template_rows": null,
            "right": null,
            "justify_content": null,
            "_view_module": "@jupyter-widgets/base",
            "overflow": null,
            "_model_module_version": "1.2.0",
            "_view_count": null,
            "flex_flow": null,
            "width": null,
            "min_width": null,
            "border": null,
            "align_items": null,
            "bottom": null,
            "_model_module": "@jupyter-widgets/base",
            "top": null,
            "grid_column": null,
            "overflow_y": null,
            "overflow_x": null,
            "grid_auto_flow": null,
            "grid_area": null,
            "grid_template_columns": null,
            "flex": null,
            "_model_name": "LayoutModel",
            "justify_items": null,
            "grid_row": null,
            "max_height": null,
            "align_content": null,
            "visibility": null,
            "align_self": null,
            "height": null,
            "min_height": null,
            "padding": null,
            "grid_auto_rows": null,
            "grid_gap": null,
            "max_width": null,
            "order": null,
            "_view_module_version": "1.2.0",
            "grid_template_areas": null,
            "object_position": null,
            "object_fit": null,
            "grid_auto_columns": null,
            "margin": null,
            "display": null,
            "left": null
          }
        },
        "b788cd4291324093b21d9044da348ad3": {
          "model_module": "@jupyter-widgets/controls",
          "model_name": "IntProgressModel",
          "state": {
            "_view_name": "ProgressView",
            "style": "IPY_MODEL_199dfc8d330945adbfbb735afc1f52c8",
            "_dom_classes": [],
            "description": "",
            "_model_name": "IntProgressModel",
            "bar_style": "success",
            "max": 1,
            "_view_module": "@jupyter-widgets/controls",
            "_model_module_version": "1.5.0",
            "value": 1,
            "_view_count": null,
            "_view_module_version": "1.5.0",
            "orientation": "horizontal",
            "min": 0,
            "description_tooltip": null,
            "_model_module": "@jupyter-widgets/controls",
            "layout": "IPY_MODEL_de17ac0a5381419bba46416c946055ee"
          }
        },
        "992429d7a83a4613a5fb1e5d190c45f9": {
          "model_module": "@jupyter-widgets/controls",
          "model_name": "HTMLModel",
          "state": {
            "_view_name": "HTMLView",
            "style": "IPY_MODEL_5bdd90f3d4df4a88a0d84b119fb4eee1",
            "_dom_classes": [],
            "description": "",
            "_model_name": "HTMLModel",
            "placeholder": "​",
            "_view_module": "@jupyter-widgets/controls",
            "_model_module_version": "1.5.0",
            "value": "18169856it [00:04, 4499398.84it/s]",
            "_view_count": null,
            "_view_module_version": "1.5.0",
            "description_tooltip": null,
            "_model_module": "@jupyter-widgets/controls",
            "layout": "IPY_MODEL_197fd7ed4c274f9f88b1858c45c9c1a6"
          }
        },
        "199dfc8d330945adbfbb735afc1f52c8": {
          "model_module": "@jupyter-widgets/controls",
          "model_name": "ProgressStyleModel",
          "state": {
            "_view_name": "StyleView",
            "_model_name": "ProgressStyleModel",
            "description_width": "",
            "_view_module": "@jupyter-widgets/base",
            "_model_module_version": "1.5.0",
            "_view_count": null,
            "_view_module_version": "1.2.0",
            "bar_color": null,
            "_model_module": "@jupyter-widgets/controls"
          }
        },
        "de17ac0a5381419bba46416c946055ee": {
          "model_module": "@jupyter-widgets/base",
          "model_name": "LayoutModel",
          "state": {
            "_view_name": "LayoutView",
            "grid_template_rows": null,
            "right": null,
            "justify_content": null,
            "_view_module": "@jupyter-widgets/base",
            "overflow": null,
            "_model_module_version": "1.2.0",
            "_view_count": null,
            "flex_flow": null,
            "width": null,
            "min_width": null,
            "border": null,
            "align_items": null,
            "bottom": null,
            "_model_module": "@jupyter-widgets/base",
            "top": null,
            "grid_column": null,
            "overflow_y": null,
            "overflow_x": null,
            "grid_auto_flow": null,
            "grid_area": null,
            "grid_template_columns": null,
            "flex": null,
            "_model_name": "LayoutModel",
            "justify_items": null,
            "grid_row": null,
            "max_height": null,
            "align_content": null,
            "visibility": null,
            "align_self": null,
            "height": null,
            "min_height": null,
            "padding": null,
            "grid_auto_rows": null,
            "grid_gap": null,
            "max_width": null,
            "order": null,
            "_view_module_version": "1.2.0",
            "grid_template_areas": null,
            "object_position": null,
            "object_fit": null,
            "grid_auto_columns": null,
            "margin": null,
            "display": null,
            "left": null
          }
        },
        "5bdd90f3d4df4a88a0d84b119fb4eee1": {
          "model_module": "@jupyter-widgets/controls",
          "model_name": "DescriptionStyleModel",
          "state": {
            "_view_name": "StyleView",
            "_model_name": "DescriptionStyleModel",
            "description_width": "",
            "_view_module": "@jupyter-widgets/base",
            "_model_module_version": "1.5.0",
            "_view_count": null,
            "_view_module_version": "1.2.0",
            "_model_module": "@jupyter-widgets/controls"
          }
        },
        "197fd7ed4c274f9f88b1858c45c9c1a6": {
          "model_module": "@jupyter-widgets/base",
          "model_name": "LayoutModel",
          "state": {
            "_view_name": "LayoutView",
            "grid_template_rows": null,
            "right": null,
            "justify_content": null,
            "_view_module": "@jupyter-widgets/base",
            "overflow": null,
            "_model_module_version": "1.2.0",
            "_view_count": null,
            "flex_flow": null,
            "width": null,
            "min_width": null,
            "border": null,
            "align_items": null,
            "bottom": null,
            "_model_module": "@jupyter-widgets/base",
            "top": null,
            "grid_column": null,
            "overflow_y": null,
            "overflow_x": null,
            "grid_auto_flow": null,
            "grid_area": null,
            "grid_template_columns": null,
            "flex": null,
            "_model_name": "LayoutModel",
            "justify_items": null,
            "grid_row": null,
            "max_height": null,
            "align_content": null,
            "visibility": null,
            "align_self": null,
            "height": null,
            "min_height": null,
            "padding": null,
            "grid_auto_rows": null,
            "grid_gap": null,
            "max_width": null,
            "order": null,
            "_view_module_version": "1.2.0",
            "grid_template_areas": null,
            "object_position": null,
            "object_fit": null,
            "grid_auto_columns": null,
            "margin": null,
            "display": null,
            "left": null
          }
        },
        "e10c07ba4d93458696f99913e2800079": {
          "model_module": "@jupyter-widgets/controls",
          "model_name": "HBoxModel",
          "state": {
            "_view_name": "HBoxView",
            "_dom_classes": [],
            "_model_name": "HBoxModel",
            "_view_module": "@jupyter-widgets/controls",
            "_model_module_version": "1.5.0",
            "_view_count": null,
            "_view_module_version": "1.5.0",
            "box_style": "",
            "layout": "IPY_MODEL_d5dbd52bfb154ef4b0fef52722b1152e",
            "_model_module": "@jupyter-widgets/controls",
            "children": [
              "IPY_MODEL_b66788e7787d42b0900048e3b8bb4fdd",
              "IPY_MODEL_9e218c849d8d4069aab6976c941b5ce1"
            ]
          }
        },
        "d5dbd52bfb154ef4b0fef52722b1152e": {
          "model_module": "@jupyter-widgets/base",
          "model_name": "LayoutModel",
          "state": {
            "_view_name": "LayoutView",
            "grid_template_rows": null,
            "right": null,
            "justify_content": null,
            "_view_module": "@jupyter-widgets/base",
            "overflow": null,
            "_model_module_version": "1.2.0",
            "_view_count": null,
            "flex_flow": null,
            "width": null,
            "min_width": null,
            "border": null,
            "align_items": null,
            "bottom": null,
            "_model_module": "@jupyter-widgets/base",
            "top": null,
            "grid_column": null,
            "overflow_y": null,
            "overflow_x": null,
            "grid_auto_flow": null,
            "grid_area": null,
            "grid_template_columns": null,
            "flex": null,
            "_model_name": "LayoutModel",
            "justify_items": null,
            "grid_row": null,
            "max_height": null,
            "align_content": null,
            "visibility": null,
            "align_self": null,
            "height": null,
            "min_height": null,
            "padding": null,
            "grid_auto_rows": null,
            "grid_gap": null,
            "max_width": null,
            "order": null,
            "_view_module_version": "1.2.0",
            "grid_template_areas": null,
            "object_position": null,
            "object_fit": null,
            "grid_auto_columns": null,
            "margin": null,
            "display": null,
            "left": null
          }
        },
        "b66788e7787d42b0900048e3b8bb4fdd": {
          "model_module": "@jupyter-widgets/controls",
          "model_name": "IntProgressModel",
          "state": {
            "_view_name": "ProgressView",
            "style": "IPY_MODEL_06c31c34f72a407894fa843ec4738a53",
            "_dom_classes": [],
            "description": "",
            "_model_name": "IntProgressModel",
            "bar_style": "success",
            "max": 1,
            "_view_module": "@jupyter-widgets/controls",
            "_model_module_version": "1.5.0",
            "value": 1,
            "_view_count": null,
            "_view_module_version": "1.5.0",
            "orientation": "horizontal",
            "min": 0,
            "description_tooltip": null,
            "_model_module": "@jupyter-widgets/controls",
            "layout": "IPY_MODEL_444a339a1edb497c844a407395180282"
          }
        },
        "9e218c849d8d4069aab6976c941b5ce1": {
          "model_module": "@jupyter-widgets/controls",
          "model_name": "HTMLModel",
          "state": {
            "_view_name": "HTMLView",
            "style": "IPY_MODEL_d4c894fd1c20424d8edb9bae1a083c0f",
            "_dom_classes": [],
            "description": "",
            "_model_name": "HTMLModel",
            "placeholder": "​",
            "_view_module": "@jupyter-widgets/controls",
            "_model_module_version": "1.5.0",
            "value": "32768it [00:00, 67496.54it/s]",
            "_view_count": null,
            "_view_module_version": "1.5.0",
            "description_tooltip": null,
            "_model_module": "@jupyter-widgets/controls",
            "layout": "IPY_MODEL_4d8b17ff7e4d4e0f8be85bbe37615ade"
          }
        },
        "06c31c34f72a407894fa843ec4738a53": {
          "model_module": "@jupyter-widgets/controls",
          "model_name": "ProgressStyleModel",
          "state": {
            "_view_name": "StyleView",
            "_model_name": "ProgressStyleModel",
            "description_width": "",
            "_view_module": "@jupyter-widgets/base",
            "_model_module_version": "1.5.0",
            "_view_count": null,
            "_view_module_version": "1.2.0",
            "bar_color": null,
            "_model_module": "@jupyter-widgets/controls"
          }
        },
        "444a339a1edb497c844a407395180282": {
          "model_module": "@jupyter-widgets/base",
          "model_name": "LayoutModel",
          "state": {
            "_view_name": "LayoutView",
            "grid_template_rows": null,
            "right": null,
            "justify_content": null,
            "_view_module": "@jupyter-widgets/base",
            "overflow": null,
            "_model_module_version": "1.2.0",
            "_view_count": null,
            "flex_flow": null,
            "width": null,
            "min_width": null,
            "border": null,
            "align_items": null,
            "bottom": null,
            "_model_module": "@jupyter-widgets/base",
            "top": null,
            "grid_column": null,
            "overflow_y": null,
            "overflow_x": null,
            "grid_auto_flow": null,
            "grid_area": null,
            "grid_template_columns": null,
            "flex": null,
            "_model_name": "LayoutModel",
            "justify_items": null,
            "grid_row": null,
            "max_height": null,
            "align_content": null,
            "visibility": null,
            "align_self": null,
            "height": null,
            "min_height": null,
            "padding": null,
            "grid_auto_rows": null,
            "grid_gap": null,
            "max_width": null,
            "order": null,
            "_view_module_version": "1.2.0",
            "grid_template_areas": null,
            "object_position": null,
            "object_fit": null,
            "grid_auto_columns": null,
            "margin": null,
            "display": null,
            "left": null
          }
        },
        "d4c894fd1c20424d8edb9bae1a083c0f": {
          "model_module": "@jupyter-widgets/controls",
          "model_name": "DescriptionStyleModel",
          "state": {
            "_view_name": "StyleView",
            "_model_name": "DescriptionStyleModel",
            "description_width": "",
            "_view_module": "@jupyter-widgets/base",
            "_model_module_version": "1.5.0",
            "_view_count": null,
            "_view_module_version": "1.2.0",
            "_model_module": "@jupyter-widgets/controls"
          }
        },
        "4d8b17ff7e4d4e0f8be85bbe37615ade": {
          "model_module": "@jupyter-widgets/base",
          "model_name": "LayoutModel",
          "state": {
            "_view_name": "LayoutView",
            "grid_template_rows": null,
            "right": null,
            "justify_content": null,
            "_view_module": "@jupyter-widgets/base",
            "overflow": null,
            "_model_module_version": "1.2.0",
            "_view_count": null,
            "flex_flow": null,
            "width": null,
            "min_width": null,
            "border": null,
            "align_items": null,
            "bottom": null,
            "_model_module": "@jupyter-widgets/base",
            "top": null,
            "grid_column": null,
            "overflow_y": null,
            "overflow_x": null,
            "grid_auto_flow": null,
            "grid_area": null,
            "grid_template_columns": null,
            "flex": null,
            "_model_name": "LayoutModel",
            "justify_items": null,
            "grid_row": null,
            "max_height": null,
            "align_content": null,
            "visibility": null,
            "align_self": null,
            "height": null,
            "min_height": null,
            "padding": null,
            "grid_auto_rows": null,
            "grid_gap": null,
            "max_width": null,
            "order": null,
            "_view_module_version": "1.2.0",
            "grid_template_areas": null,
            "object_position": null,
            "object_fit": null,
            "grid_auto_columns": null,
            "margin": null,
            "display": null,
            "left": null
          }
        },
        "3f4cb79e9ae749a58dc59f9be589eee2": {
          "model_module": "@jupyter-widgets/controls",
          "model_name": "HBoxModel",
          "state": {
            "_view_name": "HBoxView",
            "_dom_classes": [],
            "_model_name": "HBoxModel",
            "_view_module": "@jupyter-widgets/controls",
            "_model_module_version": "1.5.0",
            "_view_count": null,
            "_view_module_version": "1.5.0",
            "box_style": "",
            "layout": "IPY_MODEL_0f8f3c9b9b5441b4a5ec2f40193deb96",
            "_model_module": "@jupyter-widgets/controls",
            "children": [
              "IPY_MODEL_12d18f14b8c7406ba03e2ac785f9c913",
              "IPY_MODEL_2b9930193e5c47b4a351a14d108770ad"
            ]
          }
        },
        "0f8f3c9b9b5441b4a5ec2f40193deb96": {
          "model_module": "@jupyter-widgets/base",
          "model_name": "LayoutModel",
          "state": {
            "_view_name": "LayoutView",
            "grid_template_rows": null,
            "right": null,
            "justify_content": null,
            "_view_module": "@jupyter-widgets/base",
            "overflow": null,
            "_model_module_version": "1.2.0",
            "_view_count": null,
            "flex_flow": null,
            "width": null,
            "min_width": null,
            "border": null,
            "align_items": null,
            "bottom": null,
            "_model_module": "@jupyter-widgets/base",
            "top": null,
            "grid_column": null,
            "overflow_y": null,
            "overflow_x": null,
            "grid_auto_flow": null,
            "grid_area": null,
            "grid_template_columns": null,
            "flex": null,
            "_model_name": "LayoutModel",
            "justify_items": null,
            "grid_row": null,
            "max_height": null,
            "align_content": null,
            "visibility": null,
            "align_self": null,
            "height": null,
            "min_height": null,
            "padding": null,
            "grid_auto_rows": null,
            "grid_gap": null,
            "max_width": null,
            "order": null,
            "_view_module_version": "1.2.0",
            "grid_template_areas": null,
            "object_position": null,
            "object_fit": null,
            "grid_auto_columns": null,
            "margin": null,
            "display": null,
            "left": null
          }
        },
        "12d18f14b8c7406ba03e2ac785f9c913": {
          "model_module": "@jupyter-widgets/controls",
          "model_name": "IntProgressModel",
          "state": {
            "_view_name": "ProgressView",
            "style": "IPY_MODEL_17b29a9e086d41f5a6197eee6afc6a6e",
            "_dom_classes": [],
            "description": "",
            "_model_name": "IntProgressModel",
            "bar_style": "success",
            "max": 1,
            "_view_module": "@jupyter-widgets/controls",
            "_model_module_version": "1.5.0",
            "value": 1,
            "_view_count": null,
            "_view_module_version": "1.5.0",
            "orientation": "horizontal",
            "min": 0,
            "description_tooltip": null,
            "_model_module": "@jupyter-widgets/controls",
            "layout": "IPY_MODEL_7f4a1f8484ce4107a67530c48d8bab21"
          }
        },
        "2b9930193e5c47b4a351a14d108770ad": {
          "model_module": "@jupyter-widgets/controls",
          "model_name": "HTMLModel",
          "state": {
            "_view_name": "HTMLView",
            "style": "IPY_MODEL_1b9eee67a64b4c1596650191d272bb42",
            "_dom_classes": [],
            "description": "",
            "_model_name": "HTMLModel",
            "placeholder": "​",
            "_view_module": "@jupyter-widgets/controls",
            "_model_module_version": "1.5.0",
            "value": "3047424it [00:02, 1488712.75it/s]",
            "_view_count": null,
            "_view_module_version": "1.5.0",
            "description_tooltip": null,
            "_model_module": "@jupyter-widgets/controls",
            "layout": "IPY_MODEL_e30c51a437f441699697c4724572ba0d"
          }
        },
        "17b29a9e086d41f5a6197eee6afc6a6e": {
          "model_module": "@jupyter-widgets/controls",
          "model_name": "ProgressStyleModel",
          "state": {
            "_view_name": "StyleView",
            "_model_name": "ProgressStyleModel",
            "description_width": "",
            "_view_module": "@jupyter-widgets/base",
            "_model_module_version": "1.5.0",
            "_view_count": null,
            "_view_module_version": "1.2.0",
            "bar_color": null,
            "_model_module": "@jupyter-widgets/controls"
          }
        },
        "7f4a1f8484ce4107a67530c48d8bab21": {
          "model_module": "@jupyter-widgets/base",
          "model_name": "LayoutModel",
          "state": {
            "_view_name": "LayoutView",
            "grid_template_rows": null,
            "right": null,
            "justify_content": null,
            "_view_module": "@jupyter-widgets/base",
            "overflow": null,
            "_model_module_version": "1.2.0",
            "_view_count": null,
            "flex_flow": null,
            "width": null,
            "min_width": null,
            "border": null,
            "align_items": null,
            "bottom": null,
            "_model_module": "@jupyter-widgets/base",
            "top": null,
            "grid_column": null,
            "overflow_y": null,
            "overflow_x": null,
            "grid_auto_flow": null,
            "grid_area": null,
            "grid_template_columns": null,
            "flex": null,
            "_model_name": "LayoutModel",
            "justify_items": null,
            "grid_row": null,
            "max_height": null,
            "align_content": null,
            "visibility": null,
            "align_self": null,
            "height": null,
            "min_height": null,
            "padding": null,
            "grid_auto_rows": null,
            "grid_gap": null,
            "max_width": null,
            "order": null,
            "_view_module_version": "1.2.0",
            "grid_template_areas": null,
            "object_position": null,
            "object_fit": null,
            "grid_auto_columns": null,
            "margin": null,
            "display": null,
            "left": null
          }
        },
        "1b9eee67a64b4c1596650191d272bb42": {
          "model_module": "@jupyter-widgets/controls",
          "model_name": "DescriptionStyleModel",
          "state": {
            "_view_name": "StyleView",
            "_model_name": "DescriptionStyleModel",
            "description_width": "",
            "_view_module": "@jupyter-widgets/base",
            "_model_module_version": "1.5.0",
            "_view_count": null,
            "_view_module_version": "1.2.0",
            "_model_module": "@jupyter-widgets/controls"
          }
        },
        "e30c51a437f441699697c4724572ba0d": {
          "model_module": "@jupyter-widgets/base",
          "model_name": "LayoutModel",
          "state": {
            "_view_name": "LayoutView",
            "grid_template_rows": null,
            "right": null,
            "justify_content": null,
            "_view_module": "@jupyter-widgets/base",
            "overflow": null,
            "_model_module_version": "1.2.0",
            "_view_count": null,
            "flex_flow": null,
            "width": null,
            "min_width": null,
            "border": null,
            "align_items": null,
            "bottom": null,
            "_model_module": "@jupyter-widgets/base",
            "top": null,
            "grid_column": null,
            "overflow_y": null,
            "overflow_x": null,
            "grid_auto_flow": null,
            "grid_area": null,
            "grid_template_columns": null,
            "flex": null,
            "_model_name": "LayoutModel",
            "justify_items": null,
            "grid_row": null,
            "max_height": null,
            "align_content": null,
            "visibility": null,
            "align_self": null,
            "height": null,
            "min_height": null,
            "padding": null,
            "grid_auto_rows": null,
            "grid_gap": null,
            "max_width": null,
            "order": null,
            "_view_module_version": "1.2.0",
            "grid_template_areas": null,
            "object_position": null,
            "object_fit": null,
            "grid_auto_columns": null,
            "margin": null,
            "display": null,
            "left": null
          }
        },
        "3c01374bd5cd461d925d0c0b557e12ae": {
          "model_module": "@jupyter-widgets/controls",
          "model_name": "HBoxModel",
          "state": {
            "_view_name": "HBoxView",
            "_dom_classes": [],
            "_model_name": "HBoxModel",
            "_view_module": "@jupyter-widgets/controls",
            "_model_module_version": "1.5.0",
            "_view_count": null,
            "_view_module_version": "1.5.0",
            "box_style": "",
            "layout": "IPY_MODEL_f7eb05e449b24c4da1aed44f25ca9a7d",
            "_model_module": "@jupyter-widgets/controls",
            "children": [
              "IPY_MODEL_51bf565ff08340eea6cf9d3c482fefd1",
              "IPY_MODEL_f42cdf319f26403d8eaafef4389964e7"
            ]
          }
        },
        "f7eb05e449b24c4da1aed44f25ca9a7d": {
          "model_module": "@jupyter-widgets/base",
          "model_name": "LayoutModel",
          "state": {
            "_view_name": "LayoutView",
            "grid_template_rows": null,
            "right": null,
            "justify_content": null,
            "_view_module": "@jupyter-widgets/base",
            "overflow": null,
            "_model_module_version": "1.2.0",
            "_view_count": null,
            "flex_flow": null,
            "width": null,
            "min_width": null,
            "border": null,
            "align_items": null,
            "bottom": null,
            "_model_module": "@jupyter-widgets/base",
            "top": null,
            "grid_column": null,
            "overflow_y": null,
            "overflow_x": null,
            "grid_auto_flow": null,
            "grid_area": null,
            "grid_template_columns": null,
            "flex": null,
            "_model_name": "LayoutModel",
            "justify_items": null,
            "grid_row": null,
            "max_height": null,
            "align_content": null,
            "visibility": null,
            "align_self": null,
            "height": null,
            "min_height": null,
            "padding": null,
            "grid_auto_rows": null,
            "grid_gap": null,
            "max_width": null,
            "order": null,
            "_view_module_version": "1.2.0",
            "grid_template_areas": null,
            "object_position": null,
            "object_fit": null,
            "grid_auto_columns": null,
            "margin": null,
            "display": null,
            "left": null
          }
        },
        "51bf565ff08340eea6cf9d3c482fefd1": {
          "model_module": "@jupyter-widgets/controls",
          "model_name": "IntProgressModel",
          "state": {
            "_view_name": "ProgressView",
            "style": "IPY_MODEL_89c86960258e4332a6dc2bc5bea90b82",
            "_dom_classes": [],
            "description": "",
            "_model_name": "IntProgressModel",
            "bar_style": "success",
            "max": 1,
            "_view_module": "@jupyter-widgets/controls",
            "_model_module_version": "1.5.0",
            "value": 1,
            "_view_count": null,
            "_view_module_version": "1.5.0",
            "orientation": "horizontal",
            "min": 0,
            "description_tooltip": null,
            "_model_module": "@jupyter-widgets/controls",
            "layout": "IPY_MODEL_b630db9c11ab49a598012b1204d4ccef"
          }
        },
        "f42cdf319f26403d8eaafef4389964e7": {
          "model_module": "@jupyter-widgets/controls",
          "model_name": "HTMLModel",
          "state": {
            "_view_name": "HTMLView",
            "style": "IPY_MODEL_4c19639654a14fffb455cf0fe415a965",
            "_dom_classes": [],
            "description": "",
            "_model_name": "HTMLModel",
            "placeholder": "​",
            "_view_module": "@jupyter-widgets/controls",
            "_model_module_version": "1.5.0",
            "value": "8192it [00:00, 25627.90it/s]",
            "_view_count": null,
            "_view_module_version": "1.5.0",
            "description_tooltip": null,
            "_model_module": "@jupyter-widgets/controls",
            "layout": "IPY_MODEL_e0d518ef400c478d86a5622356b9d82f"
          }
        },
        "89c86960258e4332a6dc2bc5bea90b82": {
          "model_module": "@jupyter-widgets/controls",
          "model_name": "ProgressStyleModel",
          "state": {
            "_view_name": "StyleView",
            "_model_name": "ProgressStyleModel",
            "description_width": "",
            "_view_module": "@jupyter-widgets/base",
            "_model_module_version": "1.5.0",
            "_view_count": null,
            "_view_module_version": "1.2.0",
            "bar_color": null,
            "_model_module": "@jupyter-widgets/controls"
          }
        },
        "b630db9c11ab49a598012b1204d4ccef": {
          "model_module": "@jupyter-widgets/base",
          "model_name": "LayoutModel",
          "state": {
            "_view_name": "LayoutView",
            "grid_template_rows": null,
            "right": null,
            "justify_content": null,
            "_view_module": "@jupyter-widgets/base",
            "overflow": null,
            "_model_module_version": "1.2.0",
            "_view_count": null,
            "flex_flow": null,
            "width": null,
            "min_width": null,
            "border": null,
            "align_items": null,
            "bottom": null,
            "_model_module": "@jupyter-widgets/base",
            "top": null,
            "grid_column": null,
            "overflow_y": null,
            "overflow_x": null,
            "grid_auto_flow": null,
            "grid_area": null,
            "grid_template_columns": null,
            "flex": null,
            "_model_name": "LayoutModel",
            "justify_items": null,
            "grid_row": null,
            "max_height": null,
            "align_content": null,
            "visibility": null,
            "align_self": null,
            "height": null,
            "min_height": null,
            "padding": null,
            "grid_auto_rows": null,
            "grid_gap": null,
            "max_width": null,
            "order": null,
            "_view_module_version": "1.2.0",
            "grid_template_areas": null,
            "object_position": null,
            "object_fit": null,
            "grid_auto_columns": null,
            "margin": null,
            "display": null,
            "left": null
          }
        },
        "4c19639654a14fffb455cf0fe415a965": {
          "model_module": "@jupyter-widgets/controls",
          "model_name": "DescriptionStyleModel",
          "state": {
            "_view_name": "StyleView",
            "_model_name": "DescriptionStyleModel",
            "description_width": "",
            "_view_module": "@jupyter-widgets/base",
            "_model_module_version": "1.5.0",
            "_view_count": null,
            "_view_module_version": "1.2.0",
            "_model_module": "@jupyter-widgets/controls"
          }
        },
        "e0d518ef400c478d86a5622356b9d82f": {
          "model_module": "@jupyter-widgets/base",
          "model_name": "LayoutModel",
          "state": {
            "_view_name": "LayoutView",
            "grid_template_rows": null,
            "right": null,
            "justify_content": null,
            "_view_module": "@jupyter-widgets/base",
            "overflow": null,
            "_model_module_version": "1.2.0",
            "_view_count": null,
            "flex_flow": null,
            "width": null,
            "min_width": null,
            "border": null,
            "align_items": null,
            "bottom": null,
            "_model_module": "@jupyter-widgets/base",
            "top": null,
            "grid_column": null,
            "overflow_y": null,
            "overflow_x": null,
            "grid_auto_flow": null,
            "grid_area": null,
            "grid_template_columns": null,
            "flex": null,
            "_model_name": "LayoutModel",
            "justify_items": null,
            "grid_row": null,
            "max_height": null,
            "align_content": null,
            "visibility": null,
            "align_self": null,
            "height": null,
            "min_height": null,
            "padding": null,
            "grid_auto_rows": null,
            "grid_gap": null,
            "max_width": null,
            "order": null,
            "_view_module_version": "1.2.0",
            "grid_template_areas": null,
            "object_position": null,
            "object_fit": null,
            "grid_auto_columns": null,
            "margin": null,
            "display": null,
            "left": null
          }
        }
      }
    }
  },
  "cells": [
    {
      "cell_type": "markdown",
      "metadata": {
        "id": "view-in-github",
        "colab_type": "text"
      },
      "source": [
        "<a href=\"https://colab.research.google.com/github/gvogiatzis/CS4740/blob/main/CS4740_Lab_Week_03.ipynb\" target=\"_parent\"><img src=\"https://colab.research.google.com/assets/colab-badge.svg\" alt=\"Open In Colab\"/></a>"
      ]
    },
    {
      "cell_type": "markdown",
      "metadata": {
        "id": "MDVelHbR_KqJ"
      },
      "source": [
        "# CS4740 Labs\n",
        "## Week 3 - Networks in Pytorch\n",
        "\n",
        "In this lab we will be continuing with our exploration of Deep Learning and Pytorch by carrying out some more classification experiments, this time in image data. \n",
        "\n",
        "The MNIST dataset, created almost 30 years ago, is one of the most commonly used machine learning datasets. It consists of 60,000 tiny images (28x28) of handwritten digits that must be correctly classified into one of 10 classes. Widely considered as the \"hello world\" equivalent for ML researchers, it is the go-to dataset for any new algorithm that is proposed for image classification and ML in general. As the old saying goes, \"If it doesn't work on MNIST, it won't work at all\". \n",
        "\n",
        "![alt text](https://www.researchgate.net/profile/Steven_Young11/publication/306056875/figure/fig1/AS:393921575309346@1470929630835/Example-images-from-the-MNIST-dataset.png)\n",
        "\n",
        "Just to be different, and a little more ambitious, we will be using a more recent and significantly more challenging dataset, known as KMNIST, that consists of 28x28 images of handwritten Japanese kuzushiji (18th c. cursive calligraphy) characters (10 classes out of the possible 49).\n",
        "\n",
        "![alt text](http://codh.rois.ac.jp/img/kmnist.png)\n",
        "\n",
        "The image above shows examples from the ten classes in the dataset with the first collumn representing the modern Hiragana printed version. See this [paper](https://arxiv.org/pdf/1812.01718.pdf) for more technical details. More about the fascinating history of kuzushiji [here](http://naruhodo.weebly.com/blog/introduction-to-kuzushiji)"
      ]
    },
    {
      "cell_type": "markdown",
      "metadata": {
        "id": "X8QEflgjv9vG"
      },
      "source": [
        "# Section 1. Loading up the dataset\n",
        "\n",
        "Fortunately for us, Pytorch already comes with utility classes for downloading and using a whole host of interesting ML datasets under the `torchvision.datasets` module. Let's begin by downloading both the training and test subsets of the KMNIST dataset."
      ]
    },
    {
      "cell_type": "code",
      "metadata": {
        "id": "Av39uznD2nIN",
        "outputId": "1ffcce7e-a606-4364-b014-b0a6da9fd8d8",
        "colab": {
          "base_uri": "https://localhost:8080/",
          "height": 383,
          "referenced_widgets": [
            "59e45edcd32d4fac9228c7efd59d031a",
            "dd7965d5f7e042d6bbc47f8eba5fe603",
            "b788cd4291324093b21d9044da348ad3",
            "992429d7a83a4613a5fb1e5d190c45f9",
            "199dfc8d330945adbfbb735afc1f52c8",
            "de17ac0a5381419bba46416c946055ee",
            "5bdd90f3d4df4a88a0d84b119fb4eee1",
            "197fd7ed4c274f9f88b1858c45c9c1a6",
            "e10c07ba4d93458696f99913e2800079",
            "d5dbd52bfb154ef4b0fef52722b1152e",
            "b66788e7787d42b0900048e3b8bb4fdd",
            "9e218c849d8d4069aab6976c941b5ce1",
            "06c31c34f72a407894fa843ec4738a53",
            "444a339a1edb497c844a407395180282",
            "d4c894fd1c20424d8edb9bae1a083c0f",
            "4d8b17ff7e4d4e0f8be85bbe37615ade",
            "3f4cb79e9ae749a58dc59f9be589eee2",
            "0f8f3c9b9b5441b4a5ec2f40193deb96",
            "12d18f14b8c7406ba03e2ac785f9c913",
            "2b9930193e5c47b4a351a14d108770ad",
            "17b29a9e086d41f5a6197eee6afc6a6e",
            "7f4a1f8484ce4107a67530c48d8bab21",
            "1b9eee67a64b4c1596650191d272bb42",
            "e30c51a437f441699697c4724572ba0d",
            "3c01374bd5cd461d925d0c0b557e12ae",
            "f7eb05e449b24c4da1aed44f25ca9a7d",
            "51bf565ff08340eea6cf9d3c482fefd1",
            "f42cdf319f26403d8eaafef4389964e7",
            "89c86960258e4332a6dc2bc5bea90b82",
            "b630db9c11ab49a598012b1204d4ccef",
            "4c19639654a14fffb455cf0fe415a965",
            "e0d518ef400c478d86a5622356b9d82f"
          ]
        }
      },
      "source": [
        "import matplotlib.pyplot as plt\n",
        "import torch\n",
        "import torch.nn as nn\n",
        "import torch.nn.functional as F\n",
        "import torch.optim as optim\n",
        "import torchvision\n",
        "\n",
        "train_dataset = torchvision.datasets.KMNIST('.', train=True, download=True,\n",
        "                             transform=torchvision.transforms.ToTensor())\n",
        "\n",
        "test_dataset = torchvision.datasets.KMNIST('.', train=False, download=True,\n",
        "                             transform=torchvision.transforms.ToTensor())"
      ],
      "execution_count": null,
      "outputs": [
        {
          "output_type": "stream",
          "text": [
            "Downloading http://codh.rois.ac.jp/kmnist/dataset/kmnist/train-images-idx3-ubyte.gz to ./KMNIST/raw/train-images-idx3-ubyte.gz\n"
          ],
          "name": "stdout"
        },
        {
          "output_type": "display_data",
          "data": {
            "application/vnd.jupyter.widget-view+json": {
              "model_id": "59e45edcd32d4fac9228c7efd59d031a",
              "version_minor": 0,
              "version_major": 2
            },
            "text/plain": [
              "HBox(children=(IntProgress(value=1, bar_style='info', max=1), HTML(value='')))"
            ]
          },
          "metadata": {
            "tags": []
          }
        },
        {
          "output_type": "stream",
          "text": [
            "\n",
            "Extracting ./KMNIST/raw/train-images-idx3-ubyte.gz to ./KMNIST/raw\n",
            "Downloading http://codh.rois.ac.jp/kmnist/dataset/kmnist/train-labels-idx1-ubyte.gz to ./KMNIST/raw/train-labels-idx1-ubyte.gz\n"
          ],
          "name": "stdout"
        },
        {
          "output_type": "display_data",
          "data": {
            "application/vnd.jupyter.widget-view+json": {
              "model_id": "e10c07ba4d93458696f99913e2800079",
              "version_minor": 0,
              "version_major": 2
            },
            "text/plain": [
              "HBox(children=(IntProgress(value=1, bar_style='info', max=1), HTML(value='')))"
            ]
          },
          "metadata": {
            "tags": []
          }
        },
        {
          "output_type": "stream",
          "text": [
            "\n",
            "Extracting ./KMNIST/raw/train-labels-idx1-ubyte.gz to ./KMNIST/raw\n",
            "Downloading http://codh.rois.ac.jp/kmnist/dataset/kmnist/t10k-images-idx3-ubyte.gz to ./KMNIST/raw/t10k-images-idx3-ubyte.gz\n"
          ],
          "name": "stdout"
        },
        {
          "output_type": "display_data",
          "data": {
            "application/vnd.jupyter.widget-view+json": {
              "model_id": "3f4cb79e9ae749a58dc59f9be589eee2",
              "version_minor": 0,
              "version_major": 2
            },
            "text/plain": [
              "HBox(children=(IntProgress(value=1, bar_style='info', max=1), HTML(value='')))"
            ]
          },
          "metadata": {
            "tags": []
          }
        },
        {
          "output_type": "stream",
          "text": [
            "\n",
            "Extracting ./KMNIST/raw/t10k-images-idx3-ubyte.gz to ./KMNIST/raw\n",
            "Downloading http://codh.rois.ac.jp/kmnist/dataset/kmnist/t10k-labels-idx1-ubyte.gz to ./KMNIST/raw/t10k-labels-idx1-ubyte.gz\n"
          ],
          "name": "stdout"
        },
        {
          "output_type": "display_data",
          "data": {
            "application/vnd.jupyter.widget-view+json": {
              "model_id": "3c01374bd5cd461d925d0c0b557e12ae",
              "version_minor": 0,
              "version_major": 2
            },
            "text/plain": [
              "HBox(children=(IntProgress(value=1, bar_style='info', max=1), HTML(value='')))"
            ]
          },
          "metadata": {
            "tags": []
          }
        },
        {
          "output_type": "stream",
          "text": [
            "\n",
            "Extracting ./KMNIST/raw/t10k-labels-idx1-ubyte.gz to ./KMNIST/raw\n",
            "Processing...\n",
            "Done!\n"
          ],
          "name": "stdout"
        }
      ]
    },
    {
      "cell_type": "markdown",
      "metadata": {
        "id": "9sqw6-mZjE3S"
      },
      "source": [
        "The `KMNIST` helper function can be conveniently supplied with a transform object that can be used to perform all kinds of operation on a datapoint prior to its use. We can apply dataset normalization, data augmentation , image cropping, histogram equalization etc. Here we use the `ToTensor` to transform PIL images into pytorch tensors. \n",
        "\n",
        "Each datapoint will consist of a pair of image (converted into a tensor) and a number from 0 to 9 corresponding to class. Let's display a sample image with its target class."
      ]
    },
    {
      "cell_type": "code",
      "metadata": {
        "id": "Tg3wxSDkj3Qk",
        "outputId": "f4f42b83-e25a-4547-c964-72fa1d14c675",
        "colab": {
          "base_uri": "https://localhost:8080/",
          "height": 282
        }
      },
      "source": [
        "img, target = train_dataset[999]\n",
        "plt.imshow(img.squeeze())\n",
        "print(target)"
      ],
      "execution_count": null,
      "outputs": [
        {
          "output_type": "stream",
          "text": [
            "7\n"
          ],
          "name": "stdout"
        },
        {
          "output_type": "display_data",
          "data": {
            "image/png": "[encoded data removed]",
            "text/plain": [
              "<Figure size 432x288 with 1 Axes>"
            ]
          },
          "metadata": {
            "tags": []
          }
        }
      ]
    },
    {
      "cell_type": "markdown",
      "metadata": {
        "id": "YpRd9DkKnyd3"
      },
      "source": [
        "Last week we applied Logistic Regression to some very simple data and we learned how to use direcly some torch layers such as `torch.nn.Linear`. This time we will see how to package everything into a single network object. This provides a number of benefits such as, automatically extracting the list of all model parameters (for optimization) or moving the whole network on to the GPU."
      ]
    },
    {
      "cell_type": "markdown",
      "metadata": {
        "id": "N6Gug0VeFk_8"
      },
      "source": [
        "## Section 2. Creating a network\n",
        "\n",
        "To create your own neural network architecture you must subclass the torch.nn.Module class. This involves writting a constructor, where all the member variables are defined and initialized, and overload the .forward() method which describes how the network input is transformed to the output. The beauty of Pytorch is that it then handles the .backward() method automatically (details in lecture). Let's write a simple logistic regression network, to warm us up."
      ]
    },
    {
      "cell_type": "code",
      "metadata": {
        "id": "wQy7BQHNnxu4"
      },
      "source": [
        "class LogisticNet(nn.Module):\n",
        "    def __init__(self):\n",
        "        super(LogisticNet, self).__init__()\n",
        "        self.fc = nn.Linear(784, 10)\n",
        "        \n",
        "    def forward(self, x):\n",
        "        x = x.view(-1,784)\n",
        "        x = self.fc(x)\n",
        "        return F.log_softmax(x,dim=1)\n",
        "        return x\n",
        "\n",
        "lognet = LogisticNet()"
      ],
      "execution_count": null,
      "outputs": []
    },
    {
      "cell_type": "markdown",
      "metadata": {
        "id": "pp3KSGHgsC_U"
      },
      "source": [
        "Note that the line \n",
        "```\n",
        "x = x.view(-1,784)\n",
        "```\n",
        "has the effect of **flattening** the image into a vector of 28x28=784 elements.\n",
        "\n",
        "And that's it! In 8 lines of code (most of which is boilerplate anyway) you've programmed your first neural network. Its weights have also been conveniently initialized so let's give it a spin on an actual datapoint."
      ]
    },
    {
      "cell_type": "code",
      "metadata": {
        "id": "mdZg9EJysCDv",
        "outputId": "45bd7a2a-f62f-4bfe-9bad-6306ad3f9c8f",
        "colab": {
          "base_uri": "https://localhost:8080/",
          "height": 51
        }
      },
      "source": [
        "img, target = train_dataset[999]\n",
        "\n",
        "print(torch.exp(lognet(img)))"
      ],
      "execution_count": null,
      "outputs": [
        {
          "output_type": "stream",
          "text": [
            "tensor([[0.0806, 0.1250, 0.1107, 0.1147, 0.0784, 0.1040, 0.0890, 0.0741, 0.0952,\n",
            "         0.1283]], grad_fn=<ExpBackward>)\n"
          ],
          "name": "stdout"
        }
      ]
    },
    {
      "cell_type": "markdown",
      "metadata": {
        "id": "9OEvsf8yvJC5"
      },
      "source": [
        "These are the probabilities that our network assigns to each of the ten classes for this datapoint. Note that the network outputs log-probabilities because of better numerics so to get to an actual distribution we must exponentiate. Of course we haven't done any training yet so the numbers are random. So let's write some training code. This will take the, by now familiar pattern of forward step, loss function calculation, backward step. The only difference is that we will be using mini-batches. See lecture for more details but mini-batch training means we will be updating the network weights by computing the loss function (and its gradient) on small subsets of the dataset, usually around 64 datapoints at a time."
      ]
    },
    {
      "cell_type": "markdown",
      "metadata": {
        "id": "9x0MqOO7F20F"
      },
      "source": [
        "## Section 3. Training and testing\n",
        "\n",
        "It is very good to get into the habit of using the torch.utils.data.DataLoader to help with randomly shuffling the data, splitting it into mini-batches as well as optimizing the concurrent data access with number crunching code. The call to the dataloader constructor looks as follows:"
      ]
    },
    {
      "cell_type": "code",
      "metadata": {
        "id": "47M1jLRTyoYh"
      },
      "source": [
        "train_loader = torch.utils.data.DataLoader(train_dataset,batch_size=64, shuffle=True)\n",
        "test_loader = torch.utils.data.DataLoader(test_dataset,batch_size=1000, shuffle=True)"
      ],
      "execution_count": null,
      "outputs": []
    },
    {
      "cell_type": "markdown",
      "metadata": {
        "id": "lA3J3b0mytDT"
      },
      "source": [
        "The dataloader objects are accessed through iterators and they iterate through every minibatch. To get the very first minibatch of images and targets we would do"
      ]
    },
    {
      "cell_type": "code",
      "metadata": {
        "id": "S5OdRmYwzgxa"
      },
      "source": [
        "x, t = next(iter(train_loader))"
      ],
      "execution_count": null,
      "outputs": []
    },
    {
      "cell_type": "code",
      "metadata": {
        "id": "5FVlQO2i0ZtT",
        "outputId": "3038ed7d-b963-4b5b-d03f-a33ba132e334",
        "colab": {
          "base_uri": "https://localhost:8080/",
          "height": 51
        }
      },
      "source": [
        "print(x.shape)\n",
        "print(t.shape)"
      ],
      "execution_count": null,
      "outputs": [
        {
          "output_type": "stream",
          "text": [
            "torch.Size([64, 1, 28, 28])\n",
            "torch.Size([64])\n"
          ],
          "name": "stdout"
        }
      ]
    },
    {
      "cell_type": "markdown",
      "metadata": {
        "id": "wRQwuMVr0O_c"
      },
      "source": [
        "So the data minibatch consists of 64 images. Let's define a standard negative log likelihood loss function and evaluate it on this data/target mini-batch. Now most pytorch layers (Linear, Conv, MaxPool etc) are clever enough to be applied on a minibatch, i.e. on all tensor dimensions except the minibatch dimension which is the first one. Loss functions on the other hand will be reduced (by averaging or summing) across the mini-batch to a single scalar. We will then call `.backward()` on that."
      ]
    },
    {
      "cell_type": "code",
      "metadata": {
        "id": "oNA_Zy5sz1dY",
        "outputId": "e4a1f3d2-5658-4737-9a8c-78961892fca8",
        "colab": {
          "base_uri": "https://localhost:8080/",
          "height": 34
        }
      },
      "source": [
        "loss = nn.NLLLoss()\n",
        "print(loss(lognet(x),t))"
      ],
      "execution_count": null,
      "outputs": [
        {
          "output_type": "stream",
          "text": [
            "tensor(2.3442, grad_fn=<NllLossBackward>)\n"
          ],
          "name": "stdout"
        }
      ]
    },
    {
      "cell_type": "markdown",
      "metadata": {
        "id": "v8xoRxlK1o5q"
      },
      "source": [
        "Let's also create an SGD optimizer object as in the previous lab, with a learning rate of 0.01 and momentum parameter=0.5"
      ]
    },
    {
      "cell_type": "code",
      "metadata": {
        "id": "BriYEjnn1zim"
      },
      "source": [
        "optim_SGD = optim.SGD(lognet.parameters(), lr=0.01, momentum=0.5)"
      ],
      "execution_count": null,
      "outputs": []
    },
    {
      "cell_type": "markdown",
      "metadata": {
        "id": "Vui403tZ2D8H"
      },
      "source": [
        "We can now write our training routine. You will find a variant of this code snippet in essentially all pytorch code you ever come across. "
      ]
    },
    {
      "cell_type": "code",
      "metadata": {
        "id": "ehxcwjTT2DJh"
      },
      "source": [
        "def train(net,dataloader, optimizer,loss_fun):\n",
        "  net.train()\n",
        "  for x, t in dataloader:\n",
        "    optimizer.zero_grad()\n",
        "    L = loss_fun(net(x), t)\n",
        "    L.backward()\n",
        "    optimizer.step()"
      ],
      "execution_count": null,
      "outputs": []
    },
    {
      "cell_type": "markdown",
      "metadata": {
        "id": "52YtZ-iQ2kMC"
      },
      "source": [
        "But before running this, we need to make sure we evaluate the performance of our model on the test dataset"
      ]
    },
    {
      "cell_type": "code",
      "metadata": {
        "id": "aZdNEsrJ8h8Z"
      },
      "source": [
        "def test(net,dataloader,loss_fun):\n",
        "  net.eval()\n",
        "  total_L = 0\n",
        "  correct = 0\n",
        "  with torch.no_grad():\n",
        "    for x, t in dataloader:\n",
        "      out = net(x)\n",
        "      total_L += loss_fun(out, t)\n",
        "      _,pred = out.max(dim=1)     # this counts how many we got right\n",
        "      correct += (pred==t).sum() \n",
        "  total_L /= len(dataloader.dataset)\n",
        "  print('\\nTest set: Avg. loss: {:.4f}, Accuracy: {}/{} ({:.0f}%)\\n'.format(\n",
        "    total_L, correct, len(dataloader.dataset),\n",
        "    100. * correct / len(dataloader.dataset)))"
      ],
      "execution_count": null,
      "outputs": []
    },
    {
      "cell_type": "markdown",
      "metadata": {
        "id": "910GxAQ-6fQb"
      },
      "source": [
        "The test code contains essentially only the forward part of the computation. We will be applying it onto the test dataset and with a loss function that does not average, so we can sum it across the whole dataset. The only other difference is that we can use a much bigger mini-batch size because we don't have to worry about the memory-intensive backward step.\n",
        "\n",
        "If we test the performance of the network now, before any training, it should be roughly on 10% (i.e. random correct prediction of 10 classes)"
      ]
    },
    {
      "cell_type": "code",
      "metadata": {
        "id": "4H3RRADu_L_x",
        "outputId": "03254c6e-db0d-4d44-ef77-d88fb6fefa55",
        "colab": {
          "base_uri": "https://localhost:8080/",
          "height": 85
        }
      },
      "source": [
        "print(\"Testing before any training ...\")\n",
        "test(lognet, test_loader,  nn.NLLLoss(reduction='sum'))"
      ],
      "execution_count": null,
      "outputs": [
        {
          "output_type": "stream",
          "text": [
            "Testing before any training ...\n",
            "\n",
            "Test set: Avg. loss: 2.3309, Accuracy: 1119/10000 (11%)\n",
            "\n"
          ],
          "name": "stdout"
        }
      ]
    },
    {
      "cell_type": "markdown",
      "metadata": {
        "id": "cFpecisa-4hX"
      },
      "source": [
        "\n",
        "Let us now do a few train-test iterations, or **epochs** as they are known in the trade:"
      ]
    },
    {
      "cell_type": "code",
      "metadata": {
        "id": "8rq8v7K67GxR"
      },
      "source": [
        "for e in range(10):\n",
        "  print(f\"Epoch: {e+1}/10. Training ...\")\n",
        "  train(lognet, train_loader, optim_SGD, nn.NLLLoss())\n",
        "  print(\"Testing ...\")\n",
        "  test(lognet, test_loader,  nn.NLLLoss(reduction='sum'))  "
      ],
      "execution_count": null,
      "outputs": []
    },
    {
      "cell_type": "markdown",
      "metadata": {
        "id": "yH4c5G2Y_t2X"
      },
      "source": [
        "What performance did you manage to get? You should find that it usually tails off at around 70%. That is definitely better than random but not terribly good. Let us try a different network that includes one hidden layer with a ReLU activation (rectified linear unit, whose response is given by y=max(0,x) )"
      ]
    },
    {
      "cell_type": "code",
      "metadata": {
        "id": "NX7dOGFlAM0n"
      },
      "source": [
        "class MLPNet(nn.Module):\n",
        "    def __init__(self, hidden_size):\n",
        "        super(MLPNet, self).__init__()        \n",
        "        self.fc1 = nn.Linear(784, hidden_size)\n",
        "        self.fc2 = nn.Linear(hidden_size,10)\n",
        "\n",
        "        \n",
        "    def forward(self, x):\n",
        "        x = x.view(-1,784)\n",
        "        x = F.relu(self.fc1(x))\n",
        "        x = self.fc2(x)\n",
        "        return F.log_softmax(x,dim=1)\n",
        "        return x\n",
        "\n",
        "mlpnet = MLPNet(256)\n",
        "\n",
        "optim_SGD = optim.SGD(mlpnet.parameters(), lr=0.01, momentum=0.5)"
      ],
      "execution_count": null,
      "outputs": []
    },
    {
      "cell_type": "markdown",
      "metadata": {
        "id": "cuFgH7B6E7CF"
      },
      "source": [
        "Let's train and test as before."
      ]
    },
    {
      "cell_type": "code",
      "metadata": {
        "id": "1S69oQoiAqP0",
        "outputId": "a6c18c7a-7bfe-4a70-f54b-7a5f9a95875e",
        "colab": {
          "base_uri": "https://localhost:8080/",
          "height": 1000
        }
      },
      "source": [
        "print(\"Testing before any training ...\")\n",
        "test(mlpnet, test_loader,  nn.NLLLoss(reduction='sum'))\n",
        "\n",
        "for e in range(20):\n",
        "  print(f\"Epoch: {e+1}/20. Training ...\")\n",
        "  train(mlpnet, train_loader, optim_SGD, nn.NLLLoss())\n",
        "  print(\"Testing ...\")\n",
        "  test(mlpnet, test_loader,  nn.NLLLoss(reduction='sum'))  "
      ],
      "execution_count": null,
      "outputs": [
        {
          "output_type": "stream",
          "text": [
            "Testing before any training ...\n",
            "\n",
            "Test set: Avg. loss: 2.3012, Accuracy: 1164/10000 (12%)\n",
            "\n",
            "Epoch: 1/20. Training ...\n",
            "Testing ...\n",
            "\n",
            "Test set: Avg. loss: 1.0741, Accuracy: 6664/10000 (67%)\n",
            "\n",
            "Epoch: 2/20. Training ...\n",
            "Testing ...\n",
            "\n",
            "Test set: Avg. loss: 0.9222, Accuracy: 7103/10000 (71%)\n",
            "\n",
            "Epoch: 3/20. Training ...\n",
            "Testing ...\n",
            "\n",
            "Test set: Avg. loss: 0.8170, Accuracy: 7409/10000 (74%)\n",
            "\n",
            "Epoch: 4/20. Training ...\n",
            "Testing ...\n",
            "\n",
            "Test set: Avg. loss: 0.7603, Accuracy: 7601/10000 (76%)\n",
            "\n",
            "Epoch: 5/20. Training ...\n",
            "Testing ...\n",
            "\n",
            "Test set: Avg. loss: 0.7046, Accuracy: 7789/10000 (78%)\n",
            "\n",
            "Epoch: 6/20. Training ...\n",
            "Testing ...\n",
            "\n",
            "Test set: Avg. loss: 0.6787, Accuracy: 7867/10000 (79%)\n",
            "\n",
            "Epoch: 7/20. Training ...\n",
            "Testing ...\n",
            "\n",
            "Test set: Avg. loss: 0.6320, Accuracy: 8024/10000 (80%)\n",
            "\n",
            "Epoch: 8/20. Training ...\n",
            "Testing ...\n",
            "\n",
            "Test set: Avg. loss: 0.6129, Accuracy: 8106/10000 (81%)\n",
            "\n",
            "Epoch: 9/20. Training ...\n",
            "Testing ...\n",
            "\n",
            "Test set: Avg. loss: 0.5885, Accuracy: 8177/10000 (82%)\n",
            "\n",
            "Epoch: 10/20. Training ...\n",
            "Testing ...\n",
            "\n",
            "Test set: Avg. loss: 0.5699, Accuracy: 8246/10000 (82%)\n",
            "\n",
            "Epoch: 11/20. Training ...\n",
            "Testing ...\n",
            "\n",
            "Test set: Avg. loss: 0.5591, Accuracy: 8286/10000 (83%)\n",
            "\n",
            "Epoch: 12/20. Training ...\n",
            "Testing ...\n",
            "\n",
            "Test set: Avg. loss: 0.5398, Accuracy: 8329/10000 (83%)\n",
            "\n",
            "Epoch: 13/20. Training ...\n",
            "Testing ...\n",
            "\n",
            "Test set: Avg. loss: 0.5201, Accuracy: 8399/10000 (84%)\n",
            "\n",
            "Epoch: 14/20. Training ...\n",
            "Testing ...\n",
            "\n",
            "Test set: Avg. loss: 0.5084, Accuracy: 8455/10000 (85%)\n",
            "\n",
            "Epoch: 15/20. Training ...\n",
            "Testing ...\n",
            "\n",
            "Test set: Avg. loss: 0.4921, Accuracy: 8514/10000 (85%)\n",
            "\n",
            "Epoch: 16/20. Training ...\n",
            "Testing ...\n",
            "\n",
            "Test set: Avg. loss: 0.4827, Accuracy: 8536/10000 (85%)\n",
            "\n",
            "Epoch: 17/20. Training ...\n",
            "Testing ...\n",
            "\n",
            "Test set: Avg. loss: 0.4698, Accuracy: 8590/10000 (86%)\n",
            "\n",
            "Epoch: 18/20. Training ...\n",
            "Testing ...\n",
            "\n",
            "Test set: Avg. loss: 0.4660, Accuracy: 8609/10000 (86%)\n",
            "\n",
            "Epoch: 19/20. Training ...\n",
            "Testing ...\n",
            "\n",
            "Test set: Avg. loss: 0.4539, Accuracy: 8638/10000 (86%)\n",
            "\n",
            "Epoch: 20/20. Training ...\n",
            "Testing ...\n",
            "\n",
            "Test set: Avg. loss: 0.4526, Accuracy: 8636/10000 (86%)\n",
            "\n"
          ],
          "name": "stdout"
        }
      ]
    },
    {
      "cell_type": "markdown",
      "metadata": {
        "id": "jnPEdFLdTRRi"
      },
      "source": [
        "Your performance should now be edging towards 90%. Nice! \n",
        "\n",
        "But is it possible to shed some more light as to how the network is performing its computation? Actually in shallow networks such as our MLP, we can sometimes visualize what is going on at least in the first layer, by rendering the weights as images. These weights are essentially patterns that the network is trying to match in the input image. We can access the weights of the first layer `fc1` and use the `.view` method to reshape them into a sequence of 28x28 images. "
      ]
    },
    {
      "cell_type": "code",
      "metadata": {
        "id": "gJRSoaQmUApy"
      },
      "source": [
        "filters = mlpnet.fc1.weight.view(-1, 28, 28).detach()"
      ],
      "execution_count": null,
      "outputs": []
    },
    {
      "cell_type": "markdown",
      "metadata": {
        "id": "aS0zMP6rUSPj"
      },
      "source": [
        "We can then use the `make_grid` command from the `torchvision.utils` module to create a MxN grid of images. Just render them with the `imshow` command in `matplotlib`."
      ]
    },
    {
      "cell_type": "code",
      "metadata": {
        "id": "2Ttb6Y_UOzgN"
      },
      "source": [
        "from torchvision.utils import make_grid\n",
        "\n",
        "grid=make_grid(filters[0:50,None,:,:], nrow=10,normalize=True)\n",
        "plt.imshow(grid.permute(1,2,0),)"
      ],
      "execution_count": null,
      "outputs": []
    },
    {
      "cell_type": "markdown",
      "metadata": {
        "id": "ABqQUcD1GSDC"
      },
      "source": [
        "We can definitely observe some faint patterns corresponding to some of those hiragana script characters. These patterns are the basic level **decisions** that the network is making in the first layer. The output of those decisions is then fed to subsequent layers for more high-level processing until at the end the network is able to infer the class of the input image.\n",
        "\n",
        "## Section 4. Challenges\n",
        "\n",
        "\n",
        "1.   By modifying the mlpnet, can you try a network with two or more hidden layers?\n",
        "2.   Can modify the testing code so that it prints out more detailed error analysis? E.g. accuracy per class, topK  etc) \n",
        "3.   In a similar vein, can you compute a confusion matrix? I.e. can you count the number of datapoints that belonged to class a, and were classified as class b, for a,b in 0,1,2,...,10 ?\n",
        "4. Can you try other datasets in pytorch? You can directly drop in MNIST (run `torchvision.datasets.MNIST`) which has same resolution images but for extra challenge, can you apply your algorithm on CIFAR-10? (run `torchvision.datasets.CIFAR10`) That dataset contains 60,000 color images of 32x32 resolution (so the shape of each image is 3x32x32)\n",
        "\n"
      ]
    }
  ]
}