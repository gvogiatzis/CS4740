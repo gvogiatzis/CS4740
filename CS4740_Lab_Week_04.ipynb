{
  "nbformat": 4,
  "nbformat_minor": 0,
  "metadata": {
    "colab": {
      "name": "CS4740_Lab_Week_04.ipynb",
      "provenance": [],
      "collapsed_sections": [],
      "authorship_tag": "ABX9TyMDoJ73B7IUT9Q72kH7JZ7a",
      "include_colab_link": true
    },
    "kernelspec": {
      "name": "python3",
      "display_name": "Python 3"
    },
    "accelerator": "GPU"
  },
  "cells": [
    {
      "cell_type": "markdown",
      "metadata": {
        "id": "view-in-github",
        "colab_type": "text"
      },
      "source": [
        "<a href=\"https://colab.research.google.com/github/gvogiatzis/CS4740/blob/main/CS4740_Lab_Week_04.ipynb\" target=\"_parent\"><img src=\"https://colab.research.google.com/assets/colab-badge.svg\" alt=\"Open In Colab\"/></a>"
      ]
    },
    {
      "cell_type": "markdown",
      "metadata": {
        "id": "IYtZOri9fuqF"
      },
      "source": [
        "#CS4740 Labs\n",
        "##Week 4 - Convolutional Neural Networks\n",
        "\n",
        "In this lab we will extend the classifier we have seen previously, to CIFAR10, a more challenging dataset of real (although very low-res) images. The dataset is split into ten classes (see below) and there is significant variability within each class.\n",
        "\n",
        "<figure>\n",
        "<center>\n",
        "<img src='https://drive.google.com/uc?export=view&id=1bn4UqHwT0v7Twk01KS9d_jVlOQpeMaNc'/>\n",
        "<figcaption>CIFAR10 images</figcaption></center>\n",
        "</figure>\n",
        "\n",
        "To classify this dataset correctly we will need to upgrade our network to use convolutional layers. And because convolutions are very computationally demanding, we will see how to offload some of those computations to the GPU, dramatically reducing training times. \n",
        "\n",
        "## Section 1 - loading and exploring the dataset\n",
        "\n",
        "First, let us load up the CIFAR10 dataset, for both training and testing."
      ]
    },
    {
      "cell_type": "code",
      "metadata": {
        "id": "2SudY_3wf3Qn",
        "colab": {
          "base_uri": "https://localhost:8080/"
        },
        "outputId": "7038e78d-436a-454f-95d9-f947804bab7d"
      },
      "source": [
        "import matplotlib.pyplot as plt\n",
        "import torch\n",
        "import torch.nn as nn\n",
        "import torch.nn.functional as F\n",
        "import torch.optim as optim\n",
        "import torchvision\n",
        "\n",
        "train_dataset = torchvision.datasets.CIFAR10('.', train=True, download=True,\n",
        "                             transform=torchvision.transforms.ToTensor())\n",
        "\n",
        "test_dataset = torchvision.datasets.CIFAR10('.', train=False, download=True,\n",
        "                             transform=torchvision.transforms.ToTensor())\n",
        "\n",
        "train_loader = torch.utils.data.DataLoader(train_dataset,batch_size=128, shuffle=True)\n",
        "test_loader = torch.utils.data.DataLoader(test_dataset,batch_size=100, shuffle=True)"
      ],
      "execution_count": 28,
      "outputs": [
        {
          "output_type": "stream",
          "text": [
            "Files already downloaded and verified\n",
            "Files already downloaded and verified\n"
          ],
          "name": "stdout"
        }
      ]
    },
    {
      "cell_type": "markdown",
      "metadata": {
        "id": "Xhzjyj-0WMGF"
      },
      "source": [
        "Let's examine one of the training datapoints:"
      ]
    },
    {
      "cell_type": "code",
      "metadata": {
        "colab": {
          "base_uri": "https://localhost:8080/",
          "height": 300
        },
        "id": "bgkv-SbiWghN",
        "outputId": "cdac25e5-55a7-462e-db61-c66aa7b19a99"
      },
      "source": [
        "img, target = train_dataset[30]\n",
        "print(img.shape)\n",
        "plt.imshow(img.permute([1,2,0]))\n",
        "print(train_dataset.classes[target])"
      ],
      "execution_count": 2,
      "outputs": [
        {
          "output_type": "stream",
          "text": [
            "torch.Size([3, 32, 32])\n",
            "airplane\n"
          ],
          "name": "stdout"
        },
        {
          "output_type": "display_data",
          "data": {
            "image/png": "[encoded data removed]",
            "text/plain": [
              "<Figure size 432x288 with 1 Axes>"
            ]
          },
          "metadata": {
            "tags": [],
            "needs_background": "light"
          }
        }
      ]
    },
    {
      "cell_type": "markdown",
      "metadata": {
        "id": "dFhLhDj-X1dH"
      },
      "source": [
        "The images are 32 by 32 and contain 3 color channels which is what we would expect for color images. This is very low res, however if a human is able to correctly classify these images, we should be able to program a neural network. We will be using a convolutional neural network architecture for this task, but first, let us understand how pytorch performs convolutions. \n",
        "\n",
        "We define a convolutional layer with the Conv2d class. The constructor takes the input and output number of channels as well as the size of the convolution kernel. Consider the following convolution layer:"
      ]
    },
    {
      "cell_type": "code",
      "metadata": {
        "id": "5YOf3hAhTiPG"
      },
      "source": [
        "conv = nn.Conv2d(3, 16, 5)"
      ],
      "execution_count": 3,
      "outputs": []
    },
    {
      "cell_type": "markdown",
      "metadata": {
        "id": "1CNxyrnehzJA"
      },
      "source": [
        "This layer receives as input a tensor with 3 channels, and outputs a tensor with 16 channels. The size of the kernel is 5x5. This means that if it is applied on a 3x32x32 tensor it will produce a 16x28x28 tensor output. The 28 comes from the fact that we apply a convolution with a 5-element kernel. A 5-element kernel can slide into 28 (32-5+1) different positions in a 32 element vector.\n",
        "\n",
        "Also note that pytorch layers expect to be applied to batches of tensors. This makes our lives much easier when we come to training but when applying the layer to a single tensor we must remember to insert a dummy singleton dimension in the start (i.e. 1x3x32x32). We can do this with the unsqueeze command.\n",
        "\n",
        "Let's check if the layer gives the output we predict:"
      ]
    },
    {
      "cell_type": "code",
      "metadata": {
        "colab": {
          "base_uri": "https://localhost:8080/"
        },
        "id": "eYz2fT1kTqW6",
        "outputId": "2c363f8d-17d7-4177-e1b9-507e6edd11a3"
      },
      "source": [
        "img, target = train_dataset[30]\n",
        "img = img.unsqueeze(0) # adding a dummy singleton dimension\n",
        "out = conv(img)\n",
        "print(out.shape)"
      ],
      "execution_count": 4,
      "outputs": [
        {
          "output_type": "stream",
          "text": [
            "torch.Size([1, 16, 28, 28])\n"
          ],
          "name": "stdout"
        }
      ]
    },
    {
      "cell_type": "markdown",
      "metadata": {
        "id": "zpviC6TTlhSk"
      },
      "source": [
        "So the convolution layer behaves as expected. Now let's define a conv net architecture. There are litteraly infinite choices but we will keep it simple."
      ]
    },
    {
      "cell_type": "code",
      "metadata": {
        "id": "uHGDn28KiBIg"
      },
      "source": [
        "class ConvNet(nn.Module):\n",
        "    def __init__(self):\n",
        "        super(ConvNet, self).__init__()\n",
        "        self.pool = nn.MaxPool2d(2, 2)\n",
        "        self.conv1 = nn.Conv2d(3, 16, 5)\n",
        "        self.conv2 = nn.Conv2d(16, 64, 5)\n",
        "        self.conv3 = nn.Conv2d(64, 256, 5)\n",
        "        self.conv4 = nn.Conv2d(256, 128, 1)\n",
        "        self.conv5 = nn.Conv2d(128, 10, 1)\n",
        "        self.dropout = nn.Dropout(p=0.2)\n",
        "\n",
        "    def forward(self, x):\n",
        "        x = self.pool(F.relu(self.conv1(x)))\n",
        "        x = self.pool(F.relu(self.conv2(x)))\n",
        "        x = F.relu(self.conv3(x))\n",
        "        x = F.relu(self.conv4(x))\n",
        "        x = self.dropout(x)\n",
        "        x = self.conv5(x)\n",
        "        return x.view(-1,10)\n",
        "\n",
        "convnet = ConvNet()"
      ],
      "execution_count": 5,
      "outputs": []
    },
    {
      "cell_type": "code",
      "metadata": {
        "id": "svABrHCRqyhj"
      },
      "source": [
        "class MLPNet(nn.Module):\n",
        "    def __init__(self, hidden_size):\n",
        "        super(MLPNet, self).__init__()        \n",
        "        self.fc1 = nn.Linear(32*32*3, hidden_size)\n",
        "        self.fc2 = nn.Linear(hidden_size,10)\n",
        "\n",
        "        \n",
        "    def forward(self, x):\n",
        "        x = x.view(-1,32*32*3)\n",
        "        x = F.relu(self.fc1(x))\n",
        "        x = self.fc2(x)\n",
        "        return x\n",
        "\n",
        "mlpnet = MLPNet(256)"
      ],
      "execution_count": 6,
      "outputs": []
    },
    {
      "cell_type": "markdown",
      "metadata": {
        "id": "hGGqgx4LS-6U"
      },
      "source": [
        "The network consists of a sequence of convolusions, relu's and maxpooling layers. Let's follow it step-by-step, as it processes a 3x32x32 tensor.\n",
        "\n",
        "Firstly the network applies a Conv2d(3,16,5) convolution to the 3x32x32 tensor, thereby producing a 16x28x28 output. This is then maxpooled with a 2x2 window. This always has the effect of halving the width and height, giving us a 16x14x14 tensor. \n",
        "\n",
        "This is then colvolved with a Conv2d(16, 64, 5) layer which produces a 64x10x10 output which when maxpooled gives 64x5x5.\n",
        "\n",
        "The network then applies a Conv2d(64, 256, 5) layer which produces a tensor with 256 channels but a width and height of 1. I.e. 256x1x1. This makes sense because the 5x5 kernel can only fit in one way to a 5x5 matrix. The 256x1x1 tensor is in fact just a 256-dimensional vector. \n",
        "\n",
        "We then see a Conv2d(256, 128, 1), which essentially is a fully connected linear layer masquerading as a convolution! When applied to the 256-dimensional vector it has the effect of multiplying that vector with a 256x128 matrix, giving a 128-dimensional vector as output. \n",
        "\n",
        "A convolution that works out as a matrix multiplication may be unintuitive at first but you can convince yourself by working out a simple example. E.g. apply a Conv2d(3, 7, 1) convolution to a 3x1x1 vector to see how you would get a 7x1x1 vector, thereby multiplying with a 3x7 matrix.  It is a useful trick for several reasons, the main one being that we avoid doing unnecessary reshaping of the output tensors. Also, by staying within the convolution world, we can convert any classification network, to a `sliding-window' classifier that can produce classification scores accross all regions of a larger image. \n",
        "\n",
        "Finally the network applies a Conv2d(128, 10, 1) layer to the 128x1x1 tensor (again essentially a FC layer), leading to a 10-dimensional vector. This vector is applied as logits which, when fed to a soft-max will give us probabilities for each class.\n",
        "\n",
        "A word of caution here: in the previous lab, we used a log_softmax output layer and a NLLLoss loss function. Here, we just use a linear output layer (i.e. no processing via soft-max or logs) which forces us to use a CrossEntropyLoss loss function. Either approach is fine. Just make sure you never mix log_softmax with CrossEntropyLoss etc.\n",
        "\n",
        "Let's test the network on our input image tensor:"
      ]
    },
    {
      "cell_type": "code",
      "metadata": {
        "id": "1vV2yyRBtanG",
        "colab": {
          "base_uri": "https://localhost:8080/"
        },
        "outputId": "3a19c669-732d-4260-cc28-a5888182789e"
      },
      "source": [
        "convnet(img)"
      ],
      "execution_count": 7,
      "outputs": [
        {
          "output_type": "execute_result",
          "data": {
            "text/plain": [
              "tensor([[-0.0371, -0.0164, -0.0399,  0.0024,  0.0485,  0.0267, -0.0708,  0.0380,\n",
              "         -0.0819, -0.0155]], grad_fn=<ViewBackward>)"
            ]
          },
          "metadata": {
            "tags": []
          },
          "execution_count": 7
        }
      ]
    },
    {
      "cell_type": "code",
      "metadata": {
        "id": "l8geSA0vrjGT",
        "colab": {
          "base_uri": "https://localhost:8080/"
        },
        "outputId": "d05e077a-ef29-4343-db3a-08aa6b861d1e"
      },
      "source": [
        "mlpnet(img)"
      ],
      "execution_count": 8,
      "outputs": [
        {
          "output_type": "execute_result",
          "data": {
            "text/plain": [
              "tensor([[-0.1603, -0.0681, -0.0331, -0.0100, -0.0559,  0.1038,  0.0195,  0.1813,\n",
              "          0.0047,  0.1002]], grad_fn=<AddmmBackward>)"
            ]
          },
          "metadata": {
            "tags": []
          },
          "execution_count": 8
        }
      ]
    },
    {
      "cell_type": "markdown",
      "metadata": {
        "id": "euV9k1o7te-Z"
      },
      "source": [
        "The network produces a 10-dimensional vector according to plan. "
      ]
    },
    {
      "cell_type": "markdown",
      "metadata": {
        "id": "4g1oIKHruKqm"
      },
      "source": [
        "And now we can define our training and testing code for each epoch. This is litteraly copy-pasted from the code we used last week. These are the benefits of a well-designed deep learning framework like pytorch: the code for doing things like training and testing needs to change very little despite the architectures changing significantly."
      ]
    },
    {
      "cell_type": "code",
      "metadata": {
        "id": "CPbVO3A2t4kc"
      },
      "source": [
        "def train(net,dataloader, optimizer,loss_fun):\n",
        "  net.train()\n",
        "  for x, t in dataloader:\n",
        "    optimizer.zero_grad()\n",
        "    L = loss_fun(net(x), t)\n",
        "    L.backward()\n",
        "    optimizer.step()\n",
        "\n",
        "def test(net,dataloader,loss_fun):\n",
        "  net.eval()\n",
        "  total_L = 0\n",
        "  correct = 0\n",
        "  with torch.no_grad():\n",
        "    for x, t in dataloader:\n",
        "      out = net(x)\n",
        "      total_L += loss_fun(out, t)\n",
        "      _,pred = out.max(dim=1)     # this counts how many we got right\n",
        "      correct += (pred==t).sum() \n",
        "  total_L /= len(dataloader.dataset)\n",
        "  print('\\nTest set: Avg. loss: {:.4f}, Accuracy: {}/{} ({:.0f}%)\\n'.format(\n",
        "    total_L, correct, len(dataloader.dataset),\n",
        "    100. * correct / len(dataloader.dataset)))"
      ],
      "execution_count": 10,
      "outputs": []
    },
    {
      "cell_type": "markdown",
      "metadata": {
        "id": "11nFogE3u3Cu"
      },
      "source": [
        "Unfortunately the only problem here is that our code is CPU based. Because convolutions are so computationally demanding, this will take quite a long time to train. Try it out by running just a single epoch:"
      ]
    },
    {
      "cell_type": "code",
      "metadata": {
        "id": "TVjyhdVBvGRq",
        "colab": {
          "base_uri": "https://localhost:8080/"
        },
        "outputId": "dd7b0725-3ef8-4e2a-b909-f64e6807896d"
      },
      "source": [
        "from time import perf_counter\n",
        "\n",
        "tic = perf_counter()\n",
        "\n",
        "optim_SGD = optim.SGD(convnet.parameters(), lr=0.01, momentum=0.5)\n",
        "\n",
        "train(convnet, train_loader, optim_SGD, nn.CrossEntropyLoss())\n",
        "test(convnet, test_loader,  nn.CrossEntropyLoss(reduction='sum'))\n",
        "\n",
        "toc = perf_counter()\n",
        "print(f\"One epoch of training took {toc - tic:0.4f} seconds\")"
      ],
      "execution_count": 11,
      "outputs": [
        {
          "output_type": "stream",
          "text": [
            "\n",
            "Test set: Avg. loss: 2.0582, Accuracy: 2284/10000 (23%)\n",
            "\n",
            "One epoch of training took 60.4722 seconds\n"
          ],
          "name": "stdout"
        }
      ]
    },
    {
      "cell_type": "markdown",
      "metadata": {
        "id": "WW_FzGcavJSJ"
      },
      "source": [
        "It seems one epoch takes about a minute. Deep learning researchers are notoriously impatient when training neural nets. We really don't like to wait, life is just too short! Which is why GPU computing comes to the rescue. Hopefully you are running this code on a GPU-enabled computer (e.g. google colab) which means that with a couple of lines of code you can reap the benefits of super-fast training of deep convnets. \n",
        "\n",
        "Now this can be done in a variety of ways. The simplest way is to use the `.cuda()` method on a layer, network or a tensor. E.g."
      ]
    },
    {
      "cell_type": "code",
      "metadata": {
        "id": "_87bQcVOwMsD"
      },
      "source": [
        "#define tensor\n",
        "A = torch.rand(1,3,32,32)\n",
        "\n",
        "# define a conv layer\n",
        "conv = nn.Conv2d(3, 16, 5)\n",
        "\n",
        "# move both tensor and layer to the GPU memory\n",
        "A = A.cuda()\n",
        "conv = conv.cuda()\n",
        "\n",
        "# perform convolution on GPU\n",
        "B = conv(A)\n",
        "\n",
        "# bring result of computation back to CPU memmory\n",
        "B = B.cpu()"
      ],
      "execution_count": 12,
      "outputs": []
    },
    {
      "cell_type": "markdown",
      "metadata": {
        "id": "uWRARn-Yxpfo"
      },
      "source": [
        "A slightly more flexible way of achieving the same result would be to use the `.to()` method, which allows us to specify programmaticaly which device we'd like to carry out the computation on. That way if our computer does not have a cuda-enabled GPU we can fall back to slower CPU computations. We can always find out if our computer supports fast GPU computations by using the `torch.cuda.is_available()` command. We can neatly create a torch device object that is either a GPU card or the plain old CPU, depending on our system capabilities, with the following snippet:"
      ]
    },
    {
      "cell_type": "code",
      "metadata": {
        "id": "th7G5lorxo4Z"
      },
      "source": [
        "device = torch.device(\"cuda\" if torch.cuda.is_available() else \"cpu\") "
      ],
      "execution_count": 22,
      "outputs": []
    },
    {
      "cell_type": "markdown",
      "metadata": {
        "id": "SVWR9QYxy71N"
      },
      "source": [
        "We can then achieve the same result as the code above with code that will work in non-cuda enabled systems:"
      ]
    },
    {
      "cell_type": "code",
      "metadata": {
        "id": "HYXsOphfy01y"
      },
      "source": [
        "#define tensor\n",
        "A = torch.rand(1,3,32,32)\n",
        "\n",
        "# define a conv layer\n",
        "conv = nn.Conv2d(3, 16, 5)\n",
        "\n",
        "# move both tensor and layer to the GPU memory\n",
        "A = A.to(device)\n",
        "conv = conv.to(device)\n",
        "\n",
        "# perform convolution on GPU\n",
        "B = conv(A)\n",
        "\n",
        "# bring result of computation back to CPU memory (if it is already in the CPU this will not do any extra copy)\n",
        "B = B.cpu()"
      ],
      "execution_count": 14,
      "outputs": []
    },
    {
      "cell_type": "markdown",
      "metadata": {
        "id": "sT1oYpxCziYD"
      },
      "source": [
        "Pytorch allows us to create tensors directly to the device that we want, instead of in CPU memory first and then copying across to the GPU. So our `A` tensor above can be constructed as:"
      ]
    },
    {
      "cell_type": "code",
      "metadata": {
        "id": "WRahTj31z9l-"
      },
      "source": [
        "#define tensor\n",
        "A = torch.rand(1,3,32,32, device = device)"
      ],
      "execution_count": 15,
      "outputs": []
    },
    {
      "cell_type": "markdown",
      "metadata": {
        "id": "0qvdPz8R14aH"
      },
      "source": [
        "We can now rewrite our network creation line as: "
      ]
    },
    {
      "cell_type": "code",
      "metadata": {
        "id": "QsMCw9Gn13ph"
      },
      "source": [
        "convnet = ConvNet().to(device)\n",
        "mlpnet = MLPNet(256).to(device)"
      ],
      "execution_count": 16,
      "outputs": []
    },
    {
      "cell_type": "markdown",
      "metadata": {
        "id": "ZpFBKYCe2Ixk"
      },
      "source": [
        "And the training and testing code must move the data across to the GPU if available:"
      ]
    },
    {
      "cell_type": "code",
      "metadata": {
        "id": "LydAUpLgit6B"
      },
      "source": [
        "def train_gpu(net,dataloader, optimizer,loss_fun):\n",
        "  net.train()\n",
        "  for x, t in dataloader:\n",
        "    x = x.to(device)\n",
        "    t = t.to(device)\n",
        "    optimizer.zero_grad()\n",
        "    L = loss_fun(net(x), t)\n",
        "    L.backward()\n",
        "    optimizer.step()\n",
        "\n",
        "def test_gpu(net,dataloader,loss_fun):\n",
        "  net.eval()\n",
        "  total_L = 0\n",
        "  correct = 0\n",
        "  with torch.no_grad():\n",
        "    for x, t in dataloader:\n",
        "      x = x.to(device)\n",
        "      t = t.to(device)\n",
        "      out = net(x)\n",
        "      total_L += loss_fun(out, t)\n",
        "      _,pred = out.max(dim=1)     # this counts how many we got right\n",
        "      correct += (pred==t).sum() \n",
        "  total_L /= len(dataloader.dataset)\n",
        "  print('\\nTest set: Avg. loss: {:.4f}, Accuracy: {}/{} ({:.0f}%)\\n'.format(\n",
        "    total_L, correct, len(dataloader.dataset),\n",
        "    100. * correct / len(dataloader.dataset)))"
      ],
      "execution_count": 16,
      "outputs": []
    },
    {
      "cell_type": "markdown",
      "metadata": {
        "id": "hp4WNcBN2inG"
      },
      "source": [
        "The training code now runs much faster. Let's try one epoch now"
      ]
    },
    {
      "cell_type": "code",
      "metadata": {
        "colab": {
          "base_uri": "https://localhost:8080/"
        },
        "id": "WPzCW98iArPm",
        "outputId": "2729af31-a20c-4a1c-948d-7dfc291c89bd"
      },
      "source": [
        "from time import perf_counter\n",
        "\n",
        "tic = perf_counter()\n",
        "\n",
        "optim_SGD = optim.SGD(convnet.parameters(), lr=0.01, momentum=0.5)\n",
        "train_gpu(convnet, train_loader, optim_SGD, nn.CrossEntropyLoss())\n",
        "test_gpu(convnet, test_loader,  nn.CrossEntropyLoss(reduction='sum'))\n",
        "\n",
        "toc = perf_counter()\n",
        "print(f\"One epoch of gpu-enabled training took {toc - tic:0.4f} seconds\")"
      ],
      "execution_count": 18,
      "outputs": [
        {
          "output_type": "stream",
          "text": [
            "\n",
            "Test set: Avg. loss: 2.1139, Accuracy: 2225/10000 (22%)\n",
            "\n",
            "One epoch of gpu-enabled training took 12.9855 seconds\n"
          ],
          "name": "stdout"
        }
      ]
    },
    {
      "cell_type": "markdown",
      "metadata": {
        "id": "asxljPQE6ARH"
      },
      "source": [
        "We can now define the epoch code more generally"
      ]
    },
    {
      "cell_type": "code",
      "metadata": {
        "id": "vlKIANtZ6DjL"
      },
      "source": [
        "def run_epochs(num_of_epochs, net, train_loader, test_loader):\n",
        "\n",
        "    optim_SGD = optim.SGD(net.parameters(), lr=0.01,\n",
        "                      momentum=0.9, weight_decay=5e-4)\n",
        "    scheduler = torch.optim.lr_scheduler.CosineAnnealingLR(optim_SGD, T_max=200)\n",
        "\n",
        "    # optim_SGD = optim.SGD(net.parameters(), lr=0.01, momentum=0.5)\n",
        "    for e in range(num_of_epochs):\n",
        "        print(f\"Epoch: {e+1}/{num_of_epochs}. Training ...\")\n",
        "        train_gpu(net, train_loader, optim_SGD, nn.CrossEntropyLoss())\n",
        "        print(\"Testing ...\")\n",
        "        test_gpu(net, test_loader,  nn.CrossEntropyLoss(reduction='sum'))\n",
        "        scheduler.step()    \n"
      ],
      "execution_count": 32,
      "outputs": []
    },
    {
      "cell_type": "code",
      "metadata": {
        "id": "FA4ptMJHivDd"
      },
      "source": [
        "convnet = ConvNet().to(device)\n",
        "run_epochs(100, convnet, train_loader, test_loader)"
      ],
      "execution_count": null,
      "outputs": []
    },
    {
      "cell_type": "markdown",
      "metadata": {
        "id": "RAgfxk0WNtHi"
      },
      "source": [
        "## Going deep: improving performance by deeper architectures\n",
        "\n",
        "We have seen how a basic convnet is already outperforming fully connected layers by leveraging translation invariance. Convnets can perform the same operations on images with far less parameters, which makes them easier to train. But can we do even better? \n",
        "\n",
        "\n"
      ]
    },
    {
      "cell_type": "code",
      "metadata": {
        "id": "Ja0cu0TWpZSG"
      },
      "source": [
        "avglayer = nn.AvgPool2d(kernel_size=1, stride=1)\n"
      ],
      "execution_count": 2,
      "outputs": []
    },
    {
      "cell_type": "code",
      "metadata": {
        "id": "7XfWlcVT3RUw"
      },
      "source": [
        "x = torch.randn(10,3,4,4)\n",
        "y = avglayer(x)"
      ],
      "execution_count": 3,
      "outputs": []
    },
    {
      "cell_type": "code",
      "metadata": {
        "colab": {
          "base_uri": "https://localhost:8080/"
        },
        "id": "EE4I_kdz3XHm",
        "outputId": "92c9d6b1-3353-4e60-b53e-9351782b67d3"
      },
      "source": [
        "y.shape"
      ],
      "execution_count": 4,
      "outputs": [
        {
          "output_type": "execute_result",
          "data": {
            "text/plain": [
              "torch.Size([10, 3, 4, 4])"
            ]
          },
          "metadata": {
            "tags": []
          },
          "execution_count": 4
        }
      ]
    },
    {
      "cell_type": "code",
      "metadata": {
        "colab": {
          "base_uri": "https://localhost:8080/"
        },
        "id": "NBONXSI-3Yi0",
        "outputId": "ba81a5a2-a5f7-46be-985a-9808ce6d9e12"
      },
      "source": [
        "x.shape"
      ],
      "execution_count": 5,
      "outputs": [
        {
          "output_type": "execute_result",
          "data": {
            "text/plain": [
              "torch.Size([10, 3, 4, 4])"
            ]
          },
          "metadata": {
            "tags": []
          },
          "execution_count": 5
        }
      ]
    },
    {
      "cell_type": "code",
      "metadata": {
        "id": "ZrlIZpOE3aF0"
      },
      "source": [
        "x-y"
      ],
      "execution_count": null,
      "outputs": []
    },
    {
      "cell_type": "code",
      "metadata": {
        "id": "Py5Qivm63bzE"
      },
      "source": [
        "cfg = {\n",
        "    'VGG11': [64, 'M', 128, 'M', 256, 256, 'M', 512, 512, 'M', 512, 512, 'M'],\n",
        "    'VGG13': [64, 64, 'M', 128, 128, 'M', 256, 256, 'M', 512, 512, 'M', 512, 512, 'M'],\n",
        "    'VGG16': [64, 64, 'M', 128, 128, 'M', 256, 256, 256, 'M', 512, 512, 512, 'M', 512, 512, 512, 'M'],\n",
        "    'VGG19': [64, 64, 'M', 128, 128, 'M', 256, 256, 256, 256, 'M', 512, 512, 512, 512, 'M', 512, 512, 512, 512, 'M'],\n",
        "}\n",
        "\n",
        "\n",
        "class VGG(nn.Module):\n",
        "    def __init__(self, vgg_name):\n",
        "        super(VGG, self).__init__()\n",
        "        self.features = self._make_layers(cfg[vgg_name])\n",
        "        self.classifier = nn.Linear(512, 10)\n",
        "\n",
        "    def forward(self, x):\n",
        "        out = self.features(x)\n",
        "        out = out.view(out.size(0), -1)\n",
        "        out = self.classifier(out)\n",
        "        return out\n",
        "\n",
        "    def _make_layers(self, cfg):\n",
        "        layers = []\n",
        "        in_channels = 3\n",
        "        for x in cfg:\n",
        "            if x == 'M':\n",
        "                layers += [nn.MaxPool2d(kernel_size=2, stride=2)]\n",
        "            else:\n",
        "                layers += [nn.Conv2d(in_channels, x, kernel_size=3, padding=1),\n",
        "                           nn.BatchNorm2d(x),\n",
        "                           nn.ReLU(inplace=True)]\n",
        "                in_channels = x\n",
        "        layers += [nn.AvgPool2d(kernel_size=1, stride=1)]\n",
        "        return nn.Sequential(*layers)\n"
      ],
      "execution_count": 24,
      "outputs": []
    },
    {
      "cell_type": "code",
      "metadata": {
        "colab": {
          "base_uri": "https://localhost:8080/"
        },
        "id": "Y9WpAe_V-uf4",
        "outputId": "dc128223-ff5b-4031-c4f7-e45b29e88c7a"
      },
      "source": [
        "vggnet = VGG('VGG16').cuda()\n",
        "run_epochs(100, vggnet, train_loader, test_loader)"
      ],
      "execution_count": 31,
      "outputs": [
        {
          "output_type": "stream",
          "text": [
            "Epoch: 1/10. Training ...\n",
            "Testing ...\n",
            "\n",
            "Test set: Avg. loss: 1.1282, Accuracy: 5981/10000 (60%)\n",
            "\n",
            "Epoch: 2/10. Training ...\n",
            "Testing ...\n",
            "\n",
            "Test set: Avg. loss: 0.9404, Accuracy: 6859/10000 (69%)\n",
            "\n",
            "Epoch: 3/10. Training ...\n",
            "Testing ...\n",
            "\n",
            "Test set: Avg. loss: 0.8629, Accuracy: 7123/10000 (71%)\n",
            "\n",
            "Epoch: 4/10. Training ...\n",
            "Testing ...\n",
            "\n",
            "Test set: Avg. loss: 0.6593, Accuracy: 7811/10000 (78%)\n",
            "\n",
            "Epoch: 5/10. Training ...\n",
            "Testing ...\n",
            "\n",
            "Test set: Avg. loss: 0.7563, Accuracy: 7663/10000 (77%)\n",
            "\n",
            "Epoch: 6/10. Training ...\n",
            "Testing ...\n",
            "\n",
            "Test set: Avg. loss: 0.5710, Accuracy: 8203/10000 (82%)\n",
            "\n",
            "Epoch: 7/10. Training ...\n",
            "Testing ...\n",
            "\n",
            "Test set: Avg. loss: 0.5962, Accuracy: 8220/10000 (82%)\n",
            "\n",
            "Epoch: 8/10. Training ...\n",
            "Testing ...\n",
            "\n",
            "Test set: Avg. loss: 0.6436, Accuracy: 8114/10000 (81%)\n",
            "\n",
            "Epoch: 9/10. Training ...\n",
            "Testing ...\n",
            "\n",
            "Test set: Avg. loss: 0.7324, Accuracy: 8029/10000 (80%)\n",
            "\n",
            "Epoch: 10/10. Training ...\n",
            "Testing ...\n",
            "\n",
            "Test set: Avg. loss: 0.6989, Accuracy: 8144/10000 (81%)\n",
            "\n",
            "Epoch: 11/10. Training ...\n",
            "Testing ...\n",
            "\n",
            "Test set: Avg. loss: 0.7341, Accuracy: 8118/10000 (81%)\n",
            "\n",
            "Epoch: 12/10. Training ...\n",
            "Testing ...\n",
            "\n",
            "Test set: Avg. loss: 0.6736, Accuracy: 8333/10000 (83%)\n",
            "\n",
            "Epoch: 13/10. Training ...\n",
            "Testing ...\n",
            "\n",
            "Test set: Avg. loss: 0.7802, Accuracy: 8148/10000 (81%)\n",
            "\n",
            "Epoch: 14/10. Training ...\n",
            "Testing ...\n",
            "\n",
            "Test set: Avg. loss: 0.6910, Accuracy: 8402/10000 (84%)\n",
            "\n",
            "Epoch: 15/10. Training ...\n",
            "Testing ...\n",
            "\n",
            "Test set: Avg. loss: 0.7501, Accuracy: 8235/10000 (82%)\n",
            "\n",
            "Epoch: 16/10. Training ...\n",
            "Testing ...\n",
            "\n",
            "Test set: Avg. loss: 0.6817, Accuracy: 8402/10000 (84%)\n",
            "\n",
            "Epoch: 17/10. Training ...\n",
            "Testing ...\n",
            "\n",
            "Test set: Avg. loss: 0.8546, Accuracy: 8181/10000 (82%)\n",
            "\n",
            "Epoch: 18/10. Training ...\n",
            "Testing ...\n",
            "\n",
            "Test set: Avg. loss: 0.7930, Accuracy: 8272/10000 (83%)\n",
            "\n",
            "Epoch: 19/10. Training ...\n",
            "Testing ...\n",
            "\n",
            "Test set: Avg. loss: 0.7392, Accuracy: 8380/10000 (84%)\n",
            "\n",
            "Epoch: 20/10. Training ...\n",
            "Testing ...\n",
            "\n",
            "Test set: Avg. loss: 0.8792, Accuracy: 8136/10000 (81%)\n",
            "\n",
            "Epoch: 21/10. Training ...\n",
            "Testing ...\n",
            "\n",
            "Test set: Avg. loss: 0.9281, Accuracy: 8079/10000 (81%)\n",
            "\n",
            "Epoch: 22/10. Training ...\n",
            "Testing ...\n",
            "\n",
            "Test set: Avg. loss: 0.8105, Accuracy: 8271/10000 (83%)\n",
            "\n",
            "Epoch: 23/10. Training ...\n",
            "Testing ...\n",
            "\n",
            "Test set: Avg. loss: 0.8725, Accuracy: 8214/10000 (82%)\n",
            "\n",
            "Epoch: 24/10. Training ...\n",
            "Testing ...\n",
            "\n",
            "Test set: Avg. loss: 0.7036, Accuracy: 8492/10000 (85%)\n",
            "\n",
            "Epoch: 25/10. Training ...\n",
            "Testing ...\n",
            "\n",
            "Test set: Avg. loss: 0.7599, Accuracy: 8364/10000 (84%)\n",
            "\n",
            "Epoch: 26/10. Training ...\n",
            "Testing ...\n",
            "\n",
            "Test set: Avg. loss: 0.7556, Accuracy: 8326/10000 (83%)\n",
            "\n",
            "Epoch: 27/10. Training ...\n",
            "Testing ...\n",
            "\n",
            "Test set: Avg. loss: 0.7275, Accuracy: 8437/10000 (84%)\n",
            "\n",
            "Epoch: 28/10. Training ...\n",
            "Testing ...\n",
            "\n",
            "Test set: Avg. loss: 0.7105, Accuracy: 8458/10000 (85%)\n",
            "\n",
            "Epoch: 29/10. Training ...\n",
            "Testing ...\n",
            "\n",
            "Test set: Avg. loss: 0.7359, Accuracy: 8380/10000 (84%)\n",
            "\n",
            "Epoch: 30/10. Training ...\n",
            "Testing ...\n",
            "\n",
            "Test set: Avg. loss: 0.7537, Accuracy: 8429/10000 (84%)\n",
            "\n",
            "Epoch: 31/10. Training ...\n",
            "Testing ...\n",
            "\n",
            "Test set: Avg. loss: 0.7260, Accuracy: 8506/10000 (85%)\n",
            "\n",
            "Epoch: 32/10. Training ...\n",
            "Testing ...\n",
            "\n",
            "Test set: Avg. loss: 0.7174, Accuracy: 8430/10000 (84%)\n",
            "\n",
            "Epoch: 33/10. Training ...\n",
            "Testing ...\n",
            "\n",
            "Test set: Avg. loss: 0.6797, Accuracy: 8550/10000 (86%)\n",
            "\n",
            "Epoch: 34/10. Training ...\n",
            "Testing ...\n",
            "\n",
            "Test set: Avg. loss: 0.6850, Accuracy: 8504/10000 (85%)\n",
            "\n",
            "Epoch: 35/10. Training ...\n",
            "Testing ...\n",
            "\n",
            "Test set: Avg. loss: 0.7137, Accuracy: 8462/10000 (85%)\n",
            "\n",
            "Epoch: 36/10. Training ...\n",
            "Testing ...\n",
            "\n",
            "Test set: Avg. loss: 0.7027, Accuracy: 8508/10000 (85%)\n",
            "\n",
            "Epoch: 37/10. Training ...\n",
            "Testing ...\n",
            "\n",
            "Test set: Avg. loss: 0.7128, Accuracy: 8543/10000 (85%)\n",
            "\n",
            "Epoch: 38/10. Training ...\n",
            "Testing ...\n",
            "\n",
            "Test set: Avg. loss: 0.7452, Accuracy: 8472/10000 (85%)\n",
            "\n",
            "Epoch: 39/10. Training ...\n",
            "Testing ...\n",
            "\n",
            "Test set: Avg. loss: 0.6914, Accuracy: 8478/10000 (85%)\n",
            "\n",
            "Epoch: 40/10. Training ...\n",
            "Testing ...\n",
            "\n",
            "Test set: Avg. loss: 0.8345, Accuracy: 8317/10000 (83%)\n",
            "\n",
            "Epoch: 41/10. Training ...\n",
            "Testing ...\n",
            "\n",
            "Test set: Avg. loss: 0.7605, Accuracy: 8394/10000 (84%)\n",
            "\n",
            "Epoch: 42/10. Training ...\n",
            "Testing ...\n",
            "\n",
            "Test set: Avg. loss: 0.7344, Accuracy: 8484/10000 (85%)\n",
            "\n",
            "Epoch: 43/10. Training ...\n",
            "Testing ...\n",
            "\n",
            "Test set: Avg. loss: 0.7761, Accuracy: 8361/10000 (84%)\n",
            "\n",
            "Epoch: 44/10. Training ...\n",
            "Testing ...\n",
            "\n",
            "Test set: Avg. loss: 0.7045, Accuracy: 8462/10000 (85%)\n",
            "\n",
            "Epoch: 45/10. Training ...\n",
            "Testing ...\n",
            "\n",
            "Test set: Avg. loss: 0.7089, Accuracy: 8481/10000 (85%)\n",
            "\n",
            "Epoch: 46/10. Training ...\n",
            "Testing ...\n",
            "\n",
            "Test set: Avg. loss: 0.7022, Accuracy: 8495/10000 (85%)\n",
            "\n",
            "Epoch: 47/10. Training ...\n",
            "Testing ...\n",
            "\n",
            "Test set: Avg. loss: 0.7379, Accuracy: 8459/10000 (85%)\n",
            "\n",
            "Epoch: 48/10. Training ...\n",
            "Testing ...\n",
            "\n",
            "Test set: Avg. loss: 0.7233, Accuracy: 8439/10000 (84%)\n",
            "\n",
            "Epoch: 49/10. Training ...\n",
            "Testing ...\n",
            "\n",
            "Test set: Avg. loss: 0.6712, Accuracy: 8556/10000 (86%)\n",
            "\n",
            "Epoch: 50/10. Training ...\n",
            "Testing ...\n",
            "\n",
            "Test set: Avg. loss: 0.6924, Accuracy: 8573/10000 (86%)\n",
            "\n",
            "Epoch: 51/10. Training ...\n",
            "Testing ...\n",
            "\n",
            "Test set: Avg. loss: 0.6738, Accuracy: 8564/10000 (86%)\n",
            "\n",
            "Epoch: 52/10. Training ...\n",
            "Testing ...\n",
            "\n",
            "Test set: Avg. loss: 0.6665, Accuracy: 8615/10000 (86%)\n",
            "\n",
            "Epoch: 53/10. Training ...\n",
            "Testing ...\n",
            "\n",
            "Test set: Avg. loss: 0.7838, Accuracy: 8375/10000 (84%)\n",
            "\n",
            "Epoch: 54/10. Training ...\n",
            "Testing ...\n",
            "\n",
            "Test set: Avg. loss: 0.6391, Accuracy: 8572/10000 (86%)\n",
            "\n",
            "Epoch: 55/10. Training ...\n",
            "Testing ...\n",
            "\n",
            "Test set: Avg. loss: 0.6280, Accuracy: 8664/10000 (87%)\n",
            "\n",
            "Epoch: 56/10. Training ...\n",
            "Testing ...\n",
            "\n",
            "Test set: Avg. loss: 0.6654, Accuracy: 8594/10000 (86%)\n",
            "\n",
            "Epoch: 57/10. Training ...\n",
            "Testing ...\n",
            "\n",
            "Test set: Avg. loss: 0.6395, Accuracy: 8609/10000 (86%)\n",
            "\n",
            "Epoch: 58/10. Training ...\n",
            "Testing ...\n",
            "\n",
            "Test set: Avg. loss: 0.8742, Accuracy: 8247/10000 (82%)\n",
            "\n",
            "Epoch: 59/10. Training ...\n",
            "Testing ...\n",
            "\n",
            "Test set: Avg. loss: 0.6408, Accuracy: 8592/10000 (86%)\n",
            "\n",
            "Epoch: 60/10. Training ...\n",
            "Testing ...\n",
            "\n",
            "Test set: Avg. loss: 0.6955, Accuracy: 8530/10000 (85%)\n",
            "\n",
            "Epoch: 61/10. Training ...\n",
            "Testing ...\n",
            "\n",
            "Test set: Avg. loss: 0.7682, Accuracy: 8394/10000 (84%)\n",
            "\n",
            "Epoch: 62/10. Training ...\n",
            "Testing ...\n",
            "\n",
            "Test set: Avg. loss: 0.8387, Accuracy: 8140/10000 (81%)\n",
            "\n",
            "Epoch: 63/10. Training ...\n",
            "Testing ...\n",
            "\n",
            "Test set: Avg. loss: 0.6338, Accuracy: 8592/10000 (86%)\n",
            "\n",
            "Epoch: 64/10. Training ...\n",
            "Testing ...\n",
            "\n",
            "Test set: Avg. loss: 0.6102, Accuracy: 8669/10000 (87%)\n",
            "\n",
            "Epoch: 65/10. Training ...\n",
            "Testing ...\n",
            "\n",
            "Test set: Avg. loss: 0.5895, Accuracy: 8717/10000 (87%)\n",
            "\n",
            "Epoch: 66/10. Training ...\n",
            "Testing ...\n",
            "\n",
            "Test set: Avg. loss: 0.6426, Accuracy: 8621/10000 (86%)\n",
            "\n",
            "Epoch: 67/10. Training ...\n",
            "Testing ...\n",
            "\n",
            "Test set: Avg. loss: 0.6158, Accuracy: 8687/10000 (87%)\n",
            "\n",
            "Epoch: 68/10. Training ...\n",
            "Testing ...\n",
            "\n",
            "Test set: Avg. loss: 0.6040, Accuracy: 8700/10000 (87%)\n",
            "\n",
            "Epoch: 69/10. Training ...\n",
            "Testing ...\n",
            "\n",
            "Test set: Avg. loss: 0.5801, Accuracy: 8722/10000 (87%)\n",
            "\n",
            "Epoch: 70/10. Training ...\n",
            "Testing ...\n",
            "\n",
            "Test set: Avg. loss: 0.5478, Accuracy: 8782/10000 (88%)\n",
            "\n",
            "Epoch: 71/10. Training ...\n",
            "Testing ...\n",
            "\n",
            "Test set: Avg. loss: 0.5322, Accuracy: 8804/10000 (88%)\n",
            "\n",
            "Epoch: 72/10. Training ...\n",
            "Testing ...\n",
            "\n",
            "Test set: Avg. loss: 0.5214, Accuracy: 8823/10000 (88%)\n",
            "\n",
            "Epoch: 73/10. Training ...\n",
            "Testing ...\n",
            "\n",
            "Test set: Avg. loss: 0.5144, Accuracy: 8826/10000 (88%)\n",
            "\n",
            "Epoch: 74/10. Training ...\n",
            "Testing ...\n",
            "\n",
            "Test set: Avg. loss: 0.5068, Accuracy: 8831/10000 (88%)\n",
            "\n",
            "Epoch: 75/10. Training ...\n",
            "Testing ...\n",
            "\n",
            "Test set: Avg. loss: 0.5071, Accuracy: 8832/10000 (88%)\n",
            "\n",
            "Epoch: 76/10. Training ...\n",
            "Testing ...\n",
            "\n",
            "Test set: Avg. loss: 0.4999, Accuracy: 8836/10000 (88%)\n",
            "\n",
            "Epoch: 77/10. Training ...\n",
            "Testing ...\n",
            "\n",
            "Test set: Avg. loss: 0.4964, Accuracy: 8836/10000 (88%)\n",
            "\n",
            "Epoch: 78/10. Training ...\n",
            "Testing ...\n",
            "\n",
            "Test set: Avg. loss: 0.4935, Accuracy: 8841/10000 (88%)\n",
            "\n",
            "Epoch: 79/10. Training ...\n",
            "Testing ...\n",
            "\n",
            "Test set: Avg. loss: 0.4901, Accuracy: 8842/10000 (88%)\n",
            "\n",
            "Epoch: 80/10. Training ...\n",
            "Testing ...\n",
            "\n",
            "Test set: Avg. loss: 0.4852, Accuracy: 8857/10000 (89%)\n",
            "\n",
            "Epoch: 81/10. Training ...\n",
            "Testing ...\n",
            "\n",
            "Test set: Avg. loss: 0.4830, Accuracy: 8856/10000 (89%)\n",
            "\n",
            "Epoch: 82/10. Training ...\n",
            "Testing ...\n",
            "\n",
            "Test set: Avg. loss: 0.4821, Accuracy: 8847/10000 (88%)\n",
            "\n",
            "Epoch: 83/10. Training ...\n",
            "Testing ...\n",
            "\n",
            "Test set: Avg. loss: 0.4809, Accuracy: 8852/10000 (89%)\n",
            "\n",
            "Epoch: 84/10. Training ...\n",
            "Testing ...\n",
            "\n",
            "Test set: Avg. loss: 0.4753, Accuracy: 8861/10000 (89%)\n",
            "\n",
            "Epoch: 85/10. Training ...\n",
            "Testing ...\n",
            "\n",
            "Test set: Avg. loss: 0.4758, Accuracy: 8863/10000 (89%)\n",
            "\n",
            "Epoch: 86/10. Training ...\n",
            "Testing ...\n",
            "\n",
            "Test set: Avg. loss: 0.4749, Accuracy: 8862/10000 (89%)\n",
            "\n",
            "Epoch: 87/10. Training ...\n",
            "Testing ...\n",
            "\n",
            "Test set: Avg. loss: 0.4738, Accuracy: 8850/10000 (88%)\n",
            "\n",
            "Epoch: 88/10. Training ...\n",
            "Testing ...\n",
            "\n",
            "Test set: Avg. loss: 0.4705, Accuracy: 8867/10000 (89%)\n",
            "\n",
            "Epoch: 89/10. Training ...\n",
            "Testing ...\n",
            "\n",
            "Test set: Avg. loss: 0.4747, Accuracy: 8869/10000 (89%)\n",
            "\n",
            "Epoch: 90/10. Training ...\n",
            "Testing ...\n",
            "\n",
            "Test set: Avg. loss: 0.4716, Accuracy: 8871/10000 (89%)\n",
            "\n",
            "Epoch: 91/10. Training ...\n",
            "Testing ...\n",
            "\n",
            "Test set: Avg. loss: 0.4693, Accuracy: 8878/10000 (89%)\n",
            "\n",
            "Epoch: 92/10. Training ...\n",
            "Testing ...\n",
            "\n",
            "Test set: Avg. loss: 0.4685, Accuracy: 8876/10000 (89%)\n",
            "\n",
            "Epoch: 93/10. Training ...\n",
            "Testing ...\n",
            "\n",
            "Test set: Avg. loss: 0.4684, Accuracy: 8873/10000 (89%)\n",
            "\n",
            "Epoch: 94/10. Training ...\n",
            "Testing ...\n",
            "\n",
            "Test set: Avg. loss: 0.4684, Accuracy: 8878/10000 (89%)\n",
            "\n",
            "Epoch: 95/10. Training ...\n",
            "Testing ...\n",
            "\n",
            "Test set: Avg. loss: 0.4684, Accuracy: 8869/10000 (89%)\n",
            "\n",
            "Epoch: 96/10. Training ...\n",
            "Testing ...\n",
            "\n",
            "Test set: Avg. loss: 0.4670, Accuracy: 8886/10000 (89%)\n",
            "\n",
            "Epoch: 97/10. Training ...\n",
            "Testing ...\n",
            "\n",
            "Test set: Avg. loss: 0.4674, Accuracy: 8890/10000 (89%)\n",
            "\n",
            "Epoch: 98/10. Training ...\n",
            "Testing ...\n",
            "\n",
            "Test set: Avg. loss: 0.4660, Accuracy: 8883/10000 (89%)\n",
            "\n",
            "Epoch: 99/10. Training ...\n",
            "Testing ...\n",
            "\n",
            "Test set: Avg. loss: 0.4667, Accuracy: 8883/10000 (89%)\n",
            "\n",
            "Epoch: 100/10. Training ...\n",
            "Testing ...\n",
            "\n",
            "Test set: Avg. loss: 0.4672, Accuracy: 8886/10000 (89%)\n",
            "\n"
          ],
          "name": "stdout"
        }
      ]
    },
    {
      "cell_type": "code",
      "metadata": {
        "id": "3gNW25ri32Rn"
      },
      "source": [
        "optim_SGD = optim.SGD(vggnet.parameters(), lr=0.01, momentum=0.9)\n",
        "\n",
        "for e in range(100):\n",
        "  print(f\"Epoch: {e+1}/10. Training ...\")\n",
        "  train_gpu(vggnet, train_loader, optim_SGD, nn.CrossEntropyLoss())\n",
        "  print(\"Testing ...\")\n",
        "  test_gpu(vggnet, test_loader,  nn.CrossEntropyLoss(reduction='sum')) "
      ],
      "execution_count": null,
      "outputs": []
    },
    {
      "cell_type": "code",
      "metadata": {
        "id": "PfcfEC3D4ecL"
      },
      "source": [
        ""
      ],
      "execution_count": null,
      "outputs": []
    }
  ]
}