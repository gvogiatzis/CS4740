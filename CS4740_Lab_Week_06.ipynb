{
  "nbformat": 4,
  "nbformat_minor": 0,
  "metadata": {
    "colab": {
      "name": "CS4740_Lab_Week_06.ipynb",
      "provenance": [],
      "authorship_tag": "ABX9TyPJ9RNIaueGZfLDRBV4Oj8D",
      "include_colab_link": true
    },
    "kernelspec": {
      "name": "python3",
      "display_name": "Python 3"
    }
  },
  "cells": [
    {
      "cell_type": "markdown",
      "metadata": {
        "id": "view-in-github",
        "colab_type": "text"
      },
      "source": [
        "<a href=\"https://colab.research.google.com/github/gvogiatzis/CS4740/blob/main/CS4740_Lab_Week_06.ipynb\" target=\"_parent\"><img src=\"https://colab.research.google.com/assets/colab-badge.svg\" alt=\"Open In Colab\"/></a>"
      ]
    },
    {
      "cell_type": "markdown",
      "metadata": {
        "id": "mmNmOeK20Eat"
      },
      "source": [
        "# [CS4740 Labs] Week 6: Deep Generative Models"
      ]
    },
    {
      "cell_type": "markdown",
      "metadata": {
        "id": "rMog9XKI3kmJ"
      },
      "source": [
        "##Introduction"
      ]
    },
    {
      "cell_type": "markdown",
      "metadata": {
        "id": "mClXvBar1zjf"
      },
      "source": [
        "One of the big successes of Deep Learning that sparked significant interest in the last few years is Deep Generative Models. These are deep neural architectures whose main goal is *analysis-by-synthesis*. In other words, they represent an attempt to analyse a complex dataset by synthesizing new datapoints that preserve the statistical properties of the original data. In achieving this, the deep generative models are able to extract meaningful information about the statistical distribution that gave rise to the original dataset, thereby providing us with some sort of *high-level understanding*. \n",
        "\n",
        "These Deep Generative architectures have been used to generate realistic data from a variety of sources, including among others, celebrity face images and artistic paintings!\n",
        "\n",
        "In this lab we will explore some of the properties of Deep Generative Models by running several experiments using popular generative architectures. "
      ]
    },
    {
      "cell_type": "markdown",
      "metadata": {
        "id": "zVj6s7gF3nhV"
      },
      "source": [
        "## Transpose convolutions\n",
        "\n",
        "Before we can "
      ]
    },
    {
      "cell_type": "code",
      "metadata": {
        "id": "qKFHgTTK0Kpf",
        "outputId": "be516991-1dab-4d14-d0e5-65dae879c64c",
        "colab": {
          "base_uri": "https://localhost:8080/"
        }
      },
      "source": [
        "import numpy as np\n",
        "\n",
        "w = [2,1,-3,-1]\n",
        "\n",
        "N = 10\n",
        "\n",
        "W=[]\n",
        "\n",
        "for i in range(N):\n",
        "    W.append(np.correlate([i==I for I in range(N)],w,mode='valid'))\n",
        "W = np.array(W)\n",
        "print(W)\n",
        "\n",
        "Wt=[]\n",
        "M=N-len(w)+1\n",
        "\n",
        "for i in range(M):\n",
        "    Wt.append(np.convolve([i==I for I in range(M)],w,mode='full'))\n",
        "\n",
        "Wt = np.array(Wt).T\n",
        "print(Wt)"
      ],
      "execution_count": 4,
      "outputs": [
        {
          "output_type": "stream",
          "text": [
            "[[ 2  0  0  0  0  0  0]\n",
            " [ 1  2  0  0  0  0  0]\n",
            " [-3  1  2  0  0  0  0]\n",
            " [-1 -3  1  2  0  0  0]\n",
            " [ 0 -1 -3  1  2  0  0]\n",
            " [ 0  0 -1 -3  1  2  0]\n",
            " [ 0  0  0 -1 -3  1  2]\n",
            " [ 0  0  0  0 -1 -3  1]\n",
            " [ 0  0  0  0  0 -1 -3]\n",
            " [ 0  0  0  0  0  0 -1]]\n",
            "[[ 2  0  0  0  0  0  0]\n",
            " [ 1  2  0  0  0  0  0]\n",
            " [-3  1  2  0  0  0  0]\n",
            " [-1 -3  1  2  0  0  0]\n",
            " [ 0 -1 -3  1  2  0  0]\n",
            " [ 0  0 -1 -3  1  2  0]\n",
            " [ 0  0  0 -1 -3  1  2]\n",
            " [ 0  0  0  0 -1 -3  1]\n",
            " [ 0  0  0  0  0 -1 -3]\n",
            " [ 0  0  0  0  0  0 -1]]\n"
          ],
          "name": "stdout"
        }
      ]
    },
    {
      "cell_type": "code",
      "metadata": {
        "id": "4sj57sglTj4n"
      },
      "source": [
        "import matplotlib.pyplot as plt\n",
        "import torch\n",
        "import torch.nn as nn\n",
        "import torch.nn.functional as F\n",
        "import torch.optim as optim\n",
        "import torchvision"
      ],
      "execution_count": 2,
      "outputs": []
    },
    {
      "cell_type": "code",
      "metadata": {
        "id": "liW9QLkNJ6h2"
      },
      "source": [
        "conv = nn.Conv1d()"
      ],
      "execution_count": null,
      "outputs": []
    }
  ]
}