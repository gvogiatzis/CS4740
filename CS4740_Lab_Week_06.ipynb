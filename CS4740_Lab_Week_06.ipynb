{
  "nbformat": 4,
  "nbformat_minor": 0,
  "metadata": {
    "colab": {
      "name": "CS4740_Lab_Week_06.ipynb",
      "provenance": [],
      "authorship_tag": "ABX9TyNbYcUYWZr0fCU8KcgzUyX9",
      "include_colab_link": true
    },
    "kernelspec": {
      "name": "python3",
      "display_name": "Python 3"
    },
    "accelerator": "GPU"
  },
  "cells": [
    {
      "cell_type": "markdown",
      "metadata": {
        "id": "view-in-github",
        "colab_type": "text"
      },
      "source": [
        "<a href=\"https://colab.research.google.com/github/gvogiatzis/CS4740/blob/main/CS4740_Lab_Week_06.ipynb\" target=\"_parent\"><img src=\"https://colab.research.google.com/assets/colab-badge.svg\" alt=\"Open In Colab\"/></a>"
      ]
    },
    {
      "cell_type": "markdown",
      "metadata": {
        "id": "mmNmOeK20Eat"
      },
      "source": [
        "# [CS4740 Labs] Week 6: Deep Generative Models"
      ]
    },
    {
      "cell_type": "markdown",
      "metadata": {
        "id": "rMog9XKI3kmJ"
      },
      "source": [
        "##Introduction"
      ]
    },
    {
      "cell_type": "markdown",
      "metadata": {
        "id": "mClXvBar1zjf"
      },
      "source": [
        "One of the big successes of Deep Learning that sparked significant interest in the last few years is Deep Generative Models. These are deep neural architectures whose main goal is *analysis-by-synthesis*. In other words, they represent an attempt to analyse a complex dataset by synthesizing new datapoints that preserve the statistical properties of the original data. In achieving this, the deep generative models are able to extract meaningful information about the statistical distribution that gave rise to the original dataset, thereby providing us with some sort of *high-level understanding*. \n",
        "\n",
        "These Deep Generative architectures have been used to generate realistic data from a variety of sources, including among others, celebrity face images and artistic paintings!\n",
        "\n",
        "In this lab we will explore some of the properties of Deep Generative Models by running several experiments using simple versions of popular generative architectures. "
      ]
    },
    {
      "cell_type": "markdown",
      "metadata": {
        "id": "258RXXL2Xqgi"
      },
      "source": [
        "##A very simple VAE"
      ]
    },
    {
      "cell_type": "markdown",
      "metadata": {
        "id": "VWhG9IP_Fm3a"
      },
      "source": [
        "Let's begin by exploring a very simple toy dimensionality reduction problem. To keep things easy to visualize, we will limit ourselves to two dimensions. The code below generates the well known spiral dataset. "
      ]
    },
    {
      "cell_type": "code",
      "metadata": {
        "id": "AvZuCnvYXtsw"
      },
      "source": [
        "import matplotlib.pyplot as plt\n",
        "import torch\n",
        "import torch.nn as nn\n",
        "import torch.nn.functional as F\n",
        "import torch.optim as optim\n",
        "import torchvision\n",
        "import numpy as np\n",
        "\n",
        "def spiral(n_points, noise=1.5):\n",
        "    n = np.sqrt(np.random.rand(n_points,1)) * 780 * (2*np.pi)/360\n",
        "    dx = -np.cos(n)*n + np.random.rand(n_points,1) * noise\n",
        "    dy = np.sin(n)*n + np.random.rand(n_points,1) * noise\n",
        "    return np.hstack((dx,dy))"
      ],
      "execution_count": 3,
      "outputs": []
    },
    {
      "cell_type": "markdown",
      "metadata": {
        "id": "RbHH8JwzHEPB"
      },
      "source": [
        "Let's see what this looks like:"
      ]
    },
    {
      "cell_type": "code",
      "metadata": {
        "colab": {
          "base_uri": "https://localhost:8080/",
          "height": 282
        },
        "id": "X0yOHYM7HG_5",
        "outputId": "0613800b-94e0-403b-a2c3-a890546a2309"
      },
      "source": [
        "X = spiral(n_points=1000)\n",
        "plt.plot(X[:,0],X[:,1],'rx')"
      ],
      "execution_count": 4,
      "outputs": [
        {
          "output_type": "execute_result",
          "data": {
            "text/plain": [
              "[<matplotlib.lines.Line2D at 0x7f9d23a59ef0>]"
            ]
          },
          "metadata": {
            "tags": []
          },
          "execution_count": 4
        },
        {
          "output_type": "display_data",
          "data": {
            "image/png": "[encoded data removed]",
            "text/plain": [
              "<Figure size 432x288 with 1 Axes>"
            ]
          },
          "metadata": {
            "tags": [],
            "needs_background": "light"
          }
        }
      ]
    },
    {
      "cell_type": "markdown",
      "metadata": {
        "id": "smFJ5iOGHNv4"
      },
      "source": [
        "What we immediately observe is that while the points are two-dimensional, the space they come from is only one-dimensional. Which means this dataset could be a good candidate for a Variational Auto-Encoder with a 1-dimensional encoding. We will be using the simple MLP class below for both encoder and decoder networks. The network layers are generated according to the input of the constructor. The `hidden` holds the sizes of all the hidden layers (if any). We also define the input and output sizes."
      ]
    },
    {
      "cell_type": "code",
      "metadata": {
        "id": "w63j04_IXw4P"
      },
      "source": [
        "class MLPNet(nn.Module):\n",
        "    def __init__(self, input_size=2, hidden=[3], output_size=2):\n",
        "        super(MLPNet, self).__init__()\n",
        "        s0=input_size\n",
        "        self.hidden_layers = nn.ModuleList()\n",
        "        for h in hidden:\n",
        "            self.hidden_layers.append(nn.Sequential(nn.Linear(s0,h),nn.LeakyReLU()))\n",
        "            s0=h\n",
        "        self.classifier= nn.Linear(s0,output_size)\n",
        "        \n",
        "    def forward(self, x):\n",
        "        for f in self.hidden_layers:\n",
        "            x = f(x)\n",
        "        return self.classifier(x)"
      ],
      "execution_count": 5,
      "outputs": []
    },
    {
      "cell_type": "markdown",
      "metadata": {
        "id": "7qMJ-FfS0G7E"
      },
      "source": [
        "Let us experiment with an encoder network that takes maps two dimentional input to one dimensional output:\n"
      ]
    },
    {
      "cell_type": "code",
      "metadata": {
        "colab": {
          "base_uri": "https://localhost:8080/"
        },
        "id": "9GlgYrL-0GJB",
        "outputId": "1bccf697-b743-48fd-e382-c92f40e1817f"
      },
      "source": [
        "enc = MLPNet(input_size=2, hidden=[64,256,512,128], output_size=1)\n",
        "X = spiral(n_points=1000)\n",
        "x = torch.tensor(X,dtype=torch.float)\n",
        "\n",
        "z = enc(x)\n",
        "print(x.shape)\n",
        "print(z.shape)"
      ],
      "execution_count": 8,
      "outputs": [
        {
          "output_type": "stream",
          "text": [
            "torch.Size([1000, 2])\n",
            "torch.Size([1000, 1])\n"
          ],
          "name": "stdout"
        }
      ]
    },
    {
      "cell_type": "markdown",
      "metadata": {
        "id": "wwRaBK6AAVhr"
      },
      "source": [
        "The decoder network will similarly map the 1D code back onto the 2D space of the original data:\n"
      ]
    },
    {
      "cell_type": "code",
      "metadata": {
        "colab": {
          "base_uri": "https://localhost:8080/"
        },
        "id": "C1e6TBAVAVh0",
        "outputId": "abd50900-f118-4452-c9bf-089697ebb830"
      },
      "source": [
        "dec = MLPNet(input_size=1, hidden=[64,256,512,128], output_size=2)\n",
        "\n",
        "x_=dec(z)\n",
        "print(z.shape)\n",
        "print(x_.shape)"
      ],
      "execution_count": 10,
      "outputs": [
        {
          "output_type": "stream",
          "text": [
            "torch.Size([1000, 1])\n",
            "torch.Size([1000, 2])\n"
          ],
          "name": "stdout"
        }
      ]
    },
    {
      "cell_type": "markdown",
      "metadata": {
        "id": "nsderJfkBeN3"
      },
      "source": [
        "We are now ready to define the training code for encoder and decoder networks. The loss function we use is MSE because the autoencoder must reproduce its own input as closely as possible. The loss we compute has this form:\n",
        "\n",
        "`L = loss(x, dec(enc(x)))`\n",
        "\n",
        "which penalises the difference between the input datapoint and the reconstructed version of that datapoint as it passes through the bottleneck of the autoencoder. \n",
        "\n",
        "Every 1000 epochs we will produce a scatterplot of the reconstructed input data superimposed on the original data. If all goes well we should observe an overlap between the two. "
      ]
    },
    {
      "cell_type": "code",
      "metadata": {
        "id": "mlx8HtDPX7pi"
      },
      "source": [
        "from itertools import chain\n",
        "\n",
        "N = 1000\n",
        "X = spiral(n_points=N)\n",
        "\n",
        "device = torch.device(\"cuda\" if torch.cuda.is_available() else \"cpu\")\n",
        "x = torch.tensor(X,dtype=torch.float, device=device)\n",
        "num_of_epochs = 10000\n",
        "z_dim = 1\n",
        "\n",
        "enc = MLPNet(input_size=2, hidden=[64,256,512,128], output_size=z_dim).to(device)\n",
        "dec = MLPNet(input_size=z_dim, hidden=[64,256,512,128], output_size=2).to(device)\n",
        "\n",
        "optimizer = optim.Adam(chain(enc.parameters(),dec.parameters()), lr=0.001)\n",
        "\n",
        "loss = nn.MSELoss(reduction='mean')\n",
        "\n",
        "for e in range(num_of_epochs):\n",
        "    # z = enc(x)\n",
        "    # # z += 1e-2*torch.randn_like(z, device=device)\n",
        "    # x_ = dec(z)\n",
        "    # # L = loss(x, x_) + 1e-4*z.square().sum()\n",
        "    # # L = loss(x, x_)\n",
        "    L = loss(x, dec(enc(x)))\n",
        "    optimizer.zero_grad()\n",
        "    L.backward()\n",
        "    optimizer.step()\n",
        "\n",
        "    if e%1000 ==0:\n",
        "        x_ = dec(enc(x))\n",
        "        x_ = x_.cpu().detach().numpy()\n",
        "        plt.figure()\n",
        "        plt.plot(X[:,0],X[:,1],'x')\n",
        "        plt.plot(x_[:,0],x_[:,1],'+')\n",
        "        plt.title(f\"{L.item()}\")\n",
        "        plt.show()\n",
        "    "
      ],
      "execution_count": null,
      "outputs": []
    },
    {
      "cell_type": "markdown",
      "metadata": {
        "id": "zVj6s7gF3nhV"
      },
      "source": [
        "## A very simple GAN\n",
        "\n",
        "Before we can "
      ]
    },
    {
      "cell_type": "code",
      "metadata": {
        "id": "Rh8FGW96umgB"
      },
      "source": [
        "N = 1000\n",
        "\n",
        "# X, _ = make_blobs(n_samples=N, centers=4, cluster_std=0.60, random_state=0)\n",
        "X = spiral(n_points=N)\n",
        "# plt.plot(X[:,0],X[:,1],'rx')"
      ],
      "execution_count": 15,
      "outputs": []
    },
    {
      "cell_type": "code",
      "metadata": {
        "id": "ddj1udPyBXAa"
      },
      "source": [
        "device = torch.device(\"cuda\" if torch.cuda.is_available() else \"cpu\")\n",
        "x = torch.tensor(X,dtype=torch.float, device=device)\n",
        "num_of_epochs = 50000\n",
        "z_dim = 2\n",
        "\n",
        "disc = MLPNet(input_size=2, hidden=[128,256,128], output_size=1).to(device)\n",
        "gen = MLPNet(input_size=z_dim, hidden=[128,256,128], output_size=2).to(device)\n",
        "\n",
        "optim_d = optim.Adam(disc.parameters(), lr=0.001)\n",
        "optim_g = optim.Adam(gen.parameters(), lr=0.001)\n",
        "\n",
        "loss = nn.BCEWithLogitsLoss()\n",
        "\n",
        "for e in range(num_of_epochs):\n",
        "    z = torch.randn(N,z_dim, device=device)\n",
        "\n",
        "    L_dis = (loss(disc(gen(z)),torch.zeros(N,1,device=device)) +\n",
        "            loss(disc(x), torch.ones(N,1,device=device)))\n",
        "    optim_d.zero_grad()\n",
        "    L_dis.backward()\n",
        "    optim_d.step()\n",
        "\n",
        "    L_gen = loss(disc(gen(z)),torch.ones(N,1,device=device))\n",
        "    optim_g.zero_grad()\n",
        "    L_gen.backward()\n",
        "    optim_g.step()\n",
        "\n",
        "    if e%1000 ==0:\n",
        "        x_gen = gen(z).cpu().detach().numpy()\n",
        "        plt.figure()\n",
        "        plt.plot(X[:,0],X[:,1],'x')\n",
        "        plt.plot(x_gen[:,0],x_gen[:,1],'+')\n",
        "        plt.show()\n",
        "    "
      ],
      "execution_count": null,
      "outputs": []
    },
    {
      "cell_type": "markdown",
      "metadata": {
        "id": "7Vp4VRKSz8aM"
      },
      "source": [
        "Try with one-dimensional $z$."
      ]
    }
  ]
}