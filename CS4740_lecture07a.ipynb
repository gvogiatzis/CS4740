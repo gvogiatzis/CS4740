{
  "nbformat": 4,
  "nbformat_minor": 0,
  "metadata": {
    "colab": {
      "name": "CS4740_lecture06.ipynb",
      "provenance": [],
      "collapsed_sections": [],
      "authorship_tag": "ABX9TyPAWLnoZ7jydbEYxLPX9oAe",
      "include_colab_link": true
    },
    "kernelspec": {
      "name": "python3",
      "display_name": "Python 3"
    }
  },
  "cells": [
    {
      "cell_type": "markdown",
      "metadata": {
        "id": "view-in-github",
        "colab_type": "text"
      },
      "source": [
        "<a href=\"https://colab.research.google.com/github/gvogiatzis/CS4740/blob/main/CS4740_lecture06.ipynb\" target=\"_parent\"><img src=\"https://colab.research.google.com/assets/colab-badge.svg\" alt=\"Open In Colab\"/></a>"
      ]
    },
    {
      "cell_type": "code",
      "metadata": {
        "id": "30bM6N1RvDKN"
      },
      "source": [
        "from collections import defaultdict\n",
        "from random import choice,random\n",
        "import matplotlib.pyplot as plt\n",
        "\n",
        "alpha = 0.5\n",
        "\n",
        "actions = [(1,0),(-1,0),(0,1),(0,-1)]\n",
        "action_names = [\"right\",\"left\",\"up\",\"down\"]\n",
        "\n",
        "visits = defaultdict(lambda :0)\n",
        "def init_state():\n",
        "  return (0,0)\n",
        "\n",
        "def epsilon_greedy(epsilon, actions, Q):\n",
        "  if random() < epsilon:\n",
        "    return choice(actions)\n",
        "  else:\n",
        "    return max(actions, key=lambda a:Q[S,a])\n",
        "\n",
        "\n",
        "def next_state_and_reward(s,a):\n",
        "  wind = [0,0,0,1,1,1,2,2,1,0]\n",
        "  clamp = lambda x,u,v: min(max(u,x),v)\n",
        "  x = clamp(s[0] + a[0],0,9)\n",
        "  y = clamp(s[1] + a[1] + wind[s[0]], -3,3)\n",
        "  return (x,y), -1\n",
        "\n",
        "def done(s):\n",
        "  return s==(7,0)"
      ],
      "execution_count": 1,
      "outputs": []
    },
    {
      "cell_type": "code",
      "metadata": {
        "id": "_sUp-REXJrq-"
      },
      "source": [
        "MAX_EPISODES = 1000\n",
        "Q=defaultdict(lambda :0)\n",
        "for e in range(MAX_EPISODES):\n",
        "  S=init_state()\n",
        "  while not done(S):\n",
        "    A = epsilon_greedy(0.1, actions, Q)\n",
        "    S_new, R = next_state_and_reward(S,A)\n",
        "    target = R + max([Q[S_new,a] for a in actions])\n",
        "    Q[S,A] = (1-alpha) * Q[S,A] + alpha * target\n",
        "    S = S_new"
      ],
      "execution_count": 2,
      "outputs": []
    },
    {
      "cell_type": "code",
      "metadata": {
        "id": "oPsQj3OJyNJQ"
      },
      "source": [
        "Q=defaultdict(lambda :0)\n",
        "S = init_state()\n",
        "episodes=0\n",
        "E=[]\n",
        "\n",
        "rewards=[]\n",
        "tot_reward=0\n",
        "for t in range(8000):\n",
        "  if done(S):    \n",
        "    episodes+=1\n",
        "    rewards.append(tot_reward)\n",
        "    tot_reward=0\n",
        "    S=init_state()\n",
        "  A = epsilon_greedy(0.1, actions, Q)\n",
        "  S_new,R = next_state_and_reward(S,A)\n",
        "  tot_reward += R\n",
        "  target = R + max([Q[S_new,a] for a in actions])\n",
        "  Q[S,A] = (1-alpha) * Q[S,A] + alpha * target\n",
        "  S = S_new\n",
        "  E.append(episodes)"
      ],
      "execution_count": 7,
      "outputs": []
    },
    {
      "cell_type": "code",
      "metadata": {
        "colab": {
          "base_uri": "https://localhost:8080/",
          "height": 279
        },
        "id": "MRogt-j061_N",
        "outputId": "3749339f-0f61-42e6-96fb-18c1ddfb5811"
      },
      "source": [
        "f = plt.figure()\n",
        "plt.plot(E,'r-')\n",
        "plt.xlabel('timesteps')\n",
        "plt.ylabel('episodes')\n",
        "f.savefig('episodes_vs_timesteps.pdf')"
      ],
      "execution_count": 6,
      "outputs": [
        {
          "output_type": "display_data",
          "data": {
            "image/png": "[encoded data removed]",
            "text/plain": [
              "<Figure size 432x288 with 1 Axes>"
            ]
          },
          "metadata": {
            "tags": [],
            "needs_background": "light"
          }
        }
      ]
    },
    {
      "cell_type": "code",
      "metadata": {
        "colab": {
          "base_uri": "https://localhost:8080/",
          "height": 279
        },
        "id": "o3m8NP8JN7xY",
        "outputId": "7a1ae5ad-c263-4608-e870-d43eb5450d72"
      },
      "source": [
        "f = plt.figure()\n",
        "plt.plot(rewards,'r-')\n",
        "plt.xlabel('episodes')\n",
        "plt.ylabel('total reward')\n",
        "f.savefig('totreward_vs_episodes.pdf')"
      ],
      "execution_count": 11,
      "outputs": [
        {
          "output_type": "display_data",
          "data": {
            "image/png": "[encoded data removed]",
            "text/plain": [
              "<Figure size 432x288 with 1 Axes>"
            ]
          },
          "metadata": {
            "tags": [],
            "needs_background": "light"
          }
        }
      ]
    },
    {
      "cell_type": "code",
      "metadata": {
        "id": "q62RKNeC7zaI",
        "colab": {
          "base_uri": "https://localhost:8080/"
        },
        "outputId": "b47ed8df-01b4-4f26-b87d-5b94bdb715a8"
      },
      "source": [
        "[Q[(0,0),a] for a in actions]"
      ],
      "execution_count": 12,
      "outputs": [
        {
          "output_type": "execute_result",
          "data": {
            "text/plain": [
              "[-15.0, -15.549544741828274, -15.010163626472858, -15.096718828716966]"
            ]
          },
          "metadata": {
            "tags": []
          },
          "execution_count": 12
        }
      ]
    },
    {
      "cell_type": "code",
      "metadata": {
        "colab": {
          "base_uri": "https://localhost:8080/"
        },
        "id": "uYGMiQK2763n",
        "outputId": "388f9130-2955-48a9-a1f1-ebe0df21cdb2"
      },
      "source": [
        "S=init_state()\n",
        "i=1\n",
        "while not done(S):\n",
        "  A = epsilon_greedy(0.0, actions, Q)\n",
        "  S_new, R = next_state_and_reward(S,A)\n",
        "  print(f\"{i}:{S}->{S_new}\")\n",
        "  i+=1\n",
        "  S = S_new"
      ],
      "execution_count": null,
      "outputs": [
        {
          "output_type": "stream",
          "text": [
            "1:(0, 0)->(1, 0)\n",
            "2:(1, 0)->(2, 0)\n",
            "3:(2, 0)->(3, 0)\n",
            "4:(3, 0)->(4, 1)\n",
            "5:(4, 1)->(5, 2)\n",
            "6:(5, 2)->(6, 3)\n",
            "7:(6, 3)->(7, 3)\n",
            "8:(7, 3)->(8, 3)\n",
            "9:(8, 3)->(9, 3)\n",
            "10:(9, 3)->(9, 2)\n",
            "11:(9, 2)->(9, 1)\n",
            "12:(9, 1)->(9, 0)\n",
            "13:(9, 0)->(9, -1)\n",
            "14:(9, -1)->(8, -1)\n",
            "15:(8, -1)->(7, 0)\n"
          ],
          "name": "stdout"
        }
      ]
    },
    {
      "cell_type": "code",
      "metadata": {
        "colab": {
          "base_uri": "https://localhost:8080/"
        },
        "id": "DmFsp5xvS9Kq",
        "outputId": "997fff52-a3b8-48b1-e89a-f1126a7ff325"
      },
      "source": [
        "S=init_state()\n",
        "i=1\n",
        "print(\"\\\\begin{tabular}{c|cccc}\")\n",
        "print(\" & right & left & up & down\\\\\\\\\")\n",
        "print(\"\\\\hline\")\n",
        "while not done(S):\n",
        "  print(f\"{S}&\",end='')\n",
        "  for a in actions:\n",
        "      print(f\"{Q[S,a]:0.2f} & \",end='')\n",
        "  print(\"\\\\\\\\\")\n",
        "  A = epsilon_greedy(0.0, actions, Q)\n",
        "  S_new, R = next_state_and_reward(S,A)\n",
        "  # print(f\"{i}:{S}->{S_new}\")\n",
        "  i+=1\n",
        "  S = S_new\n",
        "\n",
        "print(f\"{S} &\",end='')\n",
        "for a in actions:\n",
        "    print(f\"{Q[S,a]:0.2f} &\",end='')\n",
        "print(\"\\\\\\\\\")\n",
        "print(\"\\\\end{tabular}\")"
      ],
      "execution_count": 31,
      "outputs": [
        {
          "output_type": "stream",
          "text": [
            "\\begin{tabular}{c|cccc}\n",
            " & right & left & up & down\\\\\n",
            "\\hline\n",
            "(0, 0)&-15.00 & -15.55 & -15.01 & -15.10 & \\\\\n",
            "(1, 0)&-14.00 & -15.85 & -14.00 & -14.81 & \\\\\n",
            "(2, 0)&-13.00 & -13.24 & -13.76 & -13.83 & \\\\\n",
            "(3, 0)&-12.00 & -13.57 & -12.92 & -12.50 & \\\\\n",
            "(4, 1)&-11.00 & -11.76 & -11.72 & -11.94 & \\\\\n",
            "(5, 2)&-10.00 & -11.83 & -10.09 & -10.87 & \\\\\n",
            "(6, 3)&-9.00 & -10.54 & -10.00 & -9.99 & \\\\\n",
            "(7, 3)&-8.00 & -9.90 & -8.94 & -8.99 & \\\\\n",
            "(8, 3)&-7.00 & -8.94 & -7.94 & -7.98 & \\\\\n",
            "(9, 3)&-7.00 & -7.99 & -7.00 & -6.00 & \\\\\n",
            "(9, 2)&-5.89 & -7.59 & -6.82 & -5.00 & \\\\\n",
            "(9, 1)&-4.99 & -6.77 & -5.98 & -4.00 & \\\\\n",
            "(9, 0)&-3.94 & -5.38 & -4.84 & -3.00 & \\\\\n",
            "(9, -1)&-2.94 & -2.00 & -3.88 & -2.89 & \\\\\n",
            "(8, -1)&-3.97 & -1.00 & -3.48 & -2.00 & \\\\\n",
            "(7, 0) &0.00 &0.00 &0.00 &0.00 &\\\\\n",
            "\\end{tabular}\n"
          ],
          "name": "stdout"
        }
      ]
    },
    {
      "cell_type": "code",
      "metadata": {
        "colab": {
          "base_uri": "https://localhost:8080/"
        },
        "id": "7sssig4qR07S",
        "outputId": "0acbe306-1703-41fc-e5dd-9152ae6ff66a"
      },
      "source": [
        "for sx in range(10):\n",
        "  for sy in range(-3,4):\n",
        "    print(f\"{(sx,sy)}\\t|\",end='')\n",
        "    for a in actions:\n",
        "      print(f\"{Q[(sx,sy),a]:0.2f}\\t\",end='')\n",
        "    print()\n"
      ],
      "execution_count": 19,
      "outputs": [
        {
          "output_type": "stream",
          "text": [
            "(0, -3)\t|-13.29\t-13.52\t-13.79\t-13.52\t\n",
            "(0, -2)\t|-13.73\t-13.38\t-13.45\t-13.85\t\n",
            "(0, -1)\t|-14.35\t-14.53\t-14.69\t-14.31\t\n",
            "(0, 0)\t|-15.00\t-15.55\t-15.01\t-15.10\t\n",
            "(0, 1)\t|-14.40\t-14.70\t-14.50\t-14.60\t\n",
            "(0, 2)\t|-13.95\t-13.91\t-14.02\t-14.50\t\n",
            "(0, 3)\t|-13.72\t-13.60\t-13.80\t-14.07\t\n",
            "(1, -3)\t|-12.81\t-13.29\t-12.97\t-13.09\t\n",
            "(1, -2)\t|-13.21\t-13.48\t-13.64\t-13.39\t\n",
            "(1, -1)\t|-13.91\t-14.38\t-14.58\t-14.03\t\n",
            "(1, 0)\t|-14.00\t-15.85\t-14.00\t-14.81\t\n",
            "(1, 1)\t|-13.73\t-13.89\t-13.88\t-14.19\t\n",
            "(1, 2)\t|-13.46\t-13.73\t-13.48\t-13.84\t\n",
            "(1, 3)\t|-13.39\t-13.45\t-13.57\t-13.16\t\n",
            "(2, -3)\t|-12.04\t-12.92\t-11.86\t-12.36\t\n",
            "(2, -2)\t|-12.42\t-13.14\t-13.11\t-12.41\t\n",
            "(2, -1)\t|-12.99\t-13.09\t-13.18\t-13.11\t\n",
            "(2, 0)\t|-13.00\t-13.24\t-13.76\t-13.83\t\n",
            "(2, 1)\t|-12.99\t-13.11\t-13.15\t-13.43\t\n",
            "(2, 2)\t|-12.78\t-13.82\t-13.15\t-12.88\t\n",
            "(2, 3)\t|-12.90\t-12.77\t-12.68\t-13.08\t\n",
            "(3, -3)\t|-11.23\t-11.96\t-11.36\t-11.32\t\n",
            "(3, -2)\t|-11.68\t-12.57\t-11.99\t-11.98\t\n",
            "(3, -1)\t|-12.00\t-12.02\t-12.15\t-12.36\t\n",
            "(3, 0)\t|-12.00\t-13.57\t-12.92\t-12.50\t\n",
            "(3, 1)\t|-12.00\t-12.70\t-12.27\t-12.41\t\n",
            "(3, 2)\t|-12.00\t-12.37\t-12.61\t-12.37\t\n",
            "(3, 3)\t|-12.00\t-12.18\t-12.58\t-12.62\t\n",
            "(4, -3)\t|0.00\t0.00\t0.00\t0.00\t\n",
            "(4, -2)\t|-10.49\t-11.01\t-10.84\t-10.80\t\n",
            "(4, -1)\t|-10.83\t-11.90\t-11.29\t-11.50\t\n",
            "(4, 0)\t|-11.00\t-11.78\t-11.10\t-11.32\t\n",
            "(4, 1)\t|-11.00\t-11.76\t-11.72\t-11.94\t\n",
            "(4, 2)\t|-11.00\t-12.35\t-11.28\t-11.50\t\n",
            "(4, 3)\t|-11.00\t-11.35\t-11.24\t-11.71\t\n",
            "(5, -3)\t|0.00\t0.00\t0.00\t0.00\t\n",
            "(5, -2)\t|0.00\t0.00\t0.00\t0.00\t\n",
            "(5, -1)\t|-9.61\t-10.77\t-10.28\t-9.88\t\n",
            "(5, 0)\t|-9.96\t-10.16\t-10.04\t-10.00\t\n",
            "(5, 1)\t|-10.00\t-11.26\t-10.83\t-10.57\t\n",
            "(5, 2)\t|-10.00\t-11.83\t-10.09\t-10.87\t\n",
            "(5, 3)\t|-10.00\t-11.47\t-10.75\t-10.75\t\n",
            "(6, -3)\t|0.00\t0.00\t0.00\t0.00\t\n",
            "(6, -2)\t|0.00\t0.00\t0.00\t0.00\t\n",
            "(6, -1)\t|0.00\t0.00\t0.00\t0.00\t\n",
            "(6, 0)\t|-8.85\t-10.31\t-9.33\t-9.00\t\n",
            "(6, 1)\t|-8.99\t-9.96\t-9.61\t-9.49\t\n",
            "(6, 2)\t|-9.00\t-9.95\t-9.74\t-9.77\t\n",
            "(6, 3)\t|-9.00\t-10.54\t-10.00\t-9.99\t\n",
            "(7, -3)\t|0.00\t0.00\t0.00\t0.00\t\n",
            "(7, -2)\t|-1.42\t-0.50\t-2.69\t-0.75\t\n",
            "(7, -1)\t|-1.45\t-5.24\t-3.64\t-0.88\t\n",
            "(7, 0)\t|0.00\t0.00\t0.00\t0.00\t\n",
            "(7, 1)\t|-5.89\t-5.25\t-7.32\t-6.68\t\n",
            "(7, 2)\t|-7.99\t-8.04\t-8.07\t-8.32\t\n",
            "(7, 3)\t|-8.00\t-9.90\t-8.94\t-8.99\t\n",
            "(8, -3)\t|-1.76\t-0.94\t-0.98\t-1.00\t\n",
            "(8, -2)\t|-2.44\t-1.48\t-2.50\t-1.50\t\n",
            "(8, -1)\t|-3.97\t-1.00\t-3.48\t-2.00\t\n",
            "(8, 0)\t|-4.83\t-4.88\t-6.14\t-5.00\t\n",
            "(8, 1)\t|-5.96\t-7.29\t-6.62\t-6.41\t\n",
            "(8, 2)\t|-6.94\t-8.38\t-6.96\t-7.34\t\n",
            "(8, 3)\t|-7.00\t-8.94\t-7.94\t-7.98\t\n",
            "(9, -3)\t|-1.50\t-1.68\t-1.71\t-1.88\t\n",
            "(9, -2)\t|-2.00\t-1.96\t-2.37\t-2.14\t\n",
            "(9, -1)\t|-2.94\t-2.00\t-3.88\t-2.89\t\n",
            "(9, 0)\t|-3.94\t-5.38\t-4.84\t-3.00\t\n",
            "(9, 1)\t|-4.99\t-6.77\t-5.98\t-4.00\t\n",
            "(9, 2)\t|-5.89\t-7.59\t-6.82\t-5.00\t\n",
            "(9, 3)\t|-7.00\t-7.99\t-7.00\t-6.00\t\n"
          ],
          "name": "stdout"
        }
      ]
    },
    {
      "cell_type": "code",
      "metadata": {
        "id": "wDwRXRNxSaKn"
      },
      "source": [
        ""
      ],
      "execution_count": null,
      "outputs": []
    }
  ]
}
