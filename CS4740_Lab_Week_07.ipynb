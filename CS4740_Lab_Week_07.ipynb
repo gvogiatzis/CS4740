{
  "nbformat": 4,
  "nbformat_minor": 0,
  "metadata": {
    "colab": {
      "name": "CS4740_Lab_Week_07.ipynb",
      "provenance": [],
      "collapsed_sections": [],
      "toc_visible": true,
      "authorship_tag": "ABX9TyPfJSBtlFq4dwsVSOTbFxON",
      "include_colab_link": true
    },
    "kernelspec": {
      "name": "python3",
      "display_name": "Python 3"
    }
  },
  "cells": [
    {
      "cell_type": "markdown",
      "metadata": {
        "id": "view-in-github",
        "colab_type": "text"
      },
      "source": [
        "<a href=\"https://colab.research.google.com/github/gvogiatzis/CS4740/blob/main/CS4740_Lab_Week_07.ipynb\" target=\"_parent\"><img src=\"https://colab.research.google.com/assets/colab-badge.svg\" alt=\"Open In Colab\"/></a>"
      ]
    },
    {
      "cell_type": "code",
      "metadata": {
        "id": "N_1_Fotu_CrO"
      },
      "source": [
        "!pip install gym > /dev/null 2>&1\n",
        "# !apt install xvfb -y > /dev/null 2>&1\n",
        "!apt install swig cmake > /dev/null 2>&1\n",
        "!pip install box2d box2d-kengz > /dev/null 2>&1\n",
        "\n",
        "\n",
        "!pip install gym pyvirtualdisplay > /dev/null 2>&1\n",
        "!apt-get install -y xvfb python-opengl ffmpeg > /dev/null 2>&1\n",
        "\n",
        "\n",
        "# Special gym environment\n",
        "!pip install gym[atari] > /dev/null 2>&1\n",
        "\n",
        "#\n",
        "# Import libraries\n",
        "#\n",
        "import gym\n",
        "from gym import logger as gymlogger\n",
        "from gym.wrappers import Monitor\n",
        "gymlogger.set_level(40) # error only\n",
        "import numpy as np\n",
        "\n",
        "import matplotlib\n",
        "import matplotlib.pyplot as plt\n",
        "%matplotlib inline\n",
        "import math\n",
        "import glob\n",
        "import io\n",
        "import base64\n",
        "from IPython.display import HTML\n",
        "\n",
        "from IPython import display as ipythondisplay\n",
        "\n",
        "\"\"\"\n",
        "Utility functions to enable video recording of gym environment and displaying it\n",
        "To enable video, just do \"env = wrap_env(env)\"\"\n",
        "\"\"\"\n",
        "\n",
        "def show_video():\n",
        "  mp4list = glob.glob('video/*.mp4')\n",
        "  if len(mp4list) > 0:\n",
        "    mp4 = mp4list[0]\n",
        "    video = io.open(mp4, 'r+b').read()\n",
        "    encoded = base64.b64encode(video)\n",
        "    ipythondisplay.display(HTML(data='''<video alt=\"test\" autoplay \n",
        "                loop controls style=\"height: 400px;\">\n",
        "                <source src=\"data:video/mp4;base64,{0}\" type=\"video/mp4\" />\n",
        "             </video>'''.format(encoded.decode('ascii'))))\n",
        "  else: \n",
        "    print(\"Could not find video\")\n",
        "    \n",
        "\n",
        "def wrap_env(env):\n",
        "  env = Monitor(env, './video', force=True)\n",
        "  return env"
      ],
      "execution_count": 1,
      "outputs": []
    },
    {
      "cell_type": "code",
      "metadata": {
        "id": "xTzD9RbJ5LsS",
        "outputId": "a5410fdb-e722-4489-b6d6-e6677232f56a",
        "colab": {
          "base_uri": "https://localhost:8080/"
        }
      },
      "source": [
        "# To activate virtual display \n",
        "# need to run a script once for training an agent as follows\n",
        "from pyvirtualdisplay import Display\n",
        "display = Display(visible=0, size=(1400, 900))\n",
        "display.start()"
      ],
      "execution_count": 2,
      "outputs": [
        {
          "output_type": "execute_result",
          "data": {
            "text/plain": [
              "<pyvirtualdisplay.display.Display at 0x7f665f5a7cc0>"
            ]
          },
          "metadata": {
            "tags": []
          },
          "execution_count": 2
        }
      ]
    },
    {
      "cell_type": "code",
      "metadata": {
        "id": "tLOI8DOAkTWj"
      },
      "source": [
        "env = Monitor(gym.make('LunarLander-v2'),directory='./video',force=True)"
      ],
      "execution_count": 3,
      "outputs": []
    },
    {
      "cell_type": "markdown",
      "metadata": {
        "id": "zuvTUHFCFuvw"
      },
      "source": [
        "At each step, the agent is provided with the current state of the space vehicle which is an 8-dimensional vector of real values, indicating the horizontal and vertical positions, orientation, linear and angular velocities, state of each landing leg (left and right). The agent then has to make one of four possible actions, namely do nothing, fire left orientation engine, fire main engine, or fire right orientation engine. These are 4 levers the agent must learn to control in order to land safely."
      ]
    },
    {
      "cell_type": "code",
      "metadata": {
        "id": "vgEPb9TL_wVB"
      },
      "source": [
        "s = env.reset()\n",
        "done=False\n",
        "while not done:\n",
        "    a = env.action_space.sample()\n",
        "    s,r,done,_=env.step(a)\n",
        "\n",
        "env.close()"
      ],
      "execution_count": 4,
      "outputs": []
    },
    {
      "cell_type": "code",
      "metadata": {
        "id": "FxxOCU9bHP8J"
      },
      "source": [
        "import torch\n",
        "import torch.nn as nn\n",
        "import torch.nn.functional as F\n",
        "from collections import deque\n",
        "from random import random,sample"
      ],
      "execution_count": 5,
      "outputs": []
    },
    {
      "cell_type": "code",
      "metadata": {
        "id": "-NKKT4fUHrUJ"
      },
      "source": [
        "class MLPnet(nn.Module):\n",
        "    def __init__(self, *sizes):\n",
        "        self.num_actions = sizes[-1]\n",
        "        super(MLPnet, self).__init__()\n",
        "        self.layers = nn.ModuleList()\n",
        "        for s,s_ in zip(sizes[:-1],sizes[1:]):\n",
        "            self.layers.append(nn.Linear(s,s_))\n",
        "    def forward(self, x):\n",
        "        for layer in self.layers[:-1]:\n",
        "            x = F.relu(layer(x))\n",
        "        x = self.layers[-1](x)\n",
        "        return x"
      ],
      "execution_count": 6,
      "outputs": []
    },
    {
      "cell_type": "code",
      "metadata": {
        "id": "wYlJi4q9MVro"
      },
      "source": [
        "class TorchWrapper(gym.ObservationWrapper):\n",
        "    def observation(self, observation):\n",
        "        return torch.tensor(observation, device=device, dtype=torch.float)"
      ],
      "execution_count": 7,
      "outputs": []
    },
    {
      "cell_type": "code",
      "metadata": {
        "id": "PlsP11ElJDqY"
      },
      "source": [
        "def epsilon_greedy(epsilon, S, qnet, env):\n",
        "    if random() < epsilon:\n",
        "        return env.action_space.sample()\n",
        "    else:\n",
        "        return qnet(S).argmax().item()"
      ],
      "execution_count": 8,
      "outputs": []
    },
    {
      "cell_type": "code",
      "metadata": {
        "id": "r-t15TVL2xlK"
      },
      "source": [
        "def sample(data, batchsize):\n",
        "    import random\n",
        "    size = min(len(data),batchsize)\n",
        "    return random.sample(data, size)"
      ],
      "execution_count": 9,
      "outputs": []
    },
    {
      "cell_type": "code",
      "metadata": {
        "id": "5bO-eggf5fG_"
      },
      "source": [
        "def updateQNet(qvalue, target, optimiser, loss):\n",
        "    L = loss(qvalue, target)\n",
        "    optimiser.zero_grad()\n",
        "    L.backward()\n",
        "    optimiser.step()"
      ],
      "execution_count": 10,
      "outputs": []
    },
    {
      "cell_type": "code",
      "metadata": {
        "id": "jI0bZR3K5-SW",
        "outputId": "9f60238b-60ab-4a8e-e12b-09dd0f92d289",
        "colab": {
          "base_uri": "https://localhost:8080/"
        }
      },
      "source": [
        "env = TorchWrapper(Monitor(gym.make('LunarLander-v2'),directory='./video',force=True,video_callable=lambda i:i%10==0))\n",
        "\n",
        "device = torch.device(\"cuda\" if torch.cuda.is_available() else \"cpu\")\n",
        "\n",
        "\n",
        "epsilon = 0.4\n",
        "rewards=[]\n",
        "gamma = 0.99\n",
        "num_episodes=1000\n",
        "num_actions = env.action_space.n\n",
        "state_size = env.observation_space.shape[0]\n",
        "batchsize=64\n",
        "\n",
        "\n",
        "qnet = MLPnet(state_size,64,64,32,num_actions)\n",
        "optim = torch.optim.Adam(qnet.parameters(), lr= 0.1)\n",
        "loss = nn.MSELoss()\n",
        "\n",
        "for e in range(num_episodes):\n",
        "    done = False\n",
        "    S = env.reset()\n",
        "    tot_reward=0\n",
        "\n",
        "    epsilon = max(0.1, epsilon*0.99)\n",
        "    while not done:\n",
        "        A = epsilon_greedy(epsilon, S, qnet, env) \n",
        "        S_new, R, done, _ = env.step(A)\n",
        "\n",
        "        R = torch.tensor(R,device=device, dtype=torch.float)\n",
        "\n",
        "        if done:\n",
        "            target = R\n",
        "        else:\n",
        "            target = R + gamma * qnet(S_new).max()\n",
        "        qvalue = qnet(S)[A]\n",
        "        updateQNet(qvalue, target,optim,loss)\n",
        "\n",
        "        tot_reward += R\n",
        "        S = S_new\n",
        "        \n",
        "    rewards.append(tot_reward)\n",
        "    print(f\"\\r{e}/{num_episodes} tot_reward={tot_reward}\",end='')\n",
        "\n",
        "\n",
        "# print(f\"Average reward:{sum(rewards[-50:])/50}\")\n",
        "# return rewards, replaybuffer"
      ],
      "execution_count": 11,
      "outputs": [
        {
          "output_type": "stream",
          "text": [
            "999/1000 tot_reward=-1074.75634765625"
          ],
          "name": "stdout"
        }
      ]
    },
    {
      "cell_type": "code",
      "metadata": {
        "id": "OsOnBdQP22SP"
      },
      "source": [
        "def updateQNet_batch(qnet, batch, optimizer, loss):\n",
        "    s,a,r,s_new,d = batch\n",
        "    \n",
        "    s=torch.stack(s)\n",
        "    s_new=torch.stack(s_new)\n",
        "    r=torch.tensor(r,device=device,dtype=torch.float)\n",
        "    d=torch.tensor(d,device=device,dtype=torch.bool)\n",
        "    a=torch.tensor(a,device=device,dtype=torch.int64)\n",
        "\n",
        "    with torch.no_grad():\n",
        "        qmax,_ = qnet(s_new).view(-1,num_actions).max(dim=1)\n",
        "        target = torch.where(d, r, r + gamma * qmax).view(-1,1)\n",
        "    L = loss(qnet(s).gather(1,a.view(-1,1)),target)\n",
        "    optim.zero_grad()\n",
        "    L.backward()\n",
        "    optim.step()"
      ],
      "execution_count": 12,
      "outputs": []
    },
    {
      "cell_type": "code",
      "metadata": {
        "id": "vkBI-wkqKiBC"
      },
      "source": [
        "env = TorchWrapper(Monitor(gym.make('LunarLander-v2'),directory='./video',force=True,video_callable=lambda i:i%10==0))\n",
        "\n",
        "device = torch.device(\"cuda\" if torch.cuda.is_available() else \"cpu\")\n",
        "\n",
        "\n",
        "epsilon = 1\n",
        "rewards=[]\n",
        "gamma = 0.99\n",
        "num_episodes=1000\n",
        "num_actions = env.action_space.n\n",
        "state_size = env.observation_space.shape[0]\n",
        "batchsize=64\n",
        "\n",
        "replaybuffer = deque(maxlen=100000)\n",
        "\n",
        "\n",
        "qnet = MLPnet(state_size,64,64,32,num_actions)\n",
        "optim = torch.optim.Adam(qnet.parameters(), lr= 0.001)\n",
        "loss = nn.MSELoss()\n",
        "\n",
        "for e in range(num_episodes):\n",
        "    done = False\n",
        "    S = env.reset()\n",
        "    tot_reward=0\n",
        "\n",
        "    epsilon = max(0.1, epsilon*0.99)\n",
        "    while not done:\n",
        "        A = epsilon_greedy(epsilon, S, qnet, env) \n",
        "        S_new, R, done, _ = env.step(A)\n",
        "        replaybuffer.append((S,A,R,S_new,done))\n",
        "\n",
        "        tot_reward += R\n",
        "        S = S_new\n",
        "        batch = sample(replaybuffer,batchsize)\n",
        "        batch = zip(*batch)\n",
        "        \n",
        "        updateQNet_batch(qnet, batch, optimizer, loss)\n",
        "    rewards.append(tot_reward)\n",
        "    print(f\"\\r{e}/{num_episodes} tot_reward={tot_reward}\",end='')\n",
        "\n",
        "\n",
        "# print(f\"Average reward:{sum(rewards[-50:])/50}\")\n",
        "# return rewards, replaybuffer"
      ],
      "execution_count": null,
      "outputs": []
    },
    {
      "cell_type": "code",
      "metadata": {
        "id": "UaNqVpTdTbzT",
        "outputId": "037e35ba-ba3b-4e4c-8b12-09508f82e0b9",
        "colab": {
          "base_uri": "https://localhost:8080/",
          "height": 282
        }
      },
      "source": [
        "plt.plot(rewards,'-')"
      ],
      "execution_count": 12,
      "outputs": [
        {
          "output_type": "execute_result",
          "data": {
            "text/plain": [
              "[<matplotlib.lines.Line2D at 0x7f0b01ec7320>]"
            ]
          },
          "metadata": {
            "tags": []
          },
          "execution_count": 12
        },
        {
          "output_type": "display_data",
          "data": {
            "image/png": "[encoded data removed]",
            "text/plain": [
              "<Figure size 432x288 with 1 Axes>"
            ]
          },
          "metadata": {
            "tags": [],
            "needs_background": "light"
          }
        }
      ]
    },
    {
      "cell_type": "code",
      "metadata": {
        "id": "lnbiXDqPpjRo"
      },
      "source": [
        ""
      ],
      "execution_count": null,
      "outputs": []
    },
    {
      "cell_type": "code",
      "metadata": {
        "id": "megH8Z8Dxj5Q",
        "outputId": "98eddcde-245a-481a-e59a-84b886bf19ed",
        "colab": {
          "base_uri": "https://localhost:8080/",
          "height": 283
        }
      },
      "source": [
        "sample([1,2,3],4)"
      ],
      "execution_count": 6,
      "outputs": [
        {
          "output_type": "error",
          "ename": "ValueError",
          "evalue": "ignored",
          "traceback": [
            "\u001b[0;31m---------------------------------------------------------------------------\u001b[0m",
            "\u001b[0;31mValueError\u001b[0m                                Traceback (most recent call last)",
            "\u001b[0;32m<ipython-input-6-80c7c62fa23a>\u001b[0m in \u001b[0;36m<module>\u001b[0;34m()\u001b[0m\n\u001b[0;32m----> 1\u001b[0;31m \u001b[0msample\u001b[0m\u001b[0;34m(\u001b[0m\u001b[0;34m[\u001b[0m\u001b[0;36m1\u001b[0m\u001b[0;34m,\u001b[0m\u001b[0;36m2\u001b[0m\u001b[0;34m,\u001b[0m\u001b[0;36m3\u001b[0m\u001b[0;34m]\u001b[0m\u001b[0;34m,\u001b[0m\u001b[0;36m4\u001b[0m\u001b[0;34m)\u001b[0m\u001b[0;34m\u001b[0m\u001b[0;34m\u001b[0m\u001b[0m\n\u001b[0m",
            "\u001b[0;32m/usr/lib/python3.6/random.py\u001b[0m in \u001b[0;36msample\u001b[0;34m(self, population, k)\u001b[0m\n\u001b[1;32m    318\u001b[0m         \u001b[0mn\u001b[0m \u001b[0;34m=\u001b[0m \u001b[0mlen\u001b[0m\u001b[0;34m(\u001b[0m\u001b[0mpopulation\u001b[0m\u001b[0;34m)\u001b[0m\u001b[0;34m\u001b[0m\u001b[0;34m\u001b[0m\u001b[0m\n\u001b[1;32m    319\u001b[0m         \u001b[0;32mif\u001b[0m \u001b[0;32mnot\u001b[0m \u001b[0;36m0\u001b[0m \u001b[0;34m<=\u001b[0m \u001b[0mk\u001b[0m \u001b[0;34m<=\u001b[0m \u001b[0mn\u001b[0m\u001b[0;34m:\u001b[0m\u001b[0;34m\u001b[0m\u001b[0;34m\u001b[0m\u001b[0m\n\u001b[0;32m--> 320\u001b[0;31m             \u001b[0;32mraise\u001b[0m \u001b[0mValueError\u001b[0m\u001b[0;34m(\u001b[0m\u001b[0;34m\"Sample larger than population or is negative\"\u001b[0m\u001b[0;34m)\u001b[0m\u001b[0;34m\u001b[0m\u001b[0;34m\u001b[0m\u001b[0m\n\u001b[0m\u001b[1;32m    321\u001b[0m         \u001b[0mresult\u001b[0m \u001b[0;34m=\u001b[0m \u001b[0;34m[\u001b[0m\u001b[0;32mNone\u001b[0m\u001b[0;34m]\u001b[0m \u001b[0;34m*\u001b[0m \u001b[0mk\u001b[0m\u001b[0;34m\u001b[0m\u001b[0;34m\u001b[0m\u001b[0m\n\u001b[1;32m    322\u001b[0m         \u001b[0msetsize\u001b[0m \u001b[0;34m=\u001b[0m \u001b[0;36m21\u001b[0m        \u001b[0;31m# size of a small set minus size of an empty list\u001b[0m\u001b[0;34m\u001b[0m\u001b[0;34m\u001b[0m\u001b[0m\n",
            "\u001b[0;31mValueError\u001b[0m: Sample larger than population or is negative"
          ]
        }
      ]
    },
    {
      "cell_type": "code",
      "metadata": {
        "id": "vN0rT2nFxmqQ"
      },
      "source": [
        ""
      ],
      "execution_count": 11,
      "outputs": []
    },
    {
      "cell_type": "code",
      "metadata": {
        "id": "2Egek0Lz2aYR",
        "outputId": "5a12518d-bedd-4379-c8fe-ef18076cb213",
        "colab": {
          "base_uri": "https://localhost:8080/"
        }
      },
      "source": [
        "sample([1,2,3],2)"
      ],
      "execution_count": 14,
      "outputs": [
        {
          "output_type": "execute_result",
          "data": {
            "text/plain": [
              "[3, 2]"
            ]
          },
          "metadata": {
            "tags": []
          },
          "execution_count": 14
        }
      ]
    },
    {
      "cell_type": "code",
      "metadata": {
        "id": "dS60bCUa2cX3"
      },
      "source": [
        "import random"
      ],
      "execution_count": null,
      "outputs": []
    }
  ]
}