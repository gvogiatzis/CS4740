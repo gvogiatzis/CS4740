{
  "nbformat": 4,
  "nbformat_minor": 0,
  "metadata": {
    "colab": {
      "name": "CS4740_Lab_Week_07.ipynb",
      "provenance": [],
      "collapsed_sections": [],
      "toc_visible": true,
      "authorship_tag": "ABX9TyNwDZfvOOEb7r5bahroVUtr",
      "include_colab_link": true
    },
    "kernelspec": {
      "name": "python3",
      "display_name": "Python 3"
    },
    "accelerator": "GPU"
  },
  "cells": [
    {
      "cell_type": "markdown",
      "metadata": {
        "id": "view-in-github",
        "colab_type": "text"
      },
      "source": [
        "<a href=\"https://colab.research.google.com/github/gvogiatzis/CS4740/blob/main/CS4740_Lab_Week_07.ipynb\" target=\"_parent\"><img src=\"https://colab.research.google.com/assets/colab-badge.svg\" alt=\"Open In Colab\"/></a>"
      ]
    },
    {
      "cell_type": "markdown",
      "metadata": {
        "id": "bqFSK2Qrqam-"
      },
      "source": [
        "\n",
        "# [CS4740 Labs] Lab 7: Reinforcement Learning"
      ]
    },
    {
      "cell_type": "markdown",
      "metadata": {
        "id": "1CJ5q5hZqhEw"
      },
      "source": [
        "##Introduction\n",
        "\n",
        "In this lab we will look at one of the most exciting (and genuinely fun) aspects of Deep Learning which is the way deep neural networks can be taught to solve AI tasks. We will move from networks that make simple inferences (e.g. classification or regression) onto networks that can actually make decisions on which action to take, based on world observations received.\n",
        "\n",
        "The AI paradigm we will be using is Reinforcement Learning, a powerful abstraction of problem solving, which of course has been around for ages. The exciting part of deep learning, is that for the first time we were able to solve Reinforcement Learning problems from raw, unstructured observations, for example the screen pixels of Atari games, instead of hand-crafted features.\n",
        "\n",
        "<figure>\n",
        "<center>\n",
        "<img src='https://drive.google.com/uc?export=view&id=1vE2Z_KC__bhRqFeDiedOPfja7Rf7hZKF'/>\n",
        "<figcaption>Atari games</figcaption></center>\n",
        "</figure>\n",
        "\n",
        "\n",
        "This type of Reinforcement Learning is of course a much more difficult problem but thankfuly deep learning technologies were designed for exactly these situations. It turns out that all the famous Q-learning algorithms can be given the deep learning, end-to-end training treatment, which in many cases leads to very elegant RL agents that can solve what appear to be very difficult tasks.\n"
      ]
    },
    {
      "cell_type": "markdown",
      "metadata": {
        "id": "ZNXC083lf5hW"
      },
      "source": [
        "Let's begin by installing a few libraries, that are required for rendering atari games on the jupyter notebook (colab) environment."
      ]
    },
    {
      "cell_type": "code",
      "metadata": {
        "id": "N_1_Fotu_CrO"
      },
      "source": [
        "!pip install gym > /dev/null 2>&1\n",
        "!apt install swig cmake > /dev/null 2>&1\n",
        "!pip install box2d box2d-kengz > /dev/null 2>&1\n",
        "\n",
        "!pip install gym pyvirtualdisplay > /dev/null 2>&1\n",
        "!apt-get install -y xvfb python-opengl ffmpeg > /dev/null 2>&1\n",
        "!pip install gym[atari] > /dev/null 2>&1"
      ],
      "execution_count": 1,
      "outputs": []
    },
    {
      "cell_type": "markdown",
      "metadata": {
        "id": "NAV9ddq6gJqf"
      },
      "source": [
        "And let's also import the key modules for OpenAI gym and pytorch."
      ]
    },
    {
      "cell_type": "code",
      "metadata": {
        "id": "YL6sR90gp7XB"
      },
      "source": [
        "import gym\n",
        "from gym import logger as gymlogger\n",
        "from gym.wrappers import Monitor\n",
        "gymlogger.set_level(40) # error only\n",
        "import numpy as np\n",
        "\n",
        "import matplotlib\n",
        "import matplotlib.pyplot as plt\n",
        "\n",
        "import torch\n",
        "import torch.nn as nn\n",
        "import torch.nn.functional as F"
      ],
      "execution_count": 2,
      "outputs": []
    },
    {
      "cell_type": "code",
      "metadata": {
        "colab": {
          "base_uri": "https://localhost:8080/"
        },
        "id": "xTzD9RbJ5LsS",
        "outputId": "33a694a0-0e01-4596-eeb7-329ab7dea97e"
      },
      "source": [
        "# To activate virtual display \n",
        "# need to run a script once for training an agent as follows\n",
        "from pyvirtualdisplay import Display\n",
        "display = Display(visible=0, size=(1400, 900))\n",
        "display.start()"
      ],
      "execution_count": 3,
      "outputs": [
        {
          "output_type": "execute_result",
          "data": {
            "text/plain": [
              "<pyvirtualdisplay.display.Display at 0x7f2a22ed2438>"
            ]
          },
          "metadata": {
            "tags": []
          },
          "execution_count": 3
        }
      ]
    },
    {
      "cell_type": "markdown",
      "metadata": {
        "id": "LVDtsbuMg2bI"
      },
      "source": [
        "## Tabular Q-learning with the Taxi driver task"
      ]
    },
    {
      "cell_type": "markdown",
      "metadata": {
        "id": "rnF_GDtUqZ3A"
      },
      "source": [
        "But before we get busy with the challenging Deep RL problems such as Atari, it's a good idea to start with something easier just so we refresh the fundamentals of RL.\n",
        "\n",
        "We will therefore start with the \"Taxi\" problem. This is a small-scale problem (with only 500 possible states) that models a taxi driver picking up passengers and dropping them off to various locations. Let's initialize the Taxi environment from OpenAI gym:"
      ]
    },
    {
      "cell_type": "code",
      "metadata": {
        "id": "4A1nd9XPpXLn"
      },
      "source": [
        "env = gym.make('Taxi-v3')"
      ],
      "execution_count": 52,
      "outputs": []
    },
    {
      "cell_type": "markdown",
      "metadata": {
        "id": "ZWm7kzI_pl8H"
      },
      "source": [
        "Let's now find out about the state/observation space and the action space:"
      ]
    },
    {
      "cell_type": "code",
      "metadata": {
        "colab": {
          "base_uri": "https://localhost:8080/"
        },
        "id": "RtVxRUVFkI3n",
        "outputId": "52882b7d-a047-4d92-da0c-cbcabbc3fbd9"
      },
      "source": [
        "print(env.observation_space)\n",
        "print(env.action_space)"
      ],
      "execution_count": 53,
      "outputs": [
        {
          "output_type": "stream",
          "text": [
            "Discrete(500)\n",
            "Discrete(6)\n"
          ],
          "name": "stdout"
        }
      ]
    },
    {
      "cell_type": "markdown",
      "metadata": {
        "id": "oeIL1-2lp-OG"
      },
      "source": [
        "So this task has 500 different states and 6 possible actions. Let's see what the initial state looks like:\n",
        "\n",
        "\n"
      ]
    },
    {
      "cell_type": "code",
      "metadata": {
        "colab": {
          "base_uri": "https://localhost:8080/"
        },
        "id": "6oBzF5IMqkE-",
        "outputId": "e5af0a05-d2e2-4d16-dd7c-76158ad06af5"
      },
      "source": [
        "env.reset()\n",
        "env.render()"
      ],
      "execution_count": 54,
      "outputs": [
        {
          "output_type": "stream",
          "text": [
            "+---------+\n",
            "|R: | :\u001b[43m \u001b[0m:\u001b[34;1mG\u001b[0m|\n",
            "| : | : : |\n",
            "| : : : : |\n",
            "| | : | : |\n",
            "|\u001b[35mY\u001b[0m| : |B: |\n",
            "+---------+\n",
            "\n"
          ],
          "name": "stdout"
        }
      ]
    },
    {
      "cell_type": "markdown",
      "metadata": {
        "id": "r4ujZe68qkl3"
      },
      "source": [
        "There are four designated locations in the grid world indicated by R(ed), G(reen), Y(ellow), and B(lue). When the episode starts, the taxi starts off at a random square (yellow box) and the passenger is at a random location (designated with a blue letter). The taxi drives to the passenger's location, picks up the passenger (becoming a green box when that happens), drives to the passenger's destination (another one of the four specified locations designated with a magenda letter), and then drops off the passenger. Once the passenger is dropped off, the episode ends.\n",
        "\n",
        "\n",
        "There are 500 discrete states since there are 25 taxi positions, 5 possible locations of the passenger (including the case when the passenger is in the taxi), and 4 destination locations. \n",
        "\n",
        "There are 6 discrete deterministic actions:\n",
        "0. move south\n",
        "1. move north\n",
        "2. move east\n",
        "3. move west\n",
        "4. pickup passenger\n",
        "5. drop off passenger\n",
        "\n",
        "\n",
        "The rewards given at each state for each action are as follows: There is a default per-step reward of -1, except for delivering the passenger, which is +20, or executing \"pickup\" and \"drop-off\" actions illegally, which is -10.\n",
        "\n"
      ]
    },
    {
      "cell_type": "markdown",
      "metadata": {
        "id": "HD1bHN9isV5C"
      },
      "source": [
        "We can use `env.action_space.sample()` to sample a random action and the game is stepped through using the `env.step(action)` method that we saw in lectures. Let's try a completely random agent, using the `env.render(mode='ansi')` to render the game state into a string instead of `stdout`."
      ]
    },
    {
      "cell_type": "code",
      "metadata": {
        "id": "_8Xv___pspTz"
      },
      "source": [
        "frames=[]\n",
        "\n",
        "done=False\n",
        "\n",
        "S = env.reset()\n",
        "while not done:\n",
        "    A = env.action_space.sample()\n",
        "    S_new, R, done, _ = env.step(A)\n",
        "    S=S_new\n",
        "    frames.append(env.render(mode='ansi'))"
      ],
      "execution_count": 55,
      "outputs": []
    },
    {
      "cell_type": "markdown",
      "metadata": {
        "id": "44fWEAKbt-44"
      },
      "source": [
        "We can now print each state sequentially and see  the game running as an animation."
      ]
    },
    {
      "cell_type": "code",
      "metadata": {
        "colab": {
          "base_uri": "https://localhost:8080/"
        },
        "id": "q0FKXQM1uWcL",
        "outputId": "8b98511d-0570-4d90-e46e-c84f29a6c1a1"
      },
      "source": [
        "from IPython.display import clear_output\n",
        "from time import sleep\n",
        "\n",
        "for i,f in enumerate(frames):\n",
        "    clear_output(wait=True)\n",
        "    print(f\"{i+1}/{len(frames)}\")\n",
        "    print(f)\n",
        "    sleep(.2)"
      ],
      "execution_count": 56,
      "outputs": [
        {
          "output_type": "stream",
          "text": [
            "200/200\n",
            "+---------+\n",
            "|\u001b[35mR\u001b[0m: | : :G|\n",
            "| : | : : |\n",
            "| : :\u001b[43m \u001b[0m: : |\n",
            "| | : | : |\n",
            "|\u001b[34;1mY\u001b[0m| : |B: |\n",
            "+---------+\n",
            "  (East)\n",
            "\n"
          ],
          "name": "stdout"
        }
      ]
    },
    {
      "cell_type": "markdown",
      "metadata": {
        "id": "IQJreg5SvPal"
      },
      "source": [
        "As you probably guessed already, this doesn't look great, because the agent is just randomly choosing actions to take. We need to apply some RL training to get some intelligent behaviour. One of the most well established algorithms, almost synonymous with RL over many decades, is Q-learning. The idea is very simple: We maintain a table of Q-values, i.e. estimates of how valuable a particular state/action combination is. And since we do not know the exact values for each state/action, we can use the previous Q-values stored, together with the reward currently obtained. \n",
        "\n",
        "The way this works is as follows:\n",
        "\n",
        "Suppose the agent finds itself in state $s$, and decides to perform action $a$ while in that state. Then the system gives out a reward $r$ and the new state $s'$. Our current estimate of the value of the current state action combination is $Q(s,a)$. Where can we get a better estimate? Well, we are currently receiving reward $r$ and we will be getting some future rewards, call them $G$, which we must discount to the present, using discount factor $\\gamma$. So the correct value we would like to store in $Q(s,a)$ is \n",
        "$$r + \\gamma G$$\n",
        "\n",
        "The only slight snag is that we don't know $G$, the value of all future rewards from state $s'$ onwards. But now we remember we have some $Q$ estimates already. Can we use those? Well, since our new state is $s'$, if we then take action $a'$, the total amount of reward we expect to get is currently estimated as $Q(s',a')$. But of course we will not be choosing any old action $a'$! We will be choosing the best one, i.e. the one that maximizes $Q(s',a')$. So the value we can expect to get from state $s'$ is currently estimated as:\n",
        "$$\\max_{a'} Q(s',a').$$\n",
        "Putting that together with the current reward $r$, our estimate for the value of the $s$,$a$ combination becomes:\n",
        "$$r+\\gamma \\max_{a'} Q(s',a')$$\n",
        "\n",
        "This expression above we will call the 'target'. The basis of the Q-learning algorithm is the computation of these target values, and the gradual pushing of the old Q-values towards the targets. In plain old vanilla Q-learning, in each iteration we will be moving the old Q-value a fraction of the way towards the target. The fraction is given by parameter $\\alpha$ so the final update formula looks like:\n",
        "\n",
        "$$Q(s,a) := (1-\\alpha)Q(s,a) + \\alpha (r+\\gamma \\max_{a'} Q(s',a'))$$\n",
        "\n",
        "Because this version of the problem essentially involves creating a table of Q-values, it is known as tabular Q-learning (or just Q-learning). There are many options in python for the data structure that will represent our Q-value estimates. The most elegant is through a dictionary `Q` who's keys are the states. For each state `S`, it records an\n",
        "numpy array `[q1,q2,...,q6]` that stores our current estimates for the values of the six possible actions we can take at state `S`. So to find the value of the combination of state `S` with action `A` (where `A` is a number betwee 0 and 5) we would write\n",
        "\n",
        "`Q[S][A]`\n",
        "\n",
        "To get the value of the best action when in state `S` we would use the `.max()` method on the numpy array, to give\n",
        "\n",
        "`Q[S].max()`\n",
        "\n",
        "And to find out the index of that best action (useful when we are selecting which action to follow) we would use the `.argmax()` method. So the best action to follow when in state `S` would be given by:\n",
        "\n",
        "`Q[S].argmax()`\n",
        "\n",
        "Let's see the python implementation of tabular Q-learning in full:"
      ]
    },
    {
      "cell_type": "code",
      "metadata": {
        "id": "eXJAg3mJ1Gsp"
      },
      "source": [
        "from collections import defaultdict\n",
        "from random import random,choice\n",
        "\n",
        "env = gym.make('Taxi-v3')\n",
        "\n",
        "# Q-learning parameters\n",
        "alpha = 0.5\n",
        "gamma = 0.6\n",
        "epsilon = 0.1\n",
        "num_of_episodes = 3000\n",
        "\n",
        "# Q[S][A] stores the estimated value of taking action A when in state S\n",
        "Q = defaultdict(lambda: np.zeros(env.action_space.n))\n",
        "\n",
        "frames,rewards=[],[]\n",
        "\n",
        "for e in range(num_of_episodes):\n",
        "    S = env.reset()\n",
        "    done=False\n",
        "    totalR=0\n",
        "    while not done:\n",
        "        # Epsilon-greedy strategy        \n",
        "        A = env.action_space.sample() if random()<epsilon else Q[S].argmax()\n",
        "\n",
        "        # Executing action, receiving reward and new state\n",
        "        S_new, R, done, _ = env.step(A)\n",
        "                \n",
        "        # target is an estimate of the value of current state and action\n",
        "        # It is given by Bellman update formula if the state is non-terminal\n",
        "        # For final states, it is just the reward received.\n",
        "        target = R + gamma * Q[S_new].max() if not done else R\n",
        "\n",
        "        # moving the existing Q-value towards the target by a factor of alpha\n",
        "        Q[S][A] += alpha * (target - Q[S][A])\n",
        "        S = S_new\n",
        "        \n",
        "        # monitoring of training progress\n",
        "        totalR += R\n",
        "        # picking a few episodes to record as animation sequences.\n",
        "        if e in [100,200,995,996,997,998,999]: \n",
        "            frames.append({'e':e, 'frame':env.render(mode='ansi')})\n",
        "    rewards.append(totalR)\n",
        "env.close()"
      ],
      "execution_count": 58,
      "outputs": []
    },
    {
      "cell_type": "markdown",
      "metadata": {
        "id": "lizsMpKYlIQQ"
      },
      "source": [
        "We can now plot the rewards received at each training episode"
      ]
    },
    {
      "cell_type": "code",
      "metadata": {
        "id": "LdsYE-Q6lNUq",
        "outputId": "42b43ba6-5e7b-4c28-b4aa-e464f42cb18b",
        "colab": {
          "base_uri": "https://localhost:8080/",
          "height": 282
        }
      },
      "source": [
        "plt.plot(rewards)"
      ],
      "execution_count": 59,
      "outputs": [
        {
          "output_type": "execute_result",
          "data": {
            "text/plain": [
              "[<matplotlib.lines.Line2D at 0x7fe9e725f7b8>]"
            ]
          },
          "metadata": {
            "tags": []
          },
          "execution_count": 59
        },
        {
          "output_type": "display_data",
          "data": {
            "image/png": "[encoded data removed]",
            "text/plain": [
              "<Figure size 432x288 with 1 Axes>"
            ]
          },
          "metadata": {
            "tags": [],
            "needs_background": "light"
          }
        }
      ]
    },
    {
      "cell_type": "markdown",
      "metadata": {
        "id": "C1JLeX2wlN0J"
      },
      "source": [
        "The plot seems to indicate the algorithm has succeeded but it is a bit noisy, due to the random element in the task. We can remove some of that noise by computing a rolling average of the rewards. The numpy `convolve` method is quite handy for that:"
      ]
    },
    {
      "cell_type": "code",
      "metadata": {
        "id": "3mDFNbEAlPQx",
        "outputId": "b58f4d7b-25c7-4aae-ec60-a8a5be0aac8b",
        "colab": {
          "base_uri": "https://localhost:8080/",
          "height": 282
        }
      },
      "source": [
        "plt.plot(np.convolve(rewards, [0.01]*100,'valid'),'-')"
      ],
      "execution_count": 60,
      "outputs": [
        {
          "output_type": "execute_result",
          "data": {
            "text/plain": [
              "[<matplotlib.lines.Line2D at 0x7fe9e7340828>]"
            ]
          },
          "metadata": {
            "tags": []
          },
          "execution_count": 60
        },
        {
          "output_type": "display_data",
          "data": {
            "image/png": "[encoded data removed]",
            "text/plain": [
              "<Figure size 432x288 with 1 Axes>"
            ]
          },
          "metadata": {
            "tags": [],
            "needs_background": "light"
          }
        }
      ]
    },
    {
      "cell_type": "markdown",
      "metadata": {
        "id": "SvDHpiNNl02r"
      },
      "source": [
        "The algorithm seems to be earning a good amount of rewards. But what about the policy it has learned? Can it actually solve the task? Let's look at the images."
      ]
    },
    {
      "cell_type": "code",
      "metadata": {
        "colab": {
          "base_uri": "https://localhost:8080/"
        },
        "id": "TMtAATGCRAQ8",
        "outputId": "9867eefd-34c5-4625-b0ac-0a32b98fbfcf"
      },
      "source": [
        "from IPython.display import clear_output\n",
        "from time import sleep\n",
        "\n",
        "for f in frames:\n",
        "    clear_output(wait=True)\n",
        "    print(f\"e={f['e']+1}\")\n",
        "    print(f['frame'])\n",
        "    sleep(.2)"
      ],
      "execution_count": 62,
      "outputs": [
        {
          "output_type": "stream",
          "text": [
            "e=1000\n",
            "+---------+\n",
            "|\u001b[35m\u001b[34;1m\u001b[43mR\u001b[0m\u001b[0m\u001b[0m: | : :G|\n",
            "| : | : : |\n",
            "| : : : : |\n",
            "| | : | : |\n",
            "|Y| : |B: |\n",
            "+---------+\n",
            "  (Dropoff)\n",
            "\n"
          ],
          "name": "stdout"
        }
      ]
    },
    {
      "cell_type": "markdown",
      "metadata": {
        "id": "JxPwaqixmfVA"
      },
      "source": [
        "After some uncertain early runs it seems that towards the end Q-learning has indeed learned the correct policy. The taxi agent is able to ferry passengers to and from each of the four locations. "
      ]
    },
    {
      "cell_type": "markdown",
      "metadata": {
        "id": "ACo7-iBB4ofU"
      },
      "source": [
        "## Lunar Landing with Deep Q-learning"
      ]
    },
    {
      "cell_type": "markdown",
      "metadata": {
        "id": "5w1fet-K41Rq"
      },
      "source": [
        "We are now ready to tackle something a bit more challenging. "
      ]
    },
    {
      "cell_type": "code",
      "metadata": {
        "id": "tLOI8DOAkTWj"
      },
      "source": [
        "env = Monitor(gym.make('LunarLander-v2'),directory='./video',force=True)"
      ],
      "execution_count": 64,
      "outputs": []
    },
    {
      "cell_type": "code",
      "metadata": {
        "id": "3OU1J23pYJPp"
      },
      "source": [
        "env.action_space."
      ],
      "execution_count": null,
      "outputs": []
    },
    {
      "cell_type": "markdown",
      "metadata": {
        "id": "zuvTUHFCFuvw"
      },
      "source": [
        "At each step, the agent is provided with the current state of the space vehicle which is an 8-dimensional vector of real values, indicating the horizontal and vertical positions, orientation, linear and angular velocities, state of each landing leg (left and right). The agent then has to make one of four possible actions, namely do nothing, fire left orientation engine, fire main engine, or fire right orientation engine. These are 4 levers the agent must learn to control in order to land safely."
      ]
    },
    {
      "cell_type": "code",
      "metadata": {
        "colab": {
          "base_uri": "https://localhost:8080/",
          "height": 232
        },
        "id": "vgEPb9TL_wVB",
        "outputId": "fa49bcb8-9e7e-448c-a13e-04544a37c2e7"
      },
      "source": [
        "s = env.reset()\n",
        "done=False\n",
        "while not done:\n",
        "    a = env.action_space.sample()\n",
        "    s,r,done,_=env.step(a)\n",
        "\n",
        "env.close()"
      ],
      "execution_count": 4,
      "outputs": [
        {
          "output_type": "error",
          "ename": "NameError",
          "evalue": "ignored",
          "traceback": [
            "\u001b[0;31m---------------------------------------------------------------------------\u001b[0m",
            "\u001b[0;31mNameError\u001b[0m                                 Traceback (most recent call last)",
            "\u001b[0;32m<ipython-input-4-b7fe1be9c3ce>\u001b[0m in \u001b[0;36m<module>\u001b[0;34m()\u001b[0m\n\u001b[0;32m----> 1\u001b[0;31m \u001b[0ms\u001b[0m \u001b[0;34m=\u001b[0m \u001b[0menv\u001b[0m\u001b[0;34m.\u001b[0m\u001b[0mreset\u001b[0m\u001b[0;34m(\u001b[0m\u001b[0;34m)\u001b[0m\u001b[0;34m\u001b[0m\u001b[0;34m\u001b[0m\u001b[0m\n\u001b[0m\u001b[1;32m      2\u001b[0m \u001b[0mdone\u001b[0m\u001b[0;34m=\u001b[0m\u001b[0;32mFalse\u001b[0m\u001b[0;34m\u001b[0m\u001b[0;34m\u001b[0m\u001b[0m\n\u001b[1;32m      3\u001b[0m \u001b[0;32mwhile\u001b[0m \u001b[0;32mnot\u001b[0m \u001b[0mdone\u001b[0m\u001b[0;34m:\u001b[0m\u001b[0;34m\u001b[0m\u001b[0;34m\u001b[0m\u001b[0m\n\u001b[1;32m      4\u001b[0m     \u001b[0ma\u001b[0m \u001b[0;34m=\u001b[0m \u001b[0menv\u001b[0m\u001b[0;34m.\u001b[0m\u001b[0maction_space\u001b[0m\u001b[0;34m.\u001b[0m\u001b[0msample\u001b[0m\u001b[0;34m(\u001b[0m\u001b[0;34m)\u001b[0m\u001b[0;34m\u001b[0m\u001b[0;34m\u001b[0m\u001b[0m\n\u001b[1;32m      5\u001b[0m     \u001b[0ms\u001b[0m\u001b[0;34m,\u001b[0m\u001b[0mr\u001b[0m\u001b[0;34m,\u001b[0m\u001b[0mdone\u001b[0m\u001b[0;34m,\u001b[0m\u001b[0m_\u001b[0m\u001b[0;34m=\u001b[0m\u001b[0menv\u001b[0m\u001b[0;34m.\u001b[0m\u001b[0mstep\u001b[0m\u001b[0;34m(\u001b[0m\u001b[0ma\u001b[0m\u001b[0;34m)\u001b[0m\u001b[0;34m\u001b[0m\u001b[0;34m\u001b[0m\u001b[0m\n",
            "\u001b[0;31mNameError\u001b[0m: name 'env' is not defined"
          ]
        }
      ]
    },
    {
      "cell_type": "code",
      "metadata": {
        "id": "-NKKT4fUHrUJ"
      },
      "source": [
        "class MLPnet(nn.Module):\n",
        "    def __init__(self, *sizes):\n",
        "        self.num_actions = sizes[-1]\n",
        "        super(MLPnet, self).__init__()\n",
        "        self.layers = nn.ModuleList()\n",
        "        for s,s_ in zip(sizes[:-1],sizes[1:]):\n",
        "            self.layers.append(nn.Linear(s,s_))\n",
        "    def forward(self, x):\n",
        "        for layer in self.layers[:-1]:\n",
        "            x = F.relu(layer(x))\n",
        "        x = self.layers[-1](x)\n",
        "        return x"
      ],
      "execution_count": 4,
      "outputs": []
    },
    {
      "cell_type": "code",
      "metadata": {
        "id": "wYlJi4q9MVro"
      },
      "source": [
        "class TorchWrapper(gym.ObservationWrapper):\n",
        "    def observation(self, observation):\n",
        "        return torch.tensor(observation, device=device, dtype=torch.float)"
      ],
      "execution_count": 5,
      "outputs": []
    },
    {
      "cell_type": "code",
      "metadata": {
        "id": "PlsP11ElJDqY"
      },
      "source": [
        "def epsilon_greedy(epsilon, S, qnet, env):\n",
        "    if random() < epsilon:\n",
        "        return env.action_space.sample()\n",
        "    else:\n",
        "        return qnet(S).argmax().item()"
      ],
      "execution_count": 6,
      "outputs": []
    },
    {
      "cell_type": "code",
      "metadata": {
        "id": "r-t15TVL2xlK"
      },
      "source": [
        "def sample(data, batchsize):\n",
        "    import random\n",
        "    size = min(len(data),batchsize)\n",
        "    return random.sample(data, size)"
      ],
      "execution_count": 7,
      "outputs": []
    },
    {
      "cell_type": "code",
      "metadata": {
        "id": "5bO-eggf5fG_"
      },
      "source": [
        "def updateQNet(qvalue, target, optimiser, loss):\n",
        "    L = loss(qvalue, target)\n",
        "    optimiser.zero_grad()\n",
        "    L.backward()\n",
        "    optimiser.step()"
      ],
      "execution_count": 8,
      "outputs": []
    },
    {
      "cell_type": "code",
      "metadata": {
        "id": "FxxOCU9bHP8J"
      },
      "source": [
        "from collections import deque\n",
        "from random import random,sample"
      ],
      "execution_count": 9,
      "outputs": []
    },
    {
      "cell_type": "code",
      "metadata": {
        "colab": {
          "base_uri": "https://localhost:8080/"
        },
        "id": "jI0bZR3K5-SW",
        "outputId": "62fee5c1-846b-4db3-ec09-e1dc7b60c4c3"
      },
      "source": [
        "env = TorchWrapper(Monitor(gym.make('LunarLander-v2'),directory='./video',force=True,video_callable=lambda i:i%10==0))\n",
        "\n",
        "device = torch.device(\"cuda\" if torch.cuda.is_available() else \"cpu\")\n",
        "\n",
        "\n",
        "epsilon = 0.2\n",
        "rewards=[]\n",
        "gamma = 0.9\n",
        "num_episodes=2000\n",
        "num_actions = env.action_space.n\n",
        "state_size = env.observation_space.shape[0]\n",
        "batchsize=64\n",
        "\n",
        "\n",
        "# qnet = MLPnet(state_size,50,100,num_actions).to(device)\n",
        "qnet = MLPnet(state_size,100,500,num_actions).to(device)\n",
        "optim = torch.optim.Adam(qnet.parameters(), lr= 0.001)\n",
        "loss = nn.MSELoss()\n",
        "\n",
        "for e in range(num_episodes):\n",
        "    done = False\n",
        "    S = env.reset()\n",
        "    tot_reward=0\n",
        "\n",
        "    # epsilon = max(0.1, epsilon*0.99)\n",
        "    while not done:\n",
        "        A = epsilon_greedy(epsilon, S, qnet, env) \n",
        "        S_new, R, done, _ = env.step(A)\n",
        "\n",
        "        R = torch.tensor(R,device=device, dtype=torch.float)\n",
        "\n",
        "        target = R + gamma * qnet(S_new).max() if not done else R\n",
        "        qvalue = qnet(S)[A]\n",
        "        updateQNet(qvalue, target,optim,loss)\n",
        "\n",
        "        tot_reward += R\n",
        "        S = S_new\n",
        "        \n",
        "    rewards.append(tot_reward)\n",
        "    print(f\"\\r{e}/{num_episodes} tot_reward={tot_reward}\",end='')\n",
        "\n",
        "\n",
        "# print(f\"Average reward:{sum(rewards[-50:])/50}\")\n",
        "# return rewards, replaybuffer"
      ],
      "execution_count": null,
      "outputs": [
        {
          "output_type": "stream",
          "text": [
            "783/2000 tot_reward=-3.408106803894043"
          ],
          "name": "stdout"
        }
      ]
    },
    {
      "cell_type": "code",
      "metadata": {
        "id": "b-mZpZNsHx1M",
        "outputId": "304649c1-2994-48db-d1dd-50da06d6a048",
        "colab": {
          "base_uri": "https://localhost:8080/",
          "height": 282
        }
      },
      "source": [
        "plt.plot(np.convolve(rewards,[0.01]*100,'valid'),'-')"
      ],
      "execution_count": 11,
      "outputs": [
        {
          "output_type": "execute_result",
          "data": {
            "text/plain": [
              "[<matplotlib.lines.Line2D at 0x7fa16aa67dd8>]"
            ]
          },
          "metadata": {
            "tags": []
          },
          "execution_count": 11
        },
        {
          "output_type": "display_data",
          "data": {
            "image/png": "[encoded data removed]",
            "text/plain": [
              "<Figure size 432x288 with 1 Axes>"
            ]
          },
          "metadata": {
            "tags": [],
            "needs_background": "light"
          }
        }
      ]
    },
    {
      "cell_type": "code",
      "metadata": {
        "id": "OsOnBdQP22SP"
      },
      "source": [
        "def updateQNet_batch(qnet, batch, optimizer, loss):\n",
        "    s,a,r,s_new,d = batch\n",
        "    \n",
        "    s=torch.stack(s)\n",
        "    s_new=torch.stack(s_new)\n",
        "    r=torch.tensor(r,device=device,dtype=torch.float)\n",
        "    d=torch.tensor(d,device=device,dtype=torch.bool)\n",
        "    a=torch.tensor(a,device=device,dtype=torch.int64)\n",
        "\n",
        "    with torch.no_grad():\n",
        "        qmax,_ = qnet(s_new).view(-1,num_actions).max(dim=1)\n",
        "        target = torch.where(d, r, r + gamma * qmax).view(-1,1)\n",
        "    L = loss(qnet(s).gather(1,a.view(-1,1)),target)\n",
        "    optim.zero_grad()\n",
        "    L.backward()\n",
        "    optim.step()"
      ],
      "execution_count": null,
      "outputs": []
    },
    {
      "cell_type": "code",
      "metadata": {
        "id": "vkBI-wkqKiBC"
      },
      "source": [
        "env = TorchWrapper(Monitor(gym.make('LunarLander-v2'),directory='./video',force=True,video_callable=lambda i:i%10==0))\n",
        "\n",
        "device = torch.device(\"cuda\" if torch.cuda.is_available() else \"cpu\")\n",
        "\n",
        "\n",
        "epsilon = 1\n",
        "rewards=[]\n",
        "gamma = 0.99\n",
        "num_episodes=1000\n",
        "num_actions = env.action_space.n\n",
        "state_size = env.observation_space.shape[0]\n",
        "batchsize=64\n",
        "\n",
        "replaybuffer = deque(maxlen=100000)\n",
        "\n",
        "\n",
        "qnet = MLPnet(state_size,64,64,32,num_actions)\n",
        "optim = torch.optim.Adam(qnet.parameters(), lr= 0.001)\n",
        "loss = nn.MSELoss()\n",
        "\n",
        "for e in range(num_episodes):\n",
        "    done = False\n",
        "    S = env.reset()\n",
        "    tot_reward=0\n",
        "\n",
        "    epsilon = max(0.1, epsilon*0.99)\n",
        "    while not done:\n",
        "        A = epsilon_greedy(epsilon, S, qnet, env) \n",
        "        S_new, R, done, _ = env.step(A)\n",
        "        replaybuffer.append((S,A,R,S_new,done))\n",
        "\n",
        "        tot_reward += R\n",
        "        S = S_new\n",
        "        batch = sample(replaybuffer,batchsize)\n",
        "        batch = zip(*batch)\n",
        "        \n",
        "        updateQNet_batch(qnet, batch, optimizer, loss)\n",
        "    rewards.append(tot_reward)\n",
        "    print(f\"\\r{e}/{num_episodes} tot_reward={tot_reward}\",end='')\n",
        "\n",
        "\n",
        "# print(f\"Average reward:{sum(rewards[-50:])/50}\")\n",
        "# return rewards, replaybuffer"
      ],
      "execution_count": null,
      "outputs": []
    },
    {
      "cell_type": "code",
      "metadata": {
        "id": "0HyR_Gj0JPLW"
      },
      "source": [
        ""
      ],
      "execution_count": null,
      "outputs": []
    }
  ]
}