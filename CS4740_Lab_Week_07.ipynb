{
  "nbformat": 4,
  "nbformat_minor": 0,
  "metadata": {
    "colab": {
      "name": "CS4740_Lab_Week_07.ipynb",
      "provenance": [],
      "collapsed_sections": [],
      "toc_visible": true,
      "authorship_tag": "ABX9TyOi7WctyB9s0J6Fwhx2uh83",
      "include_colab_link": true
    },
    "kernelspec": {
      "name": "python3",
      "display_name": "Python 3"
    }
  },
  "cells": [
    {
      "cell_type": "markdown",
      "metadata": {
        "id": "view-in-github",
        "colab_type": "text"
      },
      "source": [
        "<a href=\"https://colab.research.google.com/github/gvogiatzis/CS4740/blob/main/CS4740_Lab_Week_07.ipynb\" target=\"_parent\"><img src=\"https://colab.research.google.com/assets/colab-badge.svg\" alt=\"Open In Colab\"/></a>"
      ]
    },
    {
      "cell_type": "markdown",
      "metadata": {
        "id": "bqFSK2Qrqam-"
      },
      "source": [
        "\n",
        "# [CS4740 Labs] Week 7: Convolutional Neural Networks"
      ]
    },
    {
      "cell_type": "markdown",
      "metadata": {
        "id": "1CJ5q5hZqhEw"
      },
      "source": [
        "##Introduction\n",
        "\n",
        "In this lab we will look at "
      ]
    },
    {
      "cell_type": "code",
      "metadata": {
        "id": "N_1_Fotu_CrO"
      },
      "source": [
        "!pip install gym > /dev/null 2>&1\n",
        "!apt install swig cmake > /dev/null 2>&1\n",
        "!pip install box2d box2d-kengz > /dev/null 2>&1\n",
        "\n",
        "!pip install gym pyvirtualdisplay > /dev/null 2>&1\n",
        "!apt-get install -y xvfb python-opengl ffmpeg > /dev/null 2>&1\n",
        "!pip install gym[atari] > /dev/null 2>&1"
      ],
      "execution_count": 1,
      "outputs": []
    },
    {
      "cell_type": "code",
      "metadata": {
        "id": "YL6sR90gp7XB"
      },
      "source": [
        "import gym\n",
        "from gym import logger as gymlogger\n",
        "from gym.wrappers import Monitor\n",
        "gymlogger.set_level(40) # error only\n",
        "import numpy as np\n",
        "\n",
        "import matplotlib\n",
        "import matplotlib.pyplot as plt\n",
        "\n",
        "import torch\n",
        "import torch.nn as nn\n",
        "import torch.nn.functional as F"
      ],
      "execution_count": 2,
      "outputs": []
    },
    {
      "cell_type": "code",
      "metadata": {
        "colab": {
          "base_uri": "https://localhost:8080/"
        },
        "id": "xTzD9RbJ5LsS",
        "outputId": "c52717fb-7e7c-44f7-905a-3a67f4144a34"
      },
      "source": [
        "# To activate virtual display \n",
        "# need to run a script once for training an agent as follows\n",
        "from pyvirtualdisplay import Display\n",
        "display = Display(visible=0, size=(1400, 900))\n",
        "display.start()"
      ],
      "execution_count": 3,
      "outputs": [
        {
          "output_type": "execute_result",
          "data": {
            "text/plain": [
              "<pyvirtualdisplay.display.Display at 0x7fc72c2bdf60>"
            ]
          },
          "metadata": {
            "tags": []
          },
          "execution_count": 3
        }
      ]
    },
    {
      "cell_type": "markdown",
      "metadata": {
        "id": "rnF_GDtUqZ3A"
      },
      "source": [
        ""
      ]
    },
    {
      "cell_type": "code",
      "metadata": {
        "id": "RCtdrJR02ZqR"
      },
      "source": [
        "from random import random,choice"
      ],
      "execution_count": 4,
      "outputs": []
    },
    {
      "cell_type": "code",
      "metadata": {
        "id": "0FQLgOE-svR6"
      },
      "source": [
        "def epsilon_greedy(Q, state, nA, eps):\n",
        "    \"\"\"Selects epsilon-greedy action for supplied state.\n",
        "    \n",
        "    Params\n",
        "    ======\n",
        "        Q (dictionary): action-value function\n",
        "        state (int): current state\n",
        "        nA (int): number actions in the environment\n",
        "        eps (float): epsilon\n",
        "    \"\"\"\n",
        "    if random() > eps: # select greedy action with probability epsilon\n",
        "        return np.argmax(Q[state])\n",
        "    else:                     # otherwise, select an action randomly\n",
        "        return choice(np.arange(env.action_space.n))"
      ],
      "execution_count": 104,
      "outputs": []
    },
    {
      "cell_type": "code",
      "metadata": {
        "id": "eXJAg3mJ1Gsp",
        "outputId": "a5469c9b-5242-4d7c-e014-9a5629fd4815",
        "colab": {
          "base_uri": "https://localhost:8080/",
          "height": 282
        }
      },
      "source": [
        "alpha = 0.5\n",
        "gamma = 0.6\n",
        "epsilon = 1\n",
        "\n",
        "env = gym.make('Taxi-v3')\n",
        "\n",
        "from collections import defaultdict\n",
        "from random import random\n",
        "\n",
        "# Q = defaultdict(lambda: np.zeros(env.action_space.n))\n",
        "frames,rewards=[],[]\n",
        "num_of_episodes = 100\n",
        "# num_of_episodes = 2000\n",
        "for e in range(num_of_episodes):\n",
        "    # epsilon = max(0.01, 0.990*epsilon)\n",
        "    epsilon = 0.0\n",
        "    S = env.reset()\n",
        "    done=False\n",
        "    totalR=0\n",
        "    while not done:\n",
        "        A = env.action_space.sample() if random()<epsilon else Q[S].argmax()\n",
        "        S_new, R, done, _ = env.step(A)\n",
        "        totalR += R\n",
        "        if done:\n",
        "            target = R\n",
        "        else:\n",
        "            target = R + gamma * Q[S_new].max()\n",
        "        Q[S][A] += alpha * (target-Q[S][A])\n",
        "        S = S_new\n",
        "        frames.append(env.render(mode='ansi'))\n",
        "    rewards.append(totalR)\n",
        "env.close()\n",
        "\n",
        "rewards=np.array(rewards)\n",
        "avg_rewards = np.convolve(rewards, [0.1]*10,mode='valid')\n",
        "plt.plot(avg_rewards,'-')"
      ],
      "execution_count": 60,
      "outputs": [
        {
          "output_type": "execute_result",
          "data": {
            "text/plain": [
              "[<matplotlib.lines.Line2D at 0x7fc6bea5ef28>]"
            ]
          },
          "metadata": {
            "tags": []
          },
          "execution_count": 60
        },
        {
          "output_type": "display_data",
          "data": {
            "image/png": "[encoded data removed]",
            "text/plain": [
              "<Figure size 432x288 with 1 Axes>"
            ]
          },
          "metadata": {
            "tags": [],
            "needs_background": "light"
          }
        }
      ]
    },
    {
      "cell_type": "code",
      "metadata": {
        "id": "TMtAATGCRAQ8",
        "outputId": "f9d833bd-857a-46f0-9e64-5f0d17455ff4",
        "colab": {
          "base_uri": "https://localhost:8080/",
          "height": 351
        }
      },
      "source": [
        "from IPython.display import clear_output\n",
        "from time import sleep\n",
        "\n",
        "for i, frame in enumerate(frames):\n",
        "    clear_output(wait=True)\n",
        "    print(frame['frame'])\n",
        "    sleep(.2)"
      ],
      "execution_count": 63,
      "outputs": [
        {
          "output_type": "stream",
          "text": [
            "+---------+\n",
            "|R: | : :\u001b[35mG\u001b[0m|\n",
            "| : | :\u001b[42m_\u001b[0m: |\n",
            "| : : : : |\n",
            "| | : | : |\n",
            "|Y| : |B: |\n",
            "+---------+\n",
            "  (North)\n",
            "\n"
          ],
          "name": "stdout"
        },
        {
          "output_type": "error",
          "ename": "KeyboardInterrupt",
          "evalue": "ignored",
          "traceback": [
            "\u001b[0;31m---------------------------------------------------------------------------\u001b[0m",
            "\u001b[0;31mKeyboardInterrupt\u001b[0m                         Traceback (most recent call last)",
            "\u001b[0;32m<ipython-input-63-07c34a364371>\u001b[0m in \u001b[0;36m<module>\u001b[0;34m()\u001b[0m\n\u001b[1;32m      5\u001b[0m     \u001b[0mclear_output\u001b[0m\u001b[0;34m(\u001b[0m\u001b[0mwait\u001b[0m\u001b[0;34m=\u001b[0m\u001b[0;32mTrue\u001b[0m\u001b[0;34m)\u001b[0m\u001b[0;34m\u001b[0m\u001b[0;34m\u001b[0m\u001b[0m\n\u001b[1;32m      6\u001b[0m     \u001b[0mprint\u001b[0m\u001b[0;34m(\u001b[0m\u001b[0mframe\u001b[0m\u001b[0;34m[\u001b[0m\u001b[0;34m'frame'\u001b[0m\u001b[0;34m]\u001b[0m\u001b[0;34m)\u001b[0m\u001b[0;34m\u001b[0m\u001b[0;34m\u001b[0m\u001b[0m\n\u001b[0;32m----> 7\u001b[0;31m     \u001b[0msleep\u001b[0m\u001b[0;34m(\u001b[0m\u001b[0;36m.2\u001b[0m\u001b[0;34m)\u001b[0m\u001b[0;34m\u001b[0m\u001b[0;34m\u001b[0m\u001b[0m\n\u001b[0m",
            "\u001b[0;31mKeyboardInterrupt\u001b[0m: "
          ]
        }
      ]
    },
    {
      "cell_type": "code",
      "metadata": {
        "id": "tLOI8DOAkTWj"
      },
      "source": [
        "env = Monitor(gym.make('LunarLander-v2'),directory='./video',force=True)"
      ],
      "execution_count": null,
      "outputs": []
    },
    {
      "cell_type": "code",
      "metadata": {
        "id": "3OU1J23pYJPp"
      },
      "source": [
        "env.action_space."
      ],
      "execution_count": null,
      "outputs": []
    },
    {
      "cell_type": "markdown",
      "metadata": {
        "id": "zuvTUHFCFuvw"
      },
      "source": [
        "At each step, the agent is provided with the current state of the space vehicle which is an 8-dimensional vector of real values, indicating the horizontal and vertical positions, orientation, linear and angular velocities, state of each landing leg (left and right). The agent then has to make one of four possible actions, namely do nothing, fire left orientation engine, fire main engine, or fire right orientation engine. These are 4 levers the agent must learn to control in order to land safely."
      ]
    },
    {
      "cell_type": "code",
      "metadata": {
        "id": "vgEPb9TL_wVB"
      },
      "source": [
        "s = env.reset()\n",
        "done=False\n",
        "while not done:\n",
        "    a = env.action_space.sample()\n",
        "    s,r,done,_=env.step(a)\n",
        "\n",
        "env.close()"
      ],
      "execution_count": null,
      "outputs": []
    },
    {
      "cell_type": "code",
      "metadata": {
        "id": "-NKKT4fUHrUJ"
      },
      "source": [
        "class MLPnet(nn.Module):\n",
        "    def __init__(self, *sizes):\n",
        "        self.num_actions = sizes[-1]\n",
        "        super(MLPnet, self).__init__()\n",
        "        self.layers = nn.ModuleList()\n",
        "        for s,s_ in zip(sizes[:-1],sizes[1:]):\n",
        "            self.layers.append(nn.Linear(s,s_))\n",
        "    def forward(self, x):\n",
        "        for layer in self.layers[:-1]:\n",
        "            x = F.relu(layer(x))\n",
        "        x = self.layers[-1](x)\n",
        "        return x"
      ],
      "execution_count": null,
      "outputs": []
    },
    {
      "cell_type": "code",
      "metadata": {
        "id": "wYlJi4q9MVro"
      },
      "source": [
        "class TorchWrapper(gym.ObservationWrapper):\n",
        "    def observation(self, observation):\n",
        "        return torch.tensor(observation, device=device, dtype=torch.float)"
      ],
      "execution_count": null,
      "outputs": []
    },
    {
      "cell_type": "code",
      "metadata": {
        "id": "PlsP11ElJDqY"
      },
      "source": [
        "def epsilon_greedy(epsilon, S, qnet, env):\n",
        "    if random() < epsilon:\n",
        "        return env.action_space.sample()\n",
        "    else:\n",
        "        return qnet(S).argmax().item()"
      ],
      "execution_count": null,
      "outputs": []
    },
    {
      "cell_type": "code",
      "metadata": {
        "id": "r-t15TVL2xlK"
      },
      "source": [
        "def sample(data, batchsize):\n",
        "    import random\n",
        "    size = min(len(data),batchsize)\n",
        "    return random.sample(data, size)"
      ],
      "execution_count": null,
      "outputs": []
    },
    {
      "cell_type": "code",
      "metadata": {
        "id": "5bO-eggf5fG_"
      },
      "source": [
        "def updateQNet(qvalue, target, optimiser, loss):\n",
        "    L = loss(qvalue, target)\n",
        "    optimiser.zero_grad()\n",
        "    L.backward()\n",
        "    optimiser.step()"
      ],
      "execution_count": null,
      "outputs": []
    },
    {
      "cell_type": "code",
      "metadata": {
        "id": "FxxOCU9bHP8J"
      },
      "source": [
        "from collections import deque\n",
        "from random import random,sample"
      ],
      "execution_count": null,
      "outputs": []
    },
    {
      "cell_type": "code",
      "metadata": {
        "id": "jI0bZR3K5-SW"
      },
      "source": [
        "env = TorchWrapper(Monitor(gym.make('LunarLander-v2'),directory='./video',force=True,video_callable=lambda i:i%10==0))\n",
        "\n",
        "device = torch.device(\"cuda\" if torch.cuda.is_available() else \"cpu\")\n",
        "\n",
        "\n",
        "epsilon = 0.4\n",
        "rewards=[]\n",
        "gamma = 0.99\n",
        "num_episodes=1000\n",
        "num_actions = env.action_space.n\n",
        "state_size = env.observation_space.shape[0]\n",
        "batchsize=64\n",
        "\n",
        "\n",
        "qnet = MLPnet(state_size,64,64,32,num_actions)\n",
        "optim = torch.optim.Adam(qnet.parameters(), lr= 0.1)\n",
        "loss = nn.MSELoss()\n",
        "\n",
        "for e in range(num_episodes):\n",
        "    done = False\n",
        "    S = env.reset()\n",
        "    tot_reward=0\n",
        "\n",
        "    epsilon = max(0.1, epsilon*0.99)\n",
        "    while not done:\n",
        "        A = epsilon_greedy(epsilon, S, qnet, env) \n",
        "        S_new, R, done, _ = env.step(A)\n",
        "\n",
        "        R = torch.tensor(R,device=device, dtype=torch.float)\n",
        "\n",
        "        if done:\n",
        "            target = R\n",
        "        else:\n",
        "            target = R + gamma * qnet(S_new).max()\n",
        "        qvalue = qnet(S)[A]\n",
        "        updateQNet(qvalue, target,optim,loss)\n",
        "\n",
        "        tot_reward += R\n",
        "        S = S_new\n",
        "        \n",
        "    rewards.append(tot_reward)\n",
        "    print(f\"\\r{e}/{num_episodes} tot_reward={tot_reward}\",end='')\n",
        "\n",
        "\n",
        "# print(f\"Average reward:{sum(rewards[-50:])/50}\")\n",
        "# return rewards, replaybuffer"
      ],
      "execution_count": null,
      "outputs": []
    },
    {
      "cell_type": "code",
      "metadata": {
        "id": "OsOnBdQP22SP"
      },
      "source": [
        "def updateQNet_batch(qnet, batch, optimizer, loss):\n",
        "    s,a,r,s_new,d = batch\n",
        "    \n",
        "    s=torch.stack(s)\n",
        "    s_new=torch.stack(s_new)\n",
        "    r=torch.tensor(r,device=device,dtype=torch.float)\n",
        "    d=torch.tensor(d,device=device,dtype=torch.bool)\n",
        "    a=torch.tensor(a,device=device,dtype=torch.int64)\n",
        "\n",
        "    with torch.no_grad():\n",
        "        qmax,_ = qnet(s_new).view(-1,num_actions).max(dim=1)\n",
        "        target = torch.where(d, r, r + gamma * qmax).view(-1,1)\n",
        "    L = loss(qnet(s).gather(1,a.view(-1,1)),target)\n",
        "    optim.zero_grad()\n",
        "    L.backward()\n",
        "    optim.step()"
      ],
      "execution_count": null,
      "outputs": []
    },
    {
      "cell_type": "code",
      "metadata": {
        "id": "vkBI-wkqKiBC"
      },
      "source": [
        "env = TorchWrapper(Monitor(gym.make('LunarLander-v2'),directory='./video',force=True,video_callable=lambda i:i%10==0))\n",
        "\n",
        "device = torch.device(\"cuda\" if torch.cuda.is_available() else \"cpu\")\n",
        "\n",
        "\n",
        "epsilon = 1\n",
        "rewards=[]\n",
        "gamma = 0.99\n",
        "num_episodes=1000\n",
        "num_actions = env.action_space.n\n",
        "state_size = env.observation_space.shape[0]\n",
        "batchsize=64\n",
        "\n",
        "replaybuffer = deque(maxlen=100000)\n",
        "\n",
        "\n",
        "qnet = MLPnet(state_size,64,64,32,num_actions)\n",
        "optim = torch.optim.Adam(qnet.parameters(), lr= 0.001)\n",
        "loss = nn.MSELoss()\n",
        "\n",
        "for e in range(num_episodes):\n",
        "    done = False\n",
        "    S = env.reset()\n",
        "    tot_reward=0\n",
        "\n",
        "    epsilon = max(0.1, epsilon*0.99)\n",
        "    while not done:\n",
        "        A = epsilon_greedy(epsilon, S, qnet, env) \n",
        "        S_new, R, done, _ = env.step(A)\n",
        "        replaybuffer.append((S,A,R,S_new,done))\n",
        "\n",
        "        tot_reward += R\n",
        "        S = S_new\n",
        "        batch = sample(replaybuffer,batchsize)\n",
        "        batch = zip(*batch)\n",
        "        \n",
        "        updateQNet_batch(qnet, batch, optimizer, loss)\n",
        "    rewards.append(tot_reward)\n",
        "    print(f\"\\r{e}/{num_episodes} tot_reward={tot_reward}\",end='')\n",
        "\n",
        "\n",
        "# print(f\"Average reward:{sum(rewards[-50:])/50}\")\n",
        "# return rewards, replaybuffer"
      ],
      "execution_count": null,
      "outputs": []
    }
  ]
}