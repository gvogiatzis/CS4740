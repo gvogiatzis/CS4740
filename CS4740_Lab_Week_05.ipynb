{
  "nbformat": 4,
  "nbformat_minor": 0,
  "metadata": {
    "colab": {
      "name": "CS4740_Lab_Week_05.ipynb",
      "private_outputs": true,
      "provenance": [],
      "collapsed_sections": [],
      "authorship_tag": "ABX9TyMYXqHaCsvVvxazmDNwLqC0",
      "include_colab_link": true
    },
    "kernelspec": {
      "name": "python3",
      "display_name": "Python 3"
    },
    "accelerator": "GPU"
  },
  "cells": [
    {
      "cell_type": "markdown",
      "metadata": {
        "id": "view-in-github",
        "colab_type": "text"
      },
      "source": [
        "<a href=\"https://colab.research.google.com/github/gvogiatzis/CS4740/blob/main/CS4740_Lab_Week_05.ipynb\" target=\"_parent\"><img src=\"https://colab.research.google.com/assets/colab-badge.svg\" alt=\"Open In Colab\"/></a>"
      ]
    },
    {
      "cell_type": "code",
      "metadata": {
        "id": "fedrzcSJ_K4E"
      },
      "source": [
        "import re\n",
        "import pandas as pd\n",
        "from textblob import Word\n",
        "import numpy as np\n",
        "\n",
        "import matplotlib.pyplot as plt\n",
        "import torch\n",
        "import torch.nn as nn\n",
        "from more_itertools import sliced\n",
        "%load_ext tensorboard"
      ],
      "execution_count": null,
      "outputs": []
    },
    {
      "cell_type": "code",
      "metadata": {
        "id": "VYZcXwSx_Xh1"
      },
      "source": [
        "! wget https://github.com/suraj-deshmukh/BBC-Dataset-News-Classification/raw/master/dataset/dataset.csv -O dataset.csv"
      ],
      "execution_count": null,
      "outputs": []
    },
    {
      "cell_type": "code",
      "metadata": {
        "id": "zLOBjG8r_Xu9"
      },
      "source": [
        "raw_data = pd.read_csv('dataset.csv', encoding = \"ISO-8859-1\")\n",
        "docs_txt = raw_data['news'].tolist()"
      ],
      "execution_count": null,
      "outputs": []
    },
    {
      "cell_type": "code",
      "metadata": {
        "id": "4HUB6NPc_iz1"
      },
      "source": [
        "device = torch.device(\"cuda\" if torch.cuda.is_available() else \"cpu\")"
      ],
      "execution_count": null,
      "outputs": []
    },
    {
      "cell_type": "code",
      "metadata": {
        "id": "MeuTd6aG_jv8"
      },
      "source": [
        "all_text = \"\".join(docs_txt)\n",
        "all_text = all_text[:1000000]"
      ],
      "execution_count": null,
      "outputs": []
    },
    {
      "cell_type": "code",
      "metadata": {
        "id": "NGNI8hvPM6kD"
      },
      "source": [
        "len(all_text)"
      ],
      "execution_count": null,
      "outputs": []
    },
    {
      "cell_type": "code",
      "metadata": {
        "id": "ljgPjk3Hjd-x"
      },
      "source": [
        "itoc = list(sorted(set(all_text)))\n",
        "ctoi = {c:i for i,c in enumerate(itoc)}\n",
        "num_of_characters = len(itoc)"
      ],
      "execution_count": null,
      "outputs": []
    },
    {
      "cell_type": "code",
      "metadata": {
        "id": "Tc2xVoxmjunj"
      },
      "source": [
        "import random\n",
        "def random_text(size, text_data):\n",
        "    i = random.randint(0,len(text_data)-1-size)\n",
        "    return text_data[i:i+size]"
      ],
      "execution_count": null,
      "outputs": []
    },
    {
      "cell_type": "code",
      "metadata": {
        "id": "ZlJg69E8_pPY"
      },
      "source": [
        "class LSTMCharPred(nn.Module):\n",
        "    def __init__(self, charset_size, embed_size=100, hidden_dim=512*2):\n",
        "        super(LSTMCharPred, self).__init__()\n",
        "        self.embedding = nn.Embedding(charset_size, embed_size)\n",
        "        self.charset_size = charset_size\n",
        "        self.hidden_dim = hidden_dim\n",
        "        # self.lstm = nn.LSTM(input_size=embed_size,\n",
        "        self.lstm = nn.GRU(input_size=embed_size,\n",
        "                            hidden_size=hidden_dim,\n",
        "                            num_layers=1,\n",
        "                            batch_first=True)\n",
        "                            # dropout=0.5)\n",
        "        self.fc = nn.Linear(hidden_dim, charset_size)\n",
        "\n",
        "    def forward(self, x, batch_size=1):\n",
        "        x = self.embedding(x.view(batch_size,-1))\n",
        "        x, _ = self.lstm(x)\n",
        "        x = self.fc(x)\n",
        "        # return x.view(batch_size,-1,self.charset_size)\n",
        "        return x.view(-1,self.charset_size)"
      ],
      "execution_count": null,
      "outputs": []
    },
    {
      "cell_type": "code",
      "metadata": {
        "id": "Bo8dZbP2x0Pr"
      },
      "source": [
        "class RunningAverage:\n",
        "    def __init__(self):\n",
        "        self.n=0\n",
        "        self.tot=0\n",
        "    \n",
        "    def add(self,x):\n",
        "        self.n += 1\n",
        "        self.tot += x\n",
        "        \n",
        "    def __call__(self):\n",
        "        return self.tot/self.n"
      ],
      "execution_count": null,
      "outputs": []
    },
    {
      "cell_type": "code",
      "metadata": {
        "id": "kTxGGn2J1YsE"
      },
      "source": [
        "tensorboard --logdir=runs"
      ],
      "execution_count": null,
      "outputs": []
    },
    {
      "cell_type": "code",
      "metadata": {
        "id": "mnCQlM_a_sBU"
      },
      "source": [
        "num_of_epochs = 20\n",
        "seq_length = 100\n",
        "batch_size=64\n",
        "embed_size=100\n",
        "hidden_dim=512*2\n",
        "net = LSTMCharPred(embed_size=embed_size, hidden_dim=hidden_dim, charset_size = num_of_characters).to(device)\n",
        "loss = nn.CrossEntropyLoss()\n",
        "optim = torch.optim.Adam(net.parameters(), lr=0.001) \n",
        "net.train()\n",
        "max_iter = int(len(all_text)/(batch_size*seq_length+1))\n",
        "\n",
        "for e in range(num_of_epochs):\n",
        "    train_acc = RunningAverage()\n",
        "    for i,txt in enumerate(sliced(all_text, batch_size*seq_length+1)):\n",
        "        if len(txt)<batch_size*seq_length+1:\n",
        "            break\n",
        "        txt = random_text(batch_size*seq_length+1,all_text)\n",
        "        x = torch.tensor([ctoi[c] for c in txt[:-1]], device = device)\n",
        "        t = torch.tensor([ctoi[c] for c in txt[1:]], device = device)\n",
        "        optim.zero_grad()\n",
        "        y = net(x,batch_size)\n",
        "        L = loss(y, t)\n",
        "        acc = sum(y.argmax(dim=1)==t).item()/(batch_size*seq_length)\n",
        "        train_acc.add(acc)\n",
        "        print(f\"\\rEpoch: {e}/{num_of_epochs} Iter: {i}/{max_iter}\\tacc={100*acc:0.2f}%\\tL={L}\", end=\"\")\n",
        "        # net.train(True)\n",
        "        L.backward()\n",
        "        optim.step()\n",
        "    print(f\"\\rEpoch: {e}/{num_of_epochs} Average acc: {train_acc()}\")"
      ],
      "execution_count": null,
      "outputs": []
    },
    {
      "cell_type": "code",
      "metadata": {
        "id": "IjZMBAn6ALCL"
      },
      "source": [
        "def generate_text(net, seed_txt, length=100):\n",
        "    seed_lst_idx = [ctoi[c] for c in seed_txt]\n",
        "    seed_idx = torch.tensor(seed_lst_idx, device = device)\n",
        "    # generated_text = generate_text(net, seed_idx, length=100)\n",
        "    net.train(False)\n",
        "    x=net.embedding(seed_idx.view(1,-1))\n",
        "    x,h = net.lstm(x)\n",
        "    x = net.fc(x)\n",
        "    out = x.argmax(dim=2).view(-1)\n",
        "    x = out[-1]\n",
        "    generated_text=[x.item()]\n",
        "    for i in range(length):\n",
        "        x=net.embedding(x.view(1,-1))\n",
        "        x,h = net.lstm(x,h)\n",
        "        x = net.fc(x)\n",
        "        x = x.argmax(dim=2).view(-1)\n",
        "        generated_text.append(x.item())\n",
        "    return  \"\".join(itoc[i] for i in seed_lst_idx+generated_text)\n"
      ],
      "execution_count": null,
      "outputs": []
    },
    {
      "cell_type": "code",
      "metadata": {
        "id": "LpcHXs1-NlnF"
      },
      "source": [
        "print(generate_text(net, \"Garments\", length=200))"
      ],
      "execution_count": null,
      "outputs": []
    },
    {
      "cell_type": "code",
      "metadata": {
        "id": "D9Q09K0_O19C"
      },
      "source": [
        "idx=all_text.index(\"Garments\")\n",
        "all_text[idx-100:idx+100]"
      ],
      "execution_count": null,
      "outputs": []
    },
    {
      "cell_type": "code",
      "metadata": {
        "id": "uo96Limu27jl"
      },
      "source": [
        ""
      ],
      "execution_count": null,
      "outputs": []
    }
  ]
}